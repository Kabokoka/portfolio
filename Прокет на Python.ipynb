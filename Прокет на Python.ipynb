{
 "cells": [
  {
   "cell_type": "markdown",
   "metadata": {},
   "source": [
    "<div class=\"alert alert-success\">\n",
    "<h2> Комментарий ревьюера</h2>\n",
    "    \n",
    "Привет! Меня зовут Алексей Тюрин, я буду делать ревью этой работы. Давай будем общаться на «ты».\n",
    "\n",
    "У тебя хорошая, внимательная работа 👍. Есть неточность при подсчёте выручки и что-то непонятное при тесте на равенство средних :) Как со всем разберешься -- буду рад принять работу.\n",
    "\n",
    "\n",
    "Зелёным цветом отмечены комментарии, не требующие правки. Жёлтым цветом выделено то, что в следующий раз можно сделать по-другому или можно поправить прямо сейчас.\n",
    "\n",
    "Давай работать над проектом в диалоге: если ты **что-то меняешь** в проекте по моим рекомендациям — **пиши об этом**. Выбери для своих комментариев какой-то заметный цвет, так мне будет легче отследить изменения. Пожалуйста, **не перемещай, не изменяй и не удаляй мои комментарии**. Всё это поможет выполнить повторную проверку твоего проекта оперативнее». Если оставляешь комментарии на какой-то итерации ревью, пиши что-то вроде `комментарий студента V.номер итерации`\n",
    "</div>\n",
    "\n",
    "Цвет можно сделать, например, так\n",
    "\n",
    "<div class = \"alert alert-info\" >\n",
    "<h2>Комментарий студента</h2>\n",
    "Ревьюер душнила :)\n",
    "</div>\n",
    "\n",
    "Или так:\n",
    "    \n",
    "<div class=\"alert alert-info\" style=\"background:pink;color:#A91E69\">\n",
    "<h2>Комментарий студента </h2>\n",
    "    ...\n",
    "</div>"
   ]
  },
  {
   "cell_type": "markdown",
   "metadata": {},
   "source": [
    "<div class=\"alert alert-info\">\n",
    "<h2>Комментарий студента, дубль 1</h2>\n",
    "Алексей, привет! Приятно снова работать с тобой над проектом :) Спасибо за развернутые пояснения, постаралась все поправить, правда, с тестами на равенство средних что-то пошло не так, нужен еще совет.\n",
    "</div>"
   ]
  },
  {
   "cell_type": "markdown",
   "metadata": {},
   "source": [
    "<div class=\"alert alert-success\">\n",
    "<h2>Комментарий ревьюера V.2</h2>\n",
    "\n",
    "Откомментил там, что осталось поправить и в чём была проблема в тестах, осталось поправить совсем немного :)\n",
    "</div>"
   ]
  },
  {
   "cell_type": "markdown",
   "metadata": {},
   "source": [
    "<div class=\"alert alert-success\">\n",
    "<h2>Комментарий ревьюера V.3</h2>\n",
    "\n",
    "Теперь всё верно :) Удачи в следующих спринтах\n",
    "</div>"
   ]
  },
  {
   "cell_type": "markdown",
   "metadata": {},
   "source": [
    "# Определение перспективного тарифа для телеком-компании"
   ]
  },
  {
   "cell_type": "markdown",
   "metadata": {},
   "source": [
    "**Описание проекта**\n",
    "\n",
    "Компания «Мегалайн», федеральный оператор сотовой связи, предлагает клиентам два тарифных плана: «Смарт» и «Ультра». Чтобы скорректировать рекламный бюджет, коммерческий департамент хочет понять, какой тариф приносит больше денег.\n",
    "\n",
    "Проведем предварительный анализ тарифов на небольшой выборке клиентов. В распоряжении данные 500 пользователей «Мегалайна»: кто они, откуда, каким тарифом пользуются, сколько звонков и сообщений каждый отправил за 2018 год. Нужно проанализировать поведение клиентов и сделать вывод — какой тариф лучше.\n",
    "\n",
    "**Описание тарифов**\n",
    "\n",
    "Тариф «Смарт»\n",
    "1.\tЕжемесячная плата: 550 рублей\n",
    "2.\tВключено 500 минут разговора, 50 сообщений и 15 Гб интернет-трафика\n",
    "3.\tСтоимость услуг сверх тарифного пакета:\n",
    "    - минута разговора: 3 рубля\n",
    "    - сообщение: 3 рубля\n",
    "    - 1 Гб интернет-трафика: 200 рублей\n",
    "\n",
    "Тариф «Ультра»\n",
    "1.\tЕжемесячная плата: 1950 рублей\n",
    "2.\tВключено 3000 минут разговора, 1000 сообщений и 30 Гб интернет-трафика\n",
    "3.\tСтоимость услуг сверх тарифного пакета:\n",
    "    - минута разговора: 1 рубль\n",
    "    - сообщение: 1 рубль\n",
    "    - 1 Гб интернет-трафика: 150 рублей\n"
   ]
  },
  {
   "cell_type": "markdown",
   "metadata": {},
   "source": [
    "## Изучение и предобработка данных"
   ]
  },
  {
   "cell_type": "markdown",
   "metadata": {},
   "source": [
    "### Изучим общую информацию"
   ]
  },
  {
   "cell_type": "code",
   "execution_count": 31,
   "metadata": {},
   "outputs": [
    {
     "name": "stdout",
     "output_type": "stream",
     "text": [
      "<class 'pandas.core.frame.DataFrame'>\n",
      "RangeIndex: 202607 entries, 0 to 202606\n",
      "Data columns (total 4 columns):\n",
      "id           202607 non-null object\n",
      "call_date    202607 non-null object\n",
      "duration     202607 non-null float64\n",
      "user_id      202607 non-null int64\n",
      "dtypes: float64(1), int64(1), object(2)\n",
      "memory usage: 6.2+ MB\n"
     ]
    },
    {
     "data": {
      "text/html": [
       "<div>\n",
       "<style scoped>\n",
       "    .dataframe tbody tr th:only-of-type {\n",
       "        vertical-align: middle;\n",
       "    }\n",
       "\n",
       "    .dataframe tbody tr th {\n",
       "        vertical-align: top;\n",
       "    }\n",
       "\n",
       "    .dataframe thead th {\n",
       "        text-align: right;\n",
       "    }\n",
       "</style>\n",
       "<table border=\"1\" class=\"dataframe\">\n",
       "  <thead>\n",
       "    <tr style=\"text-align: right;\">\n",
       "      <th></th>\n",
       "      <th>id</th>\n",
       "      <th>call_date</th>\n",
       "      <th>duration</th>\n",
       "      <th>user_id</th>\n",
       "    </tr>\n",
       "  </thead>\n",
       "  <tbody>\n",
       "    <tr>\n",
       "      <td>0</td>\n",
       "      <td>1000_0</td>\n",
       "      <td>2018-07-25</td>\n",
       "      <td>0.00</td>\n",
       "      <td>1000</td>\n",
       "    </tr>\n",
       "    <tr>\n",
       "      <td>1</td>\n",
       "      <td>1000_1</td>\n",
       "      <td>2018-08-17</td>\n",
       "      <td>0.00</td>\n",
       "      <td>1000</td>\n",
       "    </tr>\n",
       "    <tr>\n",
       "      <td>2</td>\n",
       "      <td>1000_2</td>\n",
       "      <td>2018-06-11</td>\n",
       "      <td>2.85</td>\n",
       "      <td>1000</td>\n",
       "    </tr>\n",
       "    <tr>\n",
       "      <td>3</td>\n",
       "      <td>1000_3</td>\n",
       "      <td>2018-09-21</td>\n",
       "      <td>13.80</td>\n",
       "      <td>1000</td>\n",
       "    </tr>\n",
       "    <tr>\n",
       "      <td>4</td>\n",
       "      <td>1000_4</td>\n",
       "      <td>2018-12-15</td>\n",
       "      <td>5.18</td>\n",
       "      <td>1000</td>\n",
       "    </tr>\n",
       "  </tbody>\n",
       "</table>\n",
       "</div>"
      ],
      "text/plain": [
       "       id   call_date  duration  user_id\n",
       "0  1000_0  2018-07-25      0.00     1000\n",
       "1  1000_1  2018-08-17      0.00     1000\n",
       "2  1000_2  2018-06-11      2.85     1000\n",
       "3  1000_3  2018-09-21     13.80     1000\n",
       "4  1000_4  2018-12-15      5.18     1000"
      ]
     },
     "execution_count": 31,
     "metadata": {},
     "output_type": "execute_result"
    }
   ],
   "source": [
    "import pandas as pd\n",
    "df_calls = pd.read_csv('/datasets/calls.csv')\n",
    "df_calls.info()\n",
    "df_calls.head()\n",
    "#df_calls.describe()"
   ]
  },
  {
   "cell_type": "markdown",
   "metadata": {},
   "source": [
    "В таблице с данными по звонкам 202 607 записей и 3 типа данных: float64, int64, object. 4 столбца. Максималная длительность звонка: 38 минут, минимальная - 0 (не дозвонились или сбросили, например), среднее значение длительности - 6,8 минут. Пропусков нет. У столбца 'id' нечисловое значение, это будет встречаться еще в нескольких таблицах. На первый взгляд, для расчетов эти индексы не пригодятся, нам главное иметь под рукой 'user_id'."
   ]
  },
  {
   "cell_type": "code",
   "execution_count": 32,
   "metadata": {},
   "outputs": [
    {
     "name": "stdout",
     "output_type": "stream",
     "text": [
      "<class 'pandas.core.frame.DataFrame'>\n",
      "RangeIndex: 149396 entries, 0 to 149395\n",
      "Data columns (total 5 columns):\n",
      "Unnamed: 0      149396 non-null int64\n",
      "id              149396 non-null object\n",
      "mb_used         149396 non-null float64\n",
      "session_date    149396 non-null object\n",
      "user_id         149396 non-null int64\n",
      "dtypes: float64(1), int64(2), object(2)\n",
      "memory usage: 5.7+ MB\n"
     ]
    },
    {
     "data": {
      "text/html": [
       "<div>\n",
       "<style scoped>\n",
       "    .dataframe tbody tr th:only-of-type {\n",
       "        vertical-align: middle;\n",
       "    }\n",
       "\n",
       "    .dataframe tbody tr th {\n",
       "        vertical-align: top;\n",
       "    }\n",
       "\n",
       "    .dataframe thead th {\n",
       "        text-align: right;\n",
       "    }\n",
       "</style>\n",
       "<table border=\"1\" class=\"dataframe\">\n",
       "  <thead>\n",
       "    <tr style=\"text-align: right;\">\n",
       "      <th></th>\n",
       "      <th>Unnamed: 0</th>\n",
       "      <th>id</th>\n",
       "      <th>mb_used</th>\n",
       "      <th>session_date</th>\n",
       "      <th>user_id</th>\n",
       "    </tr>\n",
       "  </thead>\n",
       "  <tbody>\n",
       "    <tr>\n",
       "      <td>0</td>\n",
       "      <td>0</td>\n",
       "      <td>1000_0</td>\n",
       "      <td>112.95</td>\n",
       "      <td>2018-11-25</td>\n",
       "      <td>1000</td>\n",
       "    </tr>\n",
       "    <tr>\n",
       "      <td>1</td>\n",
       "      <td>1</td>\n",
       "      <td>1000_1</td>\n",
       "      <td>1052.81</td>\n",
       "      <td>2018-09-07</td>\n",
       "      <td>1000</td>\n",
       "    </tr>\n",
       "    <tr>\n",
       "      <td>2</td>\n",
       "      <td>2</td>\n",
       "      <td>1000_2</td>\n",
       "      <td>1197.26</td>\n",
       "      <td>2018-06-25</td>\n",
       "      <td>1000</td>\n",
       "    </tr>\n",
       "    <tr>\n",
       "      <td>3</td>\n",
       "      <td>3</td>\n",
       "      <td>1000_3</td>\n",
       "      <td>550.27</td>\n",
       "      <td>2018-08-22</td>\n",
       "      <td>1000</td>\n",
       "    </tr>\n",
       "    <tr>\n",
       "      <td>4</td>\n",
       "      <td>4</td>\n",
       "      <td>1000_4</td>\n",
       "      <td>302.56</td>\n",
       "      <td>2018-09-24</td>\n",
       "      <td>1000</td>\n",
       "    </tr>\n",
       "  </tbody>\n",
       "</table>\n",
       "</div>"
      ],
      "text/plain": [
       "   Unnamed: 0      id  mb_used session_date  user_id\n",
       "0           0  1000_0   112.95   2018-11-25     1000\n",
       "1           1  1000_1  1052.81   2018-09-07     1000\n",
       "2           2  1000_2  1197.26   2018-06-25     1000\n",
       "3           3  1000_3   550.27   2018-08-22     1000\n",
       "4           4  1000_4   302.56   2018-09-24     1000"
      ]
     },
     "execution_count": 32,
     "metadata": {},
     "output_type": "execute_result"
    }
   ],
   "source": [
    "df_internet = pd.read_csv('/datasets/internet.csv')\n",
    "df_internet.info()\n",
    "df_internet.head()\n",
    "#df_internet.describe()"
   ]
  },
  {
   "cell_type": "markdown",
   "metadata": {},
   "source": [
    "В таблице с данными про использование мобильного интернета 149 396 записей, 3 типа данных: float64, int64, object. 5 столбцов, среди них сомнительный \"Unnamed: 0\". В среднем пользователи тратят 74 697.5 Мб, максимальное значение - 149 395 Мб, минимальное - 0 (пользователь мог уехать в тайгу или Гималаи, отключить мобильный интернет или купить кнопочный телефон). Пропусков нет."
   ]
  },
  {
   "cell_type": "markdown",
   "metadata": {},
   "source": [
    "<div class=\"alert alert-success\">\n",
    "    <h2>Комментарий ревьюера</h2>\n",
    "    \n",
    "`Unnamed: 0` возникает, когда данные сохраняют с указанием индекса `pd.DataFrame().to_csv(..., index=column)`. Если при чтении указать этот столбец `pd.read_csv(..., index_col=0)` - данные сразу прочитаются корректно.\n",
    "    \n",
    "</div>    "
   ]
  },
  {
   "cell_type": "markdown",
   "metadata": {},
   "source": [
    "<div class=\"alert alert-info\">\n",
    "<h2>Комментарий ревьюера</h2>\n",
    "Принято, спасибо!    \n",
    "</div>  "
   ]
  },
  {
   "cell_type": "code",
   "execution_count": 33,
   "metadata": {},
   "outputs": [
    {
     "name": "stdout",
     "output_type": "stream",
     "text": [
      "<class 'pandas.core.frame.DataFrame'>\n",
      "RangeIndex: 123036 entries, 0 to 123035\n",
      "Data columns (total 3 columns):\n",
      "id              123036 non-null object\n",
      "message_date    123036 non-null object\n",
      "user_id         123036 non-null int64\n",
      "dtypes: int64(1), object(2)\n",
      "memory usage: 2.8+ MB\n"
     ]
    },
    {
     "data": {
      "text/html": [
       "<div>\n",
       "<style scoped>\n",
       "    .dataframe tbody tr th:only-of-type {\n",
       "        vertical-align: middle;\n",
       "    }\n",
       "\n",
       "    .dataframe tbody tr th {\n",
       "        vertical-align: top;\n",
       "    }\n",
       "\n",
       "    .dataframe thead th {\n",
       "        text-align: right;\n",
       "    }\n",
       "</style>\n",
       "<table border=\"1\" class=\"dataframe\">\n",
       "  <thead>\n",
       "    <tr style=\"text-align: right;\">\n",
       "      <th></th>\n",
       "      <th>user_id</th>\n",
       "    </tr>\n",
       "  </thead>\n",
       "  <tbody>\n",
       "    <tr>\n",
       "      <td>count</td>\n",
       "      <td>123036.000000</td>\n",
       "    </tr>\n",
       "    <tr>\n",
       "      <td>mean</td>\n",
       "      <td>1256.989410</td>\n",
       "    </tr>\n",
       "    <tr>\n",
       "      <td>std</td>\n",
       "      <td>143.523967</td>\n",
       "    </tr>\n",
       "    <tr>\n",
       "      <td>min</td>\n",
       "      <td>1000.000000</td>\n",
       "    </tr>\n",
       "    <tr>\n",
       "      <td>25%</td>\n",
       "      <td>1134.000000</td>\n",
       "    </tr>\n",
       "    <tr>\n",
       "      <td>50%</td>\n",
       "      <td>1271.000000</td>\n",
       "    </tr>\n",
       "    <tr>\n",
       "      <td>75%</td>\n",
       "      <td>1381.000000</td>\n",
       "    </tr>\n",
       "    <tr>\n",
       "      <td>max</td>\n",
       "      <td>1499.000000</td>\n",
       "    </tr>\n",
       "  </tbody>\n",
       "</table>\n",
       "</div>"
      ],
      "text/plain": [
       "             user_id\n",
       "count  123036.000000\n",
       "mean     1256.989410\n",
       "std       143.523967\n",
       "min      1000.000000\n",
       "25%      1134.000000\n",
       "50%      1271.000000\n",
       "75%      1381.000000\n",
       "max      1499.000000"
      ]
     },
     "execution_count": 33,
     "metadata": {},
     "output_type": "execute_result"
    }
   ],
   "source": [
    "df_messages = pd.read_csv('/datasets/messages.csv')\n",
    "df_messages.info()\n",
    "df_messages.head()\n",
    "df_messages.describe()"
   ]
  },
  {
   "cell_type": "markdown",
   "metadata": {},
   "source": [
    "В таблице \"messages\" 123 036 записи, 2 типа данных: int64, object. 3 столбца. Количество сообщений неизвестно, только дата отправки. Примем, что дата отправки и id подскажут о количестве. Пропусков нет."
   ]
  },
  {
   "cell_type": "code",
   "execution_count": 34,
   "metadata": {},
   "outputs": [
    {
     "name": "stdout",
     "output_type": "stream",
     "text": [
      "<class 'pandas.core.frame.DataFrame'>\n",
      "RangeIndex: 2 entries, 0 to 1\n",
      "Data columns (total 8 columns):\n",
      "messages_included        2 non-null int64\n",
      "mb_per_month_included    2 non-null int64\n",
      "minutes_included         2 non-null int64\n",
      "rub_monthly_fee          2 non-null int64\n",
      "rub_per_gb               2 non-null int64\n",
      "rub_per_message          2 non-null int64\n",
      "rub_per_minute           2 non-null int64\n",
      "tariff_name              2 non-null object\n",
      "dtypes: int64(7), object(1)\n",
      "memory usage: 256.0+ bytes\n"
     ]
    },
    {
     "data": {
      "text/html": [
       "<div>\n",
       "<style scoped>\n",
       "    .dataframe tbody tr th:only-of-type {\n",
       "        vertical-align: middle;\n",
       "    }\n",
       "\n",
       "    .dataframe tbody tr th {\n",
       "        vertical-align: top;\n",
       "    }\n",
       "\n",
       "    .dataframe thead th {\n",
       "        text-align: right;\n",
       "    }\n",
       "</style>\n",
       "<table border=\"1\" class=\"dataframe\">\n",
       "  <thead>\n",
       "    <tr style=\"text-align: right;\">\n",
       "      <th></th>\n",
       "      <th>messages_included</th>\n",
       "      <th>mb_per_month_included</th>\n",
       "      <th>minutes_included</th>\n",
       "      <th>rub_monthly_fee</th>\n",
       "      <th>rub_per_gb</th>\n",
       "      <th>rub_per_message</th>\n",
       "      <th>rub_per_minute</th>\n",
       "      <th>tariff_name</th>\n",
       "    </tr>\n",
       "  </thead>\n",
       "  <tbody>\n",
       "    <tr>\n",
       "      <td>0</td>\n",
       "      <td>50</td>\n",
       "      <td>15360</td>\n",
       "      <td>500</td>\n",
       "      <td>550</td>\n",
       "      <td>200</td>\n",
       "      <td>3</td>\n",
       "      <td>3</td>\n",
       "      <td>smart</td>\n",
       "    </tr>\n",
       "    <tr>\n",
       "      <td>1</td>\n",
       "      <td>1000</td>\n",
       "      <td>30720</td>\n",
       "      <td>3000</td>\n",
       "      <td>1950</td>\n",
       "      <td>150</td>\n",
       "      <td>1</td>\n",
       "      <td>1</td>\n",
       "      <td>ultra</td>\n",
       "    </tr>\n",
       "  </tbody>\n",
       "</table>\n",
       "</div>"
      ],
      "text/plain": [
       "   messages_included  mb_per_month_included  minutes_included  \\\n",
       "0                 50                  15360               500   \n",
       "1               1000                  30720              3000   \n",
       "\n",
       "   rub_monthly_fee  rub_per_gb  rub_per_message  rub_per_minute tariff_name  \n",
       "0              550         200                3               3       smart  \n",
       "1             1950         150                1               1       ultra  "
      ]
     },
     "execution_count": 34,
     "metadata": {},
     "output_type": "execute_result"
    }
   ],
   "source": [
    "df_tariffs = pd.read_csv('/datasets/tariffs.csv')\n",
    "df_tariffs.info()\n",
    "df_tariffs.head()\n",
    "#df_calls.describe()"
   ]
  },
  {
   "cell_type": "markdown",
   "metadata": {},
   "source": [
    "В таблице с тарифами больше всего столбцов - 8, меньше всего строк - 2. Это общее описание двух тарифов."
   ]
  },
  {
   "cell_type": "code",
   "execution_count": 35,
   "metadata": {},
   "outputs": [
    {
     "name": "stdout",
     "output_type": "stream",
     "text": [
      "<class 'pandas.core.frame.DataFrame'>\n",
      "RangeIndex: 500 entries, 0 to 499\n",
      "Data columns (total 8 columns):\n",
      "user_id       500 non-null int64\n",
      "age           500 non-null int64\n",
      "churn_date    38 non-null object\n",
      "city          500 non-null object\n",
      "first_name    500 non-null object\n",
      "last_name     500 non-null object\n",
      "reg_date      500 non-null object\n",
      "tariff        500 non-null object\n",
      "dtypes: int64(2), object(6)\n",
      "memory usage: 31.4+ KB\n"
     ]
    },
    {
     "data": {
      "text/html": [
       "<div>\n",
       "<style scoped>\n",
       "    .dataframe tbody tr th:only-of-type {\n",
       "        vertical-align: middle;\n",
       "    }\n",
       "\n",
       "    .dataframe tbody tr th {\n",
       "        vertical-align: top;\n",
       "    }\n",
       "\n",
       "    .dataframe thead th {\n",
       "        text-align: right;\n",
       "    }\n",
       "</style>\n",
       "<table border=\"1\" class=\"dataframe\">\n",
       "  <thead>\n",
       "    <tr style=\"text-align: right;\">\n",
       "      <th></th>\n",
       "      <th>user_id</th>\n",
       "      <th>age</th>\n",
       "      <th>churn_date</th>\n",
       "      <th>city</th>\n",
       "      <th>first_name</th>\n",
       "      <th>last_name</th>\n",
       "      <th>reg_date</th>\n",
       "      <th>tariff</th>\n",
       "    </tr>\n",
       "  </thead>\n",
       "  <tbody>\n",
       "    <tr>\n",
       "      <td>0</td>\n",
       "      <td>1000</td>\n",
       "      <td>52</td>\n",
       "      <td>NaN</td>\n",
       "      <td>Краснодар</td>\n",
       "      <td>Рафаил</td>\n",
       "      <td>Верещагин</td>\n",
       "      <td>2018-05-25</td>\n",
       "      <td>ultra</td>\n",
       "    </tr>\n",
       "    <tr>\n",
       "      <td>1</td>\n",
       "      <td>1001</td>\n",
       "      <td>41</td>\n",
       "      <td>NaN</td>\n",
       "      <td>Москва</td>\n",
       "      <td>Иван</td>\n",
       "      <td>Ежов</td>\n",
       "      <td>2018-11-01</td>\n",
       "      <td>smart</td>\n",
       "    </tr>\n",
       "    <tr>\n",
       "      <td>2</td>\n",
       "      <td>1002</td>\n",
       "      <td>59</td>\n",
       "      <td>NaN</td>\n",
       "      <td>Стерлитамак</td>\n",
       "      <td>Евгений</td>\n",
       "      <td>Абрамович</td>\n",
       "      <td>2018-06-17</td>\n",
       "      <td>smart</td>\n",
       "    </tr>\n",
       "    <tr>\n",
       "      <td>3</td>\n",
       "      <td>1003</td>\n",
       "      <td>23</td>\n",
       "      <td>NaN</td>\n",
       "      <td>Москва</td>\n",
       "      <td>Белла</td>\n",
       "      <td>Белякова</td>\n",
       "      <td>2018-08-17</td>\n",
       "      <td>ultra</td>\n",
       "    </tr>\n",
       "    <tr>\n",
       "      <td>4</td>\n",
       "      <td>1004</td>\n",
       "      <td>68</td>\n",
       "      <td>NaN</td>\n",
       "      <td>Новокузнецк</td>\n",
       "      <td>Татьяна</td>\n",
       "      <td>Авдеенко</td>\n",
       "      <td>2018-05-14</td>\n",
       "      <td>ultra</td>\n",
       "    </tr>\n",
       "  </tbody>\n",
       "</table>\n",
       "</div>"
      ],
      "text/plain": [
       "   user_id  age churn_date         city first_name  last_name    reg_date  \\\n",
       "0     1000   52        NaN    Краснодар     Рафаил  Верещагин  2018-05-25   \n",
       "1     1001   41        NaN       Москва       Иван       Ежов  2018-11-01   \n",
       "2     1002   59        NaN  Стерлитамак    Евгений  Абрамович  2018-06-17   \n",
       "3     1003   23        NaN       Москва      Белла   Белякова  2018-08-17   \n",
       "4     1004   68        NaN  Новокузнецк    Татьяна   Авдеенко  2018-05-14   \n",
       "\n",
       "  tariff  \n",
       "0  ultra  \n",
       "1  smart  \n",
       "2  smart  \n",
       "3  ultra  \n",
       "4  ultra  "
      ]
     },
     "execution_count": 35,
     "metadata": {},
     "output_type": "execute_result"
    }
   ],
   "source": [
    "df_users = pd.read_csv('/datasets/users.csv')\n",
    "df_users.info()\n",
    "df_users.head()\n",
    "#df_calls.describe()"
   ]
  },
  {
   "cell_type": "markdown",
   "metadata": {},
   "source": [
    "В таблице с пользователями 500 строк, 2 типа данных: int64, object. В столбце с датой прекращения пользования тарифом 462 NaN, т.е. у большинства тариф ещё действовал на момент выгрузки данных. Здесь есть данные по возрасту, городу, ФИО, дате начала использования тарифа и сам тариф."
   ]
  },
  {
   "cell_type": "markdown",
   "metadata": {},
   "source": [
    "## Посмотрим на данные"
   ]
  },
  {
   "cell_type": "code",
   "execution_count": 36,
   "metadata": {},
   "outputs": [
    {
     "data": {
      "image/png": "[encoded data removed]",
      "text/plain": [
       "<Figure size 432x288 with 1 Axes>"
      ]
     },
     "metadata": {
      "needs_background": "light"
     },
     "output_type": "display_data"
    }
   ],
   "source": [
    "#построим гистограммы, посмотрим на данные\n",
    "import matplotlib.pyplot as plt\n",
    "df_calls['duration'].hist(bins=20, range = (0, 38))\n",
    "plt.title('Гистограмма длительности звонков')\n",
    "plt.ylabel(\"Количество\")\n",
    "plt.xlabel(\"Длительность, мин\") \n",
    "plt.show()"
   ]
  },
  {
   "cell_type": "markdown",
   "metadata": {},
   "source": [
    "Пик значений - 0 минут, т.е. 0 секунд, учитывая способ округления оператора. Здесь может быть ряд гипотез: нежелательные или обычные звонки, которые сбрасывались, сбои связи, сбой в выгрузке. Стоит уточнить у коллег, которые делали выгрузку."
   ]
  },
  {
   "cell_type": "markdown",
   "metadata": {},
   "source": [
    "<div class=\"alert alert-success\">\n",
    "<h2>Комментарий ревьюера</h2>\n",
    "\n",
    "Ну тут всё таки пик не ноль, а окрестность нуля, которая и 1 минуту влючает тоже, т.к. у тебя 20 `bins` на `range` в 38\n",
    "\n",
    "Ниже видно что пик там-же, но уже включает меньше точек, вообще чтобы нулевые звонки посмотреть надо их взять отдельно, потому что с `bins` сложно такую гранулярность получить (но их всё равно больше всех)\n",
    "</div>"
   ]
  },
  {
   "cell_type": "code",
   "execution_count": 37,
   "metadata": {},
   "outputs": [
    {
     "data": {
      "image/png": "[encoded data removed]",
      "text/plain": [
       "<Figure size 432x288 with 1 Axes>"
      ]
     },
     "metadata": {
      "needs_background": "light"
     },
     "output_type": "display_data"
    }
   ],
   "source": [
    "#Код ревьюера\n",
    "df_calls['duration'].hist(bins=39, range = (0, 38))\n",
    "plt.title('Гистограмма длительности звонков')\n",
    "plt.ylabel(\"Количество\")\n",
    "plt.xlabel(\"Длительность, мин\") \n",
    "plt.show()"
   ]
  },
  {
   "cell_type": "markdown",
   "metadata": {},
   "source": [
    "<div class=\"alert alert-info\">\n",
    "<h2>Комментарий студента, дубль 1</h2>\n",
    "Спасибо!\n",
    "</div>"
   ]
  },
  {
   "cell_type": "code",
   "execution_count": 38,
   "metadata": {},
   "outputs": [
    {
     "data": {
      "image/png": "[encoded data removed]",
      "text/plain": [
       "<Figure size 432x288 with 1 Axes>"
      ]
     },
     "metadata": {
      "needs_background": "light"
     },
     "output_type": "display_data"
    }
   ],
   "source": [
    "df_internet['mb_used'].hist(bins=10, range = (0, 1500))\n",
    "plt.title('Гистограмма мобильного интернета')\n",
    "plt.ylabel(\"Количество сессий\")\n",
    "plt.xlabel(\"Объем, Мб\")\n",
    "plt.show()"
   ]
  },
  {
   "cell_type": "markdown",
   "metadata": {},
   "source": [
    "Снова виден пик значений на 0, т.е. большое количество пользователей по данным из выгрузки не пользуются мобильным интернетом. Это может быть связано с любовью к Wi-Fi, географией и состоянием сети, моделями телефонов или сбоем в выгрузке. Более 1400 Мб тратят крайне редно, так что максимальное значение в 149 395 Мб - явный выброс."
   ]
  },
  {
   "cell_type": "code",
   "execution_count": 39,
   "metadata": {},
   "outputs": [
    {
     "data": {
      "image/png": "[encoded data removed]",
      "text/plain": [
       "<Figure size 432x288 with 1 Axes>"
      ]
     },
     "metadata": {
      "needs_background": "light"
     },
     "output_type": "display_data"
    },
    {
     "name": "stdout",
     "output_type": "stream",
     "text": [
      "18\n",
      "75\n"
     ]
    }
   ],
   "source": [
    "df_users['age'].hist(bins=10, range = (0, 90))\n",
    "plt.title('Гистограмма возраста клиентов')\n",
    "plt.ylabel(\"Частота\")\n",
    "plt.xlabel(\"Возраст, годы\")\n",
    "plt.show()\n",
    "print(df_users['age'].min())\n",
    "print(df_users['age'].max())"
   ]
  },
  {
   "cell_type": "markdown",
   "metadata": {},
   "source": [
    "Услугами опертора пользуются и стар, и млад: от 18 до 75 лет."
   ]
  },
  {
   "cell_type": "code",
   "execution_count": 40,
   "metadata": {},
   "outputs": [
    {
     "data": {
      "text/plain": [
       "array(['Краснодар', 'Москва', 'Стерлитамак', 'Новокузнецк',\n",
       "       'Набережные Челны', 'Ульяновск', 'Челябинск', 'Пермь', 'Тюмень',\n",
       "       'Самара', 'Санкт-Петербург', 'Иваново', 'Чебоксары', 'Омск', 'Уфа',\n",
       "       'Томск', 'Чита', 'Мурманск', 'Петрозаводск', 'Тверь',\n",
       "       'Екатеринбург', 'Махачкала', 'Вологда', 'Череповец', 'Ярославль',\n",
       "       'Сочи', 'Хабаровск', 'Ставрополь', 'Рязань', 'Улан-Удэ', 'Тула',\n",
       "       'Саратов', 'Ростов-на-Дону', 'Казань', 'Иркутск', 'Курск',\n",
       "       'Калуга', 'Якутск', 'Астрахань', 'Химки', 'Владикавказ',\n",
       "       'Волгоград', 'Саранск', 'Ижевск', 'Новосибирск', 'Брянск',\n",
       "       'Тольятти', 'Нижний Тагил', 'Орёл', 'Белгород', 'Воронеж',\n",
       "       'Волжский', 'Курган', 'Барнаул', 'Красноярск', 'Архангельск',\n",
       "       'Липецк', 'Кемерово', 'Киров', 'Сургут', 'Пенза', 'Магнитогорск',\n",
       "       'Нижний Новгород', 'Кострома', 'Владивосток', 'Тамбов', 'Балашиха',\n",
       "       'Севастополь', 'Калининград', 'Оренбург', 'Смоленск',\n",
       "       'Нижневартовск', 'Владимир', 'Новороссийск', 'Грозный', 'Подольск'],\n",
       "      dtype=object)"
      ]
     },
     "execution_count": 40,
     "metadata": {},
     "output_type": "execute_result"
    }
   ],
   "source": [
    "#посмотрим на географию, проверим, все ли в порядке\n",
    "df_users['city'].unique()"
   ]
  },
  {
   "cell_type": "code",
   "execution_count": 41,
   "metadata": {},
   "outputs": [
    {
     "name": "stdout",
     "output_type": "stream",
     "text": [
      "city\n",
      "Москва              99\n",
      "Санкт-Петербург     39\n",
      "Новосибирск         16\n",
      "Омск                14\n",
      "Казань              14\n",
      "Уфа                 12\n",
      "Екатеринбург        11\n",
      "Ульяновск           11\n",
      "Набережные Челны    11\n",
      "Краснодар           11\n",
      "Name: city, dtype: int64\n"
     ]
    }
   ],
   "source": [
    "top_10_cities = df_users.groupby('city')['city'].count()\n",
    "print(top_10_cities.sort_values(ascending = False).head(10))"
   ]
  },
  {
   "cell_type": "markdown",
   "metadata": {},
   "source": [
    "Больше всего данных по пользователям в Москве, Санкт-Петербурге и Новосибирске.  "
   ]
  },
  {
   "cell_type": "markdown",
   "metadata": {},
   "source": [
    "## Проанализируем количество звонков, сообщений и трафика по месяцам"
   ]
  },
  {
   "cell_type": "markdown",
   "metadata": {},
   "source": [
    "### Количество сделанных звонков и израсходованных минут разговора по месяцам"
   ]
  },
  {
   "cell_type": "code",
   "execution_count": 42,
   "metadata": {},
   "outputs": [],
   "source": [
    "#для аналатики по месяцам выделим их из столбца с датами\n",
    "\n",
    "df_calls['call_date'] = pd.to_datetime(df_calls['call_date'], format='%Y-%m-%d')\n",
    "df_calls['month'] = df_calls['call_date'].dt.month\n",
    "#print(df_calls.head()) #проверили, готово\n",
    "\n",
    "#округлим минуты\n",
    "\n",
    "from math import ceil\n",
    "df_calls['duration_round'] = df_calls['duration'].apply(ceil)\n",
    "\n",
    "#проверим\n",
    "#df_calls.head()\n",
    "\n",
    "#теперь построим сводную таблицу для звонков по месяцам\n",
    "#calls_min = df_calls.pivot_table(index = ['user_id', 'month'], values = 'duration_round', aggfunc = ['count', 'sum']).reset_index()\n",
    "#calls_min.head()"
   ]
  },
  {
   "cell_type": "markdown",
   "metadata": {},
   "source": [
    "<div class=\"alert alert-success\">\n",
    "<h2>Комментарий ревьюера</h2>\n",
    "\n",
    "Таблички лучше выводить, используя `display` вместо `print`. Чтобы использовать `month` нужно быть уверенной, что все сессии лежат в пределах одного года, т.к. `month` вернёт один месяц для, например, января 2018 и января 2019 года, или можно использовать `astype('datetime64[M]')` -- он вернёт месяц вместе с годом\n",
    "</div>"
   ]
  },
  {
   "cell_type": "markdown",
   "metadata": {},
   "source": [
    "<div class=\"alert alert-info\">\n",
    "<h2>Комментарий студента, дубль 1</h2>\n",
    "\n",
    "Поняла, спасибо!\n",
    "</div>"
   ]
  },
  {
   "cell_type": "code",
   "execution_count": 43,
   "metadata": {},
   "outputs": [
    {
     "data": {
      "text/html": [
       "<div>\n",
       "<style scoped>\n",
       "    .dataframe tbody tr th:only-of-type {\n",
       "        vertical-align: middle;\n",
       "    }\n",
       "\n",
       "    .dataframe tbody tr th {\n",
       "        vertical-align: top;\n",
       "    }\n",
       "\n",
       "    .dataframe thead tr th {\n",
       "        text-align: left;\n",
       "    }\n",
       "</style>\n",
       "<table border=\"1\" class=\"dataframe\">\n",
       "  <thead>\n",
       "    <tr>\n",
       "      <th></th>\n",
       "      <th>user_id</th>\n",
       "      <th>month</th>\n",
       "      <th>count</th>\n",
       "      <th>sum</th>\n",
       "    </tr>\n",
       "    <tr>\n",
       "      <th></th>\n",
       "      <th></th>\n",
       "      <th></th>\n",
       "      <th>duration_round</th>\n",
       "      <th>duration_round</th>\n",
       "    </tr>\n",
       "  </thead>\n",
       "  <tbody>\n",
       "    <tr>\n",
       "      <td>0</td>\n",
       "      <td>1000</td>\n",
       "      <td>5</td>\n",
       "      <td>17</td>\n",
       "      <td>159</td>\n",
       "    </tr>\n",
       "    <tr>\n",
       "      <td>1</td>\n",
       "      <td>1000</td>\n",
       "      <td>6</td>\n",
       "      <td>28</td>\n",
       "      <td>172</td>\n",
       "    </tr>\n",
       "    <tr>\n",
       "      <td>2</td>\n",
       "      <td>1000</td>\n",
       "      <td>7</td>\n",
       "      <td>41</td>\n",
       "      <td>340</td>\n",
       "    </tr>\n",
       "    <tr>\n",
       "      <td>3</td>\n",
       "      <td>1000</td>\n",
       "      <td>8</td>\n",
       "      <td>42</td>\n",
       "      <td>408</td>\n",
       "    </tr>\n",
       "    <tr>\n",
       "      <td>4</td>\n",
       "      <td>1000</td>\n",
       "      <td>9</td>\n",
       "      <td>46</td>\n",
       "      <td>466</td>\n",
       "    </tr>\n",
       "  </tbody>\n",
       "</table>\n",
       "</div>"
      ],
      "text/plain": [
       "  user_id month          count            sum\n",
       "                duration_round duration_round\n",
       "0    1000     5             17            159\n",
       "1    1000     6             28            172\n",
       "2    1000     7             41            340\n",
       "3    1000     8             42            408\n",
       "4    1000     9             46            466"
      ]
     },
     "execution_count": 43,
     "metadata": {},
     "output_type": "execute_result"
    }
   ],
   "source": [
    "#отсечем звонки длительностью 0 секунд/минут\n",
    "\n",
    "calls_min = df_calls.query('duration_round > 0').pivot_table(index = ['user_id', 'month'], values = 'duration_round', aggfunc = ['count', 'sum']).reset_index()\n",
    "calls_min.head()"
   ]
  },
  {
   "cell_type": "code",
   "execution_count": 44,
   "metadata": {},
   "outputs": [
    {
     "data": {
      "text/html": [
       "<div>\n",
       "<style scoped>\n",
       "    .dataframe tbody tr th:only-of-type {\n",
       "        vertical-align: middle;\n",
       "    }\n",
       "\n",
       "    .dataframe tbody tr th {\n",
       "        vertical-align: top;\n",
       "    }\n",
       "\n",
       "    .dataframe thead tr th {\n",
       "        text-align: left;\n",
       "    }\n",
       "</style>\n",
       "<table border=\"1\" class=\"dataframe\">\n",
       "  <thead>\n",
       "    <tr>\n",
       "      <th></th>\n",
       "      <th>user_id</th>\n",
       "      <th>month</th>\n",
       "      <th>count</th>\n",
       "      <th>sum</th>\n",
       "    </tr>\n",
       "    <tr>\n",
       "      <th></th>\n",
       "      <th></th>\n",
       "      <th></th>\n",
       "      <th>duration_round</th>\n",
       "      <th>duration_round</th>\n",
       "    </tr>\n",
       "  </thead>\n",
       "  <tbody>\n",
       "    <tr>\n",
       "      <td>count</td>\n",
       "      <td>3168.000000</td>\n",
       "      <td>3168.000000</td>\n",
       "      <td>3168.000000</td>\n",
       "      <td>3168.000000</td>\n",
       "    </tr>\n",
       "    <tr>\n",
       "      <td>mean</td>\n",
       "      <td>1251.477588</td>\n",
       "      <td>8.317551</td>\n",
       "      <td>51.450126</td>\n",
       "      <td>457.797033</td>\n",
       "    </tr>\n",
       "    <tr>\n",
       "      <td>std</td>\n",
       "      <td>144.574946</td>\n",
       "      <td>2.907181</td>\n",
       "      <td>26.439188</td>\n",
       "      <td>237.423514</td>\n",
       "    </tr>\n",
       "    <tr>\n",
       "      <td>min</td>\n",
       "      <td>1000.000000</td>\n",
       "      <td>1.000000</td>\n",
       "      <td>1.000000</td>\n",
       "      <td>1.000000</td>\n",
       "    </tr>\n",
       "    <tr>\n",
       "      <td>25%</td>\n",
       "      <td>1126.000000</td>\n",
       "      <td>6.000000</td>\n",
       "      <td>33.000000</td>\n",
       "      <td>290.750000</td>\n",
       "    </tr>\n",
       "    <tr>\n",
       "      <td>50%</td>\n",
       "      <td>1254.000000</td>\n",
       "      <td>9.000000</td>\n",
       "      <td>50.000000</td>\n",
       "      <td>447.500000</td>\n",
       "    </tr>\n",
       "    <tr>\n",
       "      <td>75%</td>\n",
       "      <td>1379.000000</td>\n",
       "      <td>11.000000</td>\n",
       "      <td>67.000000</td>\n",
       "      <td>592.250000</td>\n",
       "    </tr>\n",
       "    <tr>\n",
       "      <td>max</td>\n",
       "      <td>1499.000000</td>\n",
       "      <td>12.000000</td>\n",
       "      <td>190.000000</td>\n",
       "      <td>1673.000000</td>\n",
       "    </tr>\n",
       "  </tbody>\n",
       "</table>\n",
       "</div>"
      ],
      "text/plain": [
       "           user_id        month          count            sum\n",
       "                                duration_round duration_round\n",
       "count  3168.000000  3168.000000    3168.000000    3168.000000\n",
       "mean   1251.477588     8.317551      51.450126     457.797033\n",
       "std     144.574946     2.907181      26.439188     237.423514\n",
       "min    1000.000000     1.000000       1.000000       1.000000\n",
       "25%    1126.000000     6.000000      33.000000     290.750000\n",
       "50%    1254.000000     9.000000      50.000000     447.500000\n",
       "75%    1379.000000    11.000000      67.000000     592.250000\n",
       "max    1499.000000    12.000000     190.000000    1673.000000"
      ]
     },
     "execution_count": 44,
     "metadata": {},
     "output_type": "execute_result"
    },
    {
     "data": {
      "image/png": "[encoded data removed]",
      "text/plain": [
       "<Figure size 432x288 with 4 Axes>"
      ]
     },
     "metadata": {
      "needs_background": "light"
     },
     "output_type": "display_data"
    }
   ],
   "source": [
    "calls_min.hist();\n",
    "calls_min.describe()"
   ]
  },
  {
   "cell_type": "markdown",
   "metadata": {},
   "source": [
    "В среднем пользователи совершали 63 звонка в месяц и тратили 421-431 минуту. Есть пользователи, которые не звонили (потратили 0 минут), есть максимальное значение: 244 звонка и 1 578 минут в месяц. В количестве звонков и сумме минут есть выбросы."
   ]
  },
  {
   "cell_type": "markdown",
   "metadata": {},
   "source": [
    "### Количество сообщений и израсходованных ГБ по месяцам"
   ]
  },
  {
   "cell_type": "code",
   "execution_count": 45,
   "metadata": {},
   "outputs": [],
   "source": [
    "#снова выделим месяцы\n",
    "\n",
    "df_internet['session_date'] = pd.to_datetime(df_internet['session_date'], format='%Y-%m-%d')\n",
    "df_internet['month'] = df_internet['session_date'].dt.month\n",
    "\n",
    "df_messages['message_date'] = pd.to_datetime(df_messages['message_date'], format='%Y-%m-%d')\n",
    "df_messages['month'] = df_messages['message_date'].dt.month"
   ]
  },
  {
   "cell_type": "code",
   "execution_count": 46,
   "metadata": {},
   "outputs": [
    {
     "data": {
      "text/html": [
       "<div>\n",
       "<style scoped>\n",
       "    .dataframe tbody tr th:only-of-type {\n",
       "        vertical-align: middle;\n",
       "    }\n",
       "\n",
       "    .dataframe tbody tr th {\n",
       "        vertical-align: top;\n",
       "    }\n",
       "\n",
       "    .dataframe thead tr th {\n",
       "        text-align: left;\n",
       "    }\n",
       "</style>\n",
       "<table border=\"1\" class=\"dataframe\">\n",
       "  <thead>\n",
       "    <tr>\n",
       "      <th></th>\n",
       "      <th>user_id</th>\n",
       "      <th>month</th>\n",
       "      <th>count</th>\n",
       "    </tr>\n",
       "    <tr>\n",
       "      <th></th>\n",
       "      <th></th>\n",
       "      <th></th>\n",
       "      <th>id</th>\n",
       "    </tr>\n",
       "  </thead>\n",
       "  <tbody>\n",
       "    <tr>\n",
       "      <td>0</td>\n",
       "      <td>1000</td>\n",
       "      <td>5</td>\n",
       "      <td>22</td>\n",
       "    </tr>\n",
       "    <tr>\n",
       "      <td>1</td>\n",
       "      <td>1000</td>\n",
       "      <td>6</td>\n",
       "      <td>60</td>\n",
       "    </tr>\n",
       "    <tr>\n",
       "      <td>2</td>\n",
       "      <td>1000</td>\n",
       "      <td>7</td>\n",
       "      <td>75</td>\n",
       "    </tr>\n",
       "    <tr>\n",
       "      <td>3</td>\n",
       "      <td>1000</td>\n",
       "      <td>8</td>\n",
       "      <td>81</td>\n",
       "    </tr>\n",
       "    <tr>\n",
       "      <td>4</td>\n",
       "      <td>1000</td>\n",
       "      <td>9</td>\n",
       "      <td>57</td>\n",
       "    </tr>\n",
       "    <tr>\n",
       "      <td>...</td>\n",
       "      <td>...</td>\n",
       "      <td>...</td>\n",
       "      <td>...</td>\n",
       "    </tr>\n",
       "    <tr>\n",
       "      <td>2712</td>\n",
       "      <td>1498</td>\n",
       "      <td>10</td>\n",
       "      <td>42</td>\n",
       "    </tr>\n",
       "    <tr>\n",
       "      <td>2713</td>\n",
       "      <td>1499</td>\n",
       "      <td>9</td>\n",
       "      <td>11</td>\n",
       "    </tr>\n",
       "    <tr>\n",
       "      <td>2714</td>\n",
       "      <td>1499</td>\n",
       "      <td>10</td>\n",
       "      <td>48</td>\n",
       "    </tr>\n",
       "    <tr>\n",
       "      <td>2715</td>\n",
       "      <td>1499</td>\n",
       "      <td>11</td>\n",
       "      <td>59</td>\n",
       "    </tr>\n",
       "    <tr>\n",
       "      <td>2716</td>\n",
       "      <td>1499</td>\n",
       "      <td>12</td>\n",
       "      <td>66</td>\n",
       "    </tr>\n",
       "  </tbody>\n",
       "</table>\n",
       "<p>2717 rows × 3 columns</p>\n",
       "</div>"
      ],
      "text/plain": [
       "     user_id month count\n",
       "                      id\n",
       "0       1000     5    22\n",
       "1       1000     6    60\n",
       "2       1000     7    75\n",
       "3       1000     8    81\n",
       "4       1000     9    57\n",
       "...      ...   ...   ...\n",
       "2712    1498    10    42\n",
       "2713    1499     9    11\n",
       "2714    1499    10    48\n",
       "2715    1499    11    59\n",
       "2716    1499    12    66\n",
       "\n",
       "[2717 rows x 3 columns]"
      ]
     },
     "metadata": {},
     "output_type": "display_data"
    }
   ],
   "source": [
    "# посчтиаем сообщения\n",
    "\n",
    "messages_months = df_messages.pivot_table(index = ['user_id', 'month'], values = 'id', aggfunc = ['count']).reset_index()\n",
    "display(messages_months)"
   ]
  },
  {
   "cell_type": "code",
   "execution_count": 47,
   "metadata": {},
   "outputs": [
    {
     "data": {
      "text/html": [
       "<div>\n",
       "<style scoped>\n",
       "    .dataframe tbody tr th:only-of-type {\n",
       "        vertical-align: middle;\n",
       "    }\n",
       "\n",
       "    .dataframe tbody tr th {\n",
       "        vertical-align: top;\n",
       "    }\n",
       "\n",
       "    .dataframe thead tr th {\n",
       "        text-align: left;\n",
       "    }\n",
       "</style>\n",
       "<table border=\"1\" class=\"dataframe\">\n",
       "  <thead>\n",
       "    <tr>\n",
       "      <th></th>\n",
       "      <th>user_id</th>\n",
       "      <th>month</th>\n",
       "      <th>count</th>\n",
       "    </tr>\n",
       "    <tr>\n",
       "      <th></th>\n",
       "      <th></th>\n",
       "      <th></th>\n",
       "      <th>id</th>\n",
       "    </tr>\n",
       "  </thead>\n",
       "  <tbody>\n",
       "    <tr>\n",
       "      <td>count</td>\n",
       "      <td>2717.000000</td>\n",
       "      <td>2717.000000</td>\n",
       "      <td>2717.000000</td>\n",
       "    </tr>\n",
       "    <tr>\n",
       "      <td>mean</td>\n",
       "      <td>1255.635259</td>\n",
       "      <td>8.345234</td>\n",
       "      <td>45.283769</td>\n",
       "    </tr>\n",
       "    <tr>\n",
       "      <td>std</td>\n",
       "      <td>146.227484</td>\n",
       "      <td>2.892920</td>\n",
       "      <td>35.051363</td>\n",
       "    </tr>\n",
       "    <tr>\n",
       "      <td>min</td>\n",
       "      <td>1000.000000</td>\n",
       "      <td>1.000000</td>\n",
       "      <td>1.000000</td>\n",
       "    </tr>\n",
       "    <tr>\n",
       "      <td>25%</td>\n",
       "      <td>1126.000000</td>\n",
       "      <td>6.000000</td>\n",
       "      <td>19.000000</td>\n",
       "    </tr>\n",
       "    <tr>\n",
       "      <td>50%</td>\n",
       "      <td>1266.000000</td>\n",
       "      <td>9.000000</td>\n",
       "      <td>38.000000</td>\n",
       "    </tr>\n",
       "    <tr>\n",
       "      <td>75%</td>\n",
       "      <td>1384.000000</td>\n",
       "      <td>11.000000</td>\n",
       "      <td>63.000000</td>\n",
       "    </tr>\n",
       "    <tr>\n",
       "      <td>max</td>\n",
       "      <td>1499.000000</td>\n",
       "      <td>12.000000</td>\n",
       "      <td>224.000000</td>\n",
       "    </tr>\n",
       "  </tbody>\n",
       "</table>\n",
       "</div>"
      ],
      "text/plain": [
       "           user_id        month        count\n",
       "                                          id\n",
       "count  2717.000000  2717.000000  2717.000000\n",
       "mean   1255.635259     8.345234    45.283769\n",
       "std     146.227484     2.892920    35.051363\n",
       "min    1000.000000     1.000000     1.000000\n",
       "25%    1126.000000     6.000000    19.000000\n",
       "50%    1266.000000     9.000000    38.000000\n",
       "75%    1384.000000    11.000000    63.000000\n",
       "max    1499.000000    12.000000   224.000000"
      ]
     },
     "execution_count": 47,
     "metadata": {},
     "output_type": "execute_result"
    },
    {
     "data": {
      "image/png": "[encoded data removed]",
      "text/plain": [
       "<Figure size 432x288 with 4 Axes>"
      ]
     },
     "metadata": {
      "needs_background": "light"
     },
     "output_type": "display_data"
    }
   ],
   "source": [
    "messages_months.hist();\n",
    "messages_months.describe()"
   ]
  },
  {
   "cell_type": "markdown",
   "metadata": {},
   "source": [
    "Так как в таблице messages нет количества сообщений, но есть id операций, предположим, что один id равен одному сообщению. В среднем - от 38 до 45 сообщений, минимум - 1 сообщение, максимум - 224 сообщения (кто-то очень не любит мессенджеры)."
   ]
  },
  {
   "cell_type": "code",
   "execution_count": 48,
   "metadata": {},
   "outputs": [
    {
     "name": "stdout",
     "output_type": "stream",
     "text": [
      "<class 'pandas.core.frame.DataFrame'>\n",
      "RangeIndex: 3203 entries, 0 to 3202\n",
      "Data columns (total 4 columns):\n",
      "user_id    3203 non-null int64\n",
      "month      3203 non-null int64\n",
      "mb_sum     3203 non-null float64\n",
      "gb_used    3203 non-null float64\n",
      "dtypes: float64(2), int64(2)\n",
      "memory usage: 100.2 KB\n"
     ]
    },
    {
     "data": {
      "text/html": [
       "<div>\n",
       "<style scoped>\n",
       "    .dataframe tbody tr th:only-of-type {\n",
       "        vertical-align: middle;\n",
       "    }\n",
       "\n",
       "    .dataframe tbody tr th {\n",
       "        vertical-align: top;\n",
       "    }\n",
       "\n",
       "    .dataframe thead th {\n",
       "        text-align: right;\n",
       "    }\n",
       "</style>\n",
       "<table border=\"1\" class=\"dataframe\">\n",
       "  <thead>\n",
       "    <tr style=\"text-align: right;\">\n",
       "      <th></th>\n",
       "      <th>user_id</th>\n",
       "      <th>month</th>\n",
       "      <th>mb_sum</th>\n",
       "      <th>gb_used</th>\n",
       "    </tr>\n",
       "  </thead>\n",
       "  <tbody>\n",
       "    <tr>\n",
       "      <td>count</td>\n",
       "      <td>3203.000000</td>\n",
       "      <td>3203.000000</td>\n",
       "      <td>3203.000000</td>\n",
       "      <td>3203.000000</td>\n",
       "    </tr>\n",
       "    <tr>\n",
       "      <td>mean</td>\n",
       "      <td>1251.393069</td>\n",
       "      <td>8.320949</td>\n",
       "      <td>17266.708626</td>\n",
       "      <td>17.358414</td>\n",
       "    </tr>\n",
       "    <tr>\n",
       "      <td>std</td>\n",
       "      <td>144.824407</td>\n",
       "      <td>2.903834</td>\n",
       "      <td>7516.356902</td>\n",
       "      <td>7.343379</td>\n",
       "    </tr>\n",
       "    <tr>\n",
       "      <td>min</td>\n",
       "      <td>1000.000000</td>\n",
       "      <td>1.000000</td>\n",
       "      <td>0.000000</td>\n",
       "      <td>0.000000</td>\n",
       "    </tr>\n",
       "    <tr>\n",
       "      <td>25%</td>\n",
       "      <td>1124.000000</td>\n",
       "      <td>6.000000</td>\n",
       "      <td>12526.905000</td>\n",
       "      <td>13.000000</td>\n",
       "    </tr>\n",
       "    <tr>\n",
       "      <td>50%</td>\n",
       "      <td>1251.000000</td>\n",
       "      <td>9.000000</td>\n",
       "      <td>16963.110000</td>\n",
       "      <td>17.000000</td>\n",
       "    </tr>\n",
       "    <tr>\n",
       "      <td>75%</td>\n",
       "      <td>1379.000000</td>\n",
       "      <td>11.000000</td>\n",
       "      <td>21432.175000</td>\n",
       "      <td>21.000000</td>\n",
       "    </tr>\n",
       "    <tr>\n",
       "      <td>max</td>\n",
       "      <td>1499.000000</td>\n",
       "      <td>12.000000</td>\n",
       "      <td>49745.690000</td>\n",
       "      <td>49.000000</td>\n",
       "    </tr>\n",
       "  </tbody>\n",
       "</table>\n",
       "</div>"
      ],
      "text/plain": [
       "           user_id        month        mb_sum      gb_used\n",
       "count  3203.000000  3203.000000   3203.000000  3203.000000\n",
       "mean   1251.393069     8.320949  17266.708626    17.358414\n",
       "std     144.824407     2.903834   7516.356902     7.343379\n",
       "min    1000.000000     1.000000      0.000000     0.000000\n",
       "25%    1124.000000     6.000000  12526.905000    13.000000\n",
       "50%    1251.000000     9.000000  16963.110000    17.000000\n",
       "75%    1379.000000    11.000000  21432.175000    21.000000\n",
       "max    1499.000000    12.000000  49745.690000    49.000000"
      ]
     },
     "execution_count": 48,
     "metadata": {},
     "output_type": "execute_result"
    }
   ],
   "source": [
    "#посчитаем по месяцам\n",
    "# internet_months = df_internet.pivot_table(index = ['user_id', 'month'], values = 'mb_used', aggfunc = ['sum'])\\\n",
    "# .reset_index().rename({'sum':'mb_sum'}, axis=1)\n",
    "internet_months = df_internet.groupby([\"user_id\",\"month\"])['mb_used']\\\n",
    ".agg(['sum']).reset_index().rename({'sum':'mb_sum'}, axis=1)\n",
    "\n",
    "#internet_months.describe()\n",
    "#internet_months.info()\n",
    "\n",
    "#переведем Мб в Гб\n",
    "\n",
    "internet_months['gb_used'] = internet_months['mb_sum'] / 1024\n",
    "internet_months.info()\n",
    "\n",
    "#округлим\n",
    "internet_months['gb_used'] = internet_months['gb_used'].apply(ceil)\n",
    "\n",
    "#проверим\n",
    "internet_months.describe()"
   ]
  },
  {
   "cell_type": "markdown",
   "metadata": {},
   "source": [
    "<div class=\"alert alert-danger\">\n",
    "<h2>Комментарий ревьюера V.2</h2>\n",
    "\n",
    "Переводить в ГБ и округлять надо всё таки после того, как делаешь сводную таблицу, потому что так у тебя каждая сессия округлиться до 1ГБ\n",
    "`pivot_table` без указания `aggfunc` кстати считает среднее (что и происходит выше)\n",
    "</div>"
   ]
  },
  {
   "cell_type": "markdown",
   "metadata": {},
   "source": [
    "<div class=\"alert alert-info\">\n",
    "<h2>Комментарий студента, дубль 2</h2>\n",
    "\n",
    "Принято, сделала. Только у меня не получилось вернуть значения в df_internet, все время возникала ошибка, оставила в internet_months. И значения снова какие-то большие получились...\n",
    "</div>"
   ]
  },
  {
   "cell_type": "markdown",
   "metadata": {},
   "source": [
    "<div class=\"alert alert-success\">\n",
    "<h2>Комментарий ревьюера V.3</h2>\n",
    "\n",
    "Да, всё верно :) Об этом говорят получившиеся в итоге `p-value`. Вполне нормальные числа получились, средняя сессия интернета 17 ГБ\n",
    "</div>"
   ]
  },
  {
   "cell_type": "code",
   "execution_count": 49,
   "metadata": {},
   "outputs": [
    {
     "data": {
      "text/plain": [
       "17    223\n",
       "16    214\n",
       "19    199\n",
       "18    181\n",
       "15    179\n",
       "14    179\n",
       "20    176\n",
       "21    158\n",
       "22    155\n",
       "12    147\n",
       "13    140\n",
       "11    112\n",
       "23    105\n",
       "9      97\n",
       "25     85\n",
       "10     81\n",
       "24     71\n",
       "8      61\n",
       "27     58\n",
       "28     55\n",
       "7      52\n",
       "26     48\n",
       "5      45\n",
       "3      43\n",
       "6      42\n",
       "29     37\n",
       "4      34\n",
       "1      26\n",
       "32     24\n",
       "2      24\n",
       "30     22\n",
       "31     19\n",
       "33     18\n",
       "34     14\n",
       "35     13\n",
       "37     11\n",
       "38     10\n",
       "36      9\n",
       "42      9\n",
       "39      9\n",
       "43      6\n",
       "40      4\n",
       "41      2\n",
       "0       2\n",
       "49      1\n",
       "44      1\n",
       "45      1\n",
       "48      1\n",
       "Name: gb_used, dtype: int64"
      ]
     },
     "execution_count": 49,
     "metadata": {},
     "output_type": "execute_result"
    }
   ],
   "source": [
    "#Код ревьюера, 0 только там, где была сессия в 0 МБ\n",
    "internet_months['gb_used'].value_counts()"
   ]
  },
  {
   "cell_type": "markdown",
   "metadata": {},
   "source": [
    "<div class=\"alert alert-success\">\n",
    "<h2>Комментарий ревьюера</h2>\n",
    "\n",
    "По правилам такие манипуляции с трафиком надо делать после сводной таблицы: \"Для веб-трафика отдельные сессии не считаются. Вместо этого общая сумма за месяц округляется в бо́льшую сторону. Если абонент использует 1025 мегабайт в этом месяце, с него возьмут плату за 2 гигабайта.\"\n",
    "    \n",
    "</div>"
   ]
  },
  {
   "cell_type": "markdown",
   "metadata": {},
   "source": [
    "В среднем пользователи тратят 17 Гб в месяц, минимальное значение - 0 Мб, максимальное - 49 Гб."
   ]
  },
  {
   "cell_type": "markdown",
   "metadata": {},
   "source": [
    "<div class=\"alert alert-danger\">\n",
    "<h2>Комментарий ревьюера</h2>\n",
    "\n",
    "Ну 47-48 это довольно много, должно было натолкнуть на то, что что-то не так :) Выше `count` явно зря :)\n",
    "</div>"
   ]
  },
  {
   "cell_type": "markdown",
   "metadata": {},
   "source": [
    "<div class=\"alert alert-info\">\n",
    "<h2>Комментарий студента, дубль 1</h2>\n",
    "\n",
    "Поправила, не зацепилась за цифру, спасибо!\n",
    "</div>"
   ]
  },
  {
   "cell_type": "markdown",
   "metadata": {},
   "source": [
    "### Сгруппируем и объединим данные"
   ]
  },
  {
   "cell_type": "code",
   "execution_count": 50,
   "metadata": {},
   "outputs": [
    {
     "data": {
      "text/html": [
       "<div>\n",
       "<style scoped>\n",
       "    .dataframe tbody tr th:only-of-type {\n",
       "        vertical-align: middle;\n",
       "    }\n",
       "\n",
       "    .dataframe tbody tr th {\n",
       "        vertical-align: top;\n",
       "    }\n",
       "\n",
       "    .dataframe thead th {\n",
       "        text-align: right;\n",
       "    }\n",
       "</style>\n",
       "<table border=\"1\" class=\"dataframe\">\n",
       "  <thead>\n",
       "    <tr style=\"text-align: right;\">\n",
       "      <th></th>\n",
       "      <th>user_id</th>\n",
       "      <th>month</th>\n",
       "      <th>call_count</th>\n",
       "      <th>call_sum</th>\n",
       "    </tr>\n",
       "  </thead>\n",
       "  <tbody>\n",
       "    <tr>\n",
       "      <td>0</td>\n",
       "      <td>1000</td>\n",
       "      <td>5</td>\n",
       "      <td>22</td>\n",
       "      <td>159</td>\n",
       "    </tr>\n",
       "    <tr>\n",
       "      <td>1</td>\n",
       "      <td>1000</td>\n",
       "      <td>6</td>\n",
       "      <td>43</td>\n",
       "      <td>172</td>\n",
       "    </tr>\n",
       "    <tr>\n",
       "      <td>2</td>\n",
       "      <td>1000</td>\n",
       "      <td>7</td>\n",
       "      <td>47</td>\n",
       "      <td>340</td>\n",
       "    </tr>\n",
       "    <tr>\n",
       "      <td>3</td>\n",
       "      <td>1000</td>\n",
       "      <td>8</td>\n",
       "      <td>52</td>\n",
       "      <td>408</td>\n",
       "    </tr>\n",
       "    <tr>\n",
       "      <td>4</td>\n",
       "      <td>1000</td>\n",
       "      <td>9</td>\n",
       "      <td>58</td>\n",
       "      <td>466</td>\n",
       "    </tr>\n",
       "  </tbody>\n",
       "</table>\n",
       "</div>"
      ],
      "text/plain": [
       "   user_id  month  call_count  call_sum\n",
       "0     1000      5          22       159\n",
       "1     1000      6          43       172\n",
       "2     1000      7          47       340\n",
       "3     1000      8          52       408\n",
       "4     1000      9          58       466"
      ]
     },
     "execution_count": 50,
     "metadata": {},
     "output_type": "execute_result"
    }
   ],
   "source": [
    "#сгруппируем данные о звонках по пользователям и месяцам, посчитаем количество и длительность\n",
    "df_calls.groupby(['user_id','month'])['duration_round'].agg(['count','sum'])\n",
    "df_calls_months = df_calls.groupby([\"user_id\",\"month\"])['duration_round']\\\n",
    ".agg(['count', 'sum']).reset_index().rename({'count':'call_count', 'sum':'call_sum'}, axis=1)\n",
    "df_calls_months.head()"
   ]
  },
  {
   "cell_type": "code",
   "execution_count": 51,
   "metadata": {},
   "outputs": [],
   "source": [
    "# #сгруппируем данные о трафике по пользователям и месяцам, посчитаем расход трафика\n",
    "# df_internet_months = df_internet.groupby([\"user_id\",\"month\"])['gb_used']\\\n",
    "# .agg(['count', 'sum']).reset_index().rename({'count':'gb_count', 'sum':'gb_sum'}, axis=1)\n",
    "\n",
    "# df_internet_months.head()"
   ]
  },
  {
   "cell_type": "code",
   "execution_count": 52,
   "metadata": {},
   "outputs": [
    {
     "data": {
      "text/html": [
       "<div>\n",
       "<style scoped>\n",
       "    .dataframe tbody tr th:only-of-type {\n",
       "        vertical-align: middle;\n",
       "    }\n",
       "\n",
       "    .dataframe tbody tr th {\n",
       "        vertical-align: top;\n",
       "    }\n",
       "\n",
       "    .dataframe thead th {\n",
       "        text-align: right;\n",
       "    }\n",
       "</style>\n",
       "<table border=\"1\" class=\"dataframe\">\n",
       "  <thead>\n",
       "    <tr style=\"text-align: right;\">\n",
       "      <th></th>\n",
       "      <th>user_id</th>\n",
       "      <th>month</th>\n",
       "      <th>messages_count</th>\n",
       "    </tr>\n",
       "  </thead>\n",
       "  <tbody>\n",
       "    <tr>\n",
       "      <td>0</td>\n",
       "      <td>1000</td>\n",
       "      <td>5</td>\n",
       "      <td>22</td>\n",
       "    </tr>\n",
       "    <tr>\n",
       "      <td>1</td>\n",
       "      <td>1000</td>\n",
       "      <td>6</td>\n",
       "      <td>60</td>\n",
       "    </tr>\n",
       "    <tr>\n",
       "      <td>2</td>\n",
       "      <td>1000</td>\n",
       "      <td>7</td>\n",
       "      <td>75</td>\n",
       "    </tr>\n",
       "    <tr>\n",
       "      <td>3</td>\n",
       "      <td>1000</td>\n",
       "      <td>8</td>\n",
       "      <td>81</td>\n",
       "    </tr>\n",
       "    <tr>\n",
       "      <td>4</td>\n",
       "      <td>1000</td>\n",
       "      <td>9</td>\n",
       "      <td>57</td>\n",
       "    </tr>\n",
       "  </tbody>\n",
       "</table>\n",
       "</div>"
      ],
      "text/plain": [
       "   user_id  month  messages_count\n",
       "0     1000      5              22\n",
       "1     1000      6              60\n",
       "2     1000      7              75\n",
       "3     1000      8              81\n",
       "4     1000      9              57"
      ]
     },
     "execution_count": 52,
     "metadata": {},
     "output_type": "execute_result"
    }
   ],
   "source": [
    "#сгруппируем данные о сообщениях по пользователям и месяцам, посчитаем количество\n",
    "df_messages_months = df_messages.groupby([\"user_id\",\"month\"])['id']\\\n",
    ".agg(['count']).reset_index().rename({'count':'messages_count'}, axis=1)\n",
    "df_messages_months.head()"
   ]
  },
  {
   "cell_type": "markdown",
   "metadata": {},
   "source": [
    "<div class=\"alert alert-success\">\n",
    "<h2>Комментарий ревьюера</h2>\n",
    "\n",
    "Тут уже всё верно, а чем не устроили таблицы выше?\n",
    "</div>"
   ]
  },
  {
   "cell_type": "markdown",
   "metadata": {},
   "source": [
    "<div class=\"alert alert-info\">\n",
    "<h2>Комментарий студента, дубль 1</h2>\n",
    "\n",
    "Эммм, мне показалось, что нужно получить единую красивую таблицу, чтобы корректно считать и выводить результаты. И в ветках с обсуждением проекта была такая рекомендация. Или таблицы с группировками лишние?)\n",
    "    \n",
    "Для дальнейших расчетов взяла gb_used, верно ли это? Подскажи, пожалуйста, надо ли еще раз округлить эти значения?\n",
    "</div>"
   ]
  },
  {
   "cell_type": "markdown",
   "metadata": {},
   "source": [
    "<div class=\"alert alert-success\">\n",
    "<h2>Комментарий ревьюера V.2</h2>\n",
    "\n",
    "> Эммм, мне показалось, что нужно получить единую красивую таблицу, чтобы корректно считать и выводить результаты. И в ветках с обсуждением проекта была такая рекомендация. Или таблицы с группировками лишние?)\n",
    "    \n",
    "`df_internet.pivot_table(index = ['user_id', 'month'], values = 'gb_used').reset_index()` и `df_internet.groupby([\"user_id\",\"month\"])['gb_used']\\\n",
    ".agg(['count', 'sum']).reset_index().rename({'count':'gb_count', 'sum':'gb_sum'}, axis=1)` по факту почти одно и то же, только п ервой ты зачем-то средние считаешь, вместо суммы :)\n",
    "    \n",
    "    \n",
    "> Для дальнейших расчетов взяла gb_used, верно ли это? Подскажи, пожалуйста, надо ли еще раз округлить эти значения?\n",
    "    \n",
    "Нужно поправить новый комментарий выше про округление сессий и брать конечно же `gb_sum`, а не `gb_used` :)   \n",
    "</div>"
   ]
  },
  {
   "cell_type": "markdown",
   "metadata": {},
   "source": [
    "<div class=\"alert alert-info\">\n",
    "<h2>Комментарий студента, дубль 2</h2>\n",
    "\n",
    "> Нужно поправить новый комментарий выше про округление сессий и брать конечно же `gb_sum`, а не `gb_used` :)\n",
    "    \n",
    "Название оставила gb_used, чтобы далее везде не править и не пропустить, но по сути это сумма Мб + округление, так верно? Или я запуталась?)\n",
    "</div>"
   ]
  },
  {
   "cell_type": "markdown",
   "metadata": {},
   "source": [
    "<div class=\"alert alert-success\">\n",
    "<h2> Комментарий ревьюера V.3</h2>\n",
    "    \n",
    "Да, всё ок\n",
    "</div>"
   ]
  },
  {
   "cell_type": "code",
   "execution_count": 53,
   "metadata": {},
   "outputs": [
    {
     "data": {
      "text/html": [
       "<div>\n",
       "<style scoped>\n",
       "    .dataframe tbody tr th:only-of-type {\n",
       "        vertical-align: middle;\n",
       "    }\n",
       "\n",
       "    .dataframe tbody tr th {\n",
       "        vertical-align: top;\n",
       "    }\n",
       "\n",
       "    .dataframe thead th {\n",
       "        text-align: right;\n",
       "    }\n",
       "</style>\n",
       "<table border=\"1\" class=\"dataframe\">\n",
       "  <thead>\n",
       "    <tr style=\"text-align: right;\">\n",
       "      <th></th>\n",
       "      <th>user_id</th>\n",
       "      <th>month</th>\n",
       "      <th>call_count</th>\n",
       "      <th>call_sum</th>\n",
       "      <th>mb_sum</th>\n",
       "      <th>gb_used</th>\n",
       "      <th>messages_count</th>\n",
       "    </tr>\n",
       "  </thead>\n",
       "  <tbody>\n",
       "    <tr>\n",
       "      <td>0</td>\n",
       "      <td>1000</td>\n",
       "      <td>5</td>\n",
       "      <td>22.0</td>\n",
       "      <td>159.0</td>\n",
       "      <td>2253.49</td>\n",
       "      <td>3.0</td>\n",
       "      <td>22.0</td>\n",
       "    </tr>\n",
       "    <tr>\n",
       "      <td>1</td>\n",
       "      <td>1000</td>\n",
       "      <td>6</td>\n",
       "      <td>43.0</td>\n",
       "      <td>172.0</td>\n",
       "      <td>23233.77</td>\n",
       "      <td>23.0</td>\n",
       "      <td>60.0</td>\n",
       "    </tr>\n",
       "    <tr>\n",
       "      <td>2</td>\n",
       "      <td>1000</td>\n",
       "      <td>7</td>\n",
       "      <td>47.0</td>\n",
       "      <td>340.0</td>\n",
       "      <td>14003.64</td>\n",
       "      <td>14.0</td>\n",
       "      <td>75.0</td>\n",
       "    </tr>\n",
       "    <tr>\n",
       "      <td>3</td>\n",
       "      <td>1000</td>\n",
       "      <td>8</td>\n",
       "      <td>52.0</td>\n",
       "      <td>408.0</td>\n",
       "      <td>14055.93</td>\n",
       "      <td>14.0</td>\n",
       "      <td>81.0</td>\n",
       "    </tr>\n",
       "    <tr>\n",
       "      <td>4</td>\n",
       "      <td>1000</td>\n",
       "      <td>9</td>\n",
       "      <td>58.0</td>\n",
       "      <td>466.0</td>\n",
       "      <td>14568.91</td>\n",
       "      <td>15.0</td>\n",
       "      <td>57.0</td>\n",
       "    </tr>\n",
       "    <tr>\n",
       "      <td>...</td>\n",
       "      <td>...</td>\n",
       "      <td>...</td>\n",
       "      <td>...</td>\n",
       "      <td>...</td>\n",
       "      <td>...</td>\n",
       "      <td>...</td>\n",
       "      <td>...</td>\n",
       "    </tr>\n",
       "    <tr>\n",
       "      <td>3209</td>\n",
       "      <td>1489</td>\n",
       "      <td>8</td>\n",
       "      <td>NaN</td>\n",
       "      <td>NaN</td>\n",
       "      <td>11050.56</td>\n",
       "      <td>11.0</td>\n",
       "      <td>17.0</td>\n",
       "    </tr>\n",
       "    <tr>\n",
       "      <td>3210</td>\n",
       "      <td>1489</td>\n",
       "      <td>9</td>\n",
       "      <td>NaN</td>\n",
       "      <td>NaN</td>\n",
       "      <td>17206.30</td>\n",
       "      <td>17.0</td>\n",
       "      <td>32.0</td>\n",
       "    </tr>\n",
       "    <tr>\n",
       "      <td>3211</td>\n",
       "      <td>1489</td>\n",
       "      <td>10</td>\n",
       "      <td>NaN</td>\n",
       "      <td>NaN</td>\n",
       "      <td>19559.44</td>\n",
       "      <td>20.0</td>\n",
       "      <td>21.0</td>\n",
       "    </tr>\n",
       "    <tr>\n",
       "      <td>3212</td>\n",
       "      <td>1489</td>\n",
       "      <td>11</td>\n",
       "      <td>NaN</td>\n",
       "      <td>NaN</td>\n",
       "      <td>17491.56</td>\n",
       "      <td>18.0</td>\n",
       "      <td>20.0</td>\n",
       "    </tr>\n",
       "    <tr>\n",
       "      <td>3213</td>\n",
       "      <td>1489</td>\n",
       "      <td>12</td>\n",
       "      <td>NaN</td>\n",
       "      <td>NaN</td>\n",
       "      <td>17322.51</td>\n",
       "      <td>17.0</td>\n",
       "      <td>35.0</td>\n",
       "    </tr>\n",
       "  </tbody>\n",
       "</table>\n",
       "<p>3214 rows × 7 columns</p>\n",
       "</div>"
      ],
      "text/plain": [
       "      user_id  month  call_count  call_sum    mb_sum  gb_used  messages_count\n",
       "0        1000      5        22.0     159.0   2253.49      3.0            22.0\n",
       "1        1000      6        43.0     172.0  23233.77     23.0            60.0\n",
       "2        1000      7        47.0     340.0  14003.64     14.0            75.0\n",
       "3        1000      8        52.0     408.0  14055.93     14.0            81.0\n",
       "4        1000      9        58.0     466.0  14568.91     15.0            57.0\n",
       "...       ...    ...         ...       ...       ...      ...             ...\n",
       "3209     1489      8         NaN       NaN  11050.56     11.0            17.0\n",
       "3210     1489      9         NaN       NaN  17206.30     17.0            32.0\n",
       "3211     1489     10         NaN       NaN  19559.44     20.0            21.0\n",
       "3212     1489     11         NaN       NaN  17491.56     18.0            20.0\n",
       "3213     1489     12         NaN       NaN  17322.51     17.0            35.0\n",
       "\n",
       "[3214 rows x 7 columns]"
      ]
     },
     "execution_count": 53,
     "metadata": {},
     "output_type": "execute_result"
    }
   ],
   "source": [
    "#объединим таблицы со звонками, трафиком и сообщениями\n",
    "df_1 = df_calls_months.merge(internet_months, on=['user_id','month'],\\\n",
    "how='outer').merge(df_messages_months, on=['user_id', 'month'], how='outer')\n",
    "df_1"
   ]
  },
  {
   "cell_type": "code",
   "execution_count": 54,
   "metadata": {},
   "outputs": [
    {
     "data": {
      "text/html": [
       "<div>\n",
       "<style scoped>\n",
       "    .dataframe tbody tr th:only-of-type {\n",
       "        vertical-align: middle;\n",
       "    }\n",
       "\n",
       "    .dataframe tbody tr th {\n",
       "        vertical-align: top;\n",
       "    }\n",
       "\n",
       "    .dataframe thead th {\n",
       "        text-align: right;\n",
       "    }\n",
       "</style>\n",
       "<table border=\"1\" class=\"dataframe\">\n",
       "  <thead>\n",
       "    <tr style=\"text-align: right;\">\n",
       "      <th></th>\n",
       "      <th>user_id</th>\n",
       "      <th>month</th>\n",
       "      <th>call_count</th>\n",
       "      <th>call_sum</th>\n",
       "      <th>mb_sum</th>\n",
       "      <th>gb_used</th>\n",
       "      <th>messages_count</th>\n",
       "      <th>age</th>\n",
       "      <th>churn_date</th>\n",
       "      <th>city</th>\n",
       "      <th>first_name</th>\n",
       "      <th>last_name</th>\n",
       "      <th>reg_date</th>\n",
       "      <th>tariff</th>\n",
       "    </tr>\n",
       "  </thead>\n",
       "  <tbody>\n",
       "    <tr>\n",
       "      <td>0</td>\n",
       "      <td>1000</td>\n",
       "      <td>5.0</td>\n",
       "      <td>22.0</td>\n",
       "      <td>159.0</td>\n",
       "      <td>2253.49</td>\n",
       "      <td>3.0</td>\n",
       "      <td>22.0</td>\n",
       "      <td>52</td>\n",
       "      <td>NaN</td>\n",
       "      <td>Краснодар</td>\n",
       "      <td>Рафаил</td>\n",
       "      <td>Верещагин</td>\n",
       "      <td>2018-05-25</td>\n",
       "      <td>ultra</td>\n",
       "    </tr>\n",
       "    <tr>\n",
       "      <td>1</td>\n",
       "      <td>1000</td>\n",
       "      <td>6.0</td>\n",
       "      <td>43.0</td>\n",
       "      <td>172.0</td>\n",
       "      <td>23233.77</td>\n",
       "      <td>23.0</td>\n",
       "      <td>60.0</td>\n",
       "      <td>52</td>\n",
       "      <td>NaN</td>\n",
       "      <td>Краснодар</td>\n",
       "      <td>Рафаил</td>\n",
       "      <td>Верещагин</td>\n",
       "      <td>2018-05-25</td>\n",
       "      <td>ultra</td>\n",
       "    </tr>\n",
       "    <tr>\n",
       "      <td>2</td>\n",
       "      <td>1000</td>\n",
       "      <td>7.0</td>\n",
       "      <td>47.0</td>\n",
       "      <td>340.0</td>\n",
       "      <td>14003.64</td>\n",
       "      <td>14.0</td>\n",
       "      <td>75.0</td>\n",
       "      <td>52</td>\n",
       "      <td>NaN</td>\n",
       "      <td>Краснодар</td>\n",
       "      <td>Рафаил</td>\n",
       "      <td>Верещагин</td>\n",
       "      <td>2018-05-25</td>\n",
       "      <td>ultra</td>\n",
       "    </tr>\n",
       "    <tr>\n",
       "      <td>3</td>\n",
       "      <td>1000</td>\n",
       "      <td>8.0</td>\n",
       "      <td>52.0</td>\n",
       "      <td>408.0</td>\n",
       "      <td>14055.93</td>\n",
       "      <td>14.0</td>\n",
       "      <td>81.0</td>\n",
       "      <td>52</td>\n",
       "      <td>NaN</td>\n",
       "      <td>Краснодар</td>\n",
       "      <td>Рафаил</td>\n",
       "      <td>Верещагин</td>\n",
       "      <td>2018-05-25</td>\n",
       "      <td>ultra</td>\n",
       "    </tr>\n",
       "    <tr>\n",
       "      <td>4</td>\n",
       "      <td>1000</td>\n",
       "      <td>9.0</td>\n",
       "      <td>58.0</td>\n",
       "      <td>466.0</td>\n",
       "      <td>14568.91</td>\n",
       "      <td>15.0</td>\n",
       "      <td>57.0</td>\n",
       "      <td>52</td>\n",
       "      <td>NaN</td>\n",
       "      <td>Краснодар</td>\n",
       "      <td>Рафаил</td>\n",
       "      <td>Верещагин</td>\n",
       "      <td>2018-05-25</td>\n",
       "      <td>ultra</td>\n",
       "    </tr>\n",
       "    <tr>\n",
       "      <td>...</td>\n",
       "      <td>...</td>\n",
       "      <td>...</td>\n",
       "      <td>...</td>\n",
       "      <td>...</td>\n",
       "      <td>...</td>\n",
       "      <td>...</td>\n",
       "      <td>...</td>\n",
       "      <td>...</td>\n",
       "      <td>...</td>\n",
       "      <td>...</td>\n",
       "      <td>...</td>\n",
       "      <td>...</td>\n",
       "      <td>...</td>\n",
       "      <td>...</td>\n",
       "    </tr>\n",
       "    <tr>\n",
       "      <td>3211</td>\n",
       "      <td>1489</td>\n",
       "      <td>10.0</td>\n",
       "      <td>NaN</td>\n",
       "      <td>NaN</td>\n",
       "      <td>19559.44</td>\n",
       "      <td>20.0</td>\n",
       "      <td>21.0</td>\n",
       "      <td>35</td>\n",
       "      <td>NaN</td>\n",
       "      <td>Санкт-Петербург</td>\n",
       "      <td>Павел</td>\n",
       "      <td>Гончаров</td>\n",
       "      <td>2018-08-15</td>\n",
       "      <td>smart</td>\n",
       "    </tr>\n",
       "    <tr>\n",
       "      <td>3212</td>\n",
       "      <td>1489</td>\n",
       "      <td>11.0</td>\n",
       "      <td>NaN</td>\n",
       "      <td>NaN</td>\n",
       "      <td>17491.56</td>\n",
       "      <td>18.0</td>\n",
       "      <td>20.0</td>\n",
       "      <td>35</td>\n",
       "      <td>NaN</td>\n",
       "      <td>Санкт-Петербург</td>\n",
       "      <td>Павел</td>\n",
       "      <td>Гончаров</td>\n",
       "      <td>2018-08-15</td>\n",
       "      <td>smart</td>\n",
       "    </tr>\n",
       "    <tr>\n",
       "      <td>3213</td>\n",
       "      <td>1489</td>\n",
       "      <td>12.0</td>\n",
       "      <td>NaN</td>\n",
       "      <td>NaN</td>\n",
       "      <td>17322.51</td>\n",
       "      <td>17.0</td>\n",
       "      <td>35.0</td>\n",
       "      <td>35</td>\n",
       "      <td>NaN</td>\n",
       "      <td>Санкт-Петербург</td>\n",
       "      <td>Павел</td>\n",
       "      <td>Гончаров</td>\n",
       "      <td>2018-08-15</td>\n",
       "      <td>smart</td>\n",
       "    </tr>\n",
       "    <tr>\n",
       "      <td>3214</td>\n",
       "      <td>1128</td>\n",
       "      <td>NaN</td>\n",
       "      <td>NaN</td>\n",
       "      <td>NaN</td>\n",
       "      <td>NaN</td>\n",
       "      <td>NaN</td>\n",
       "      <td>NaN</td>\n",
       "      <td>51</td>\n",
       "      <td>2018-12-23</td>\n",
       "      <td>Волжский</td>\n",
       "      <td>Ксения</td>\n",
       "      <td>Агаева</td>\n",
       "      <td>2018-12-15</td>\n",
       "      <td>ultra</td>\n",
       "    </tr>\n",
       "    <tr>\n",
       "      <td>3215</td>\n",
       "      <td>1371</td>\n",
       "      <td>NaN</td>\n",
       "      <td>NaN</td>\n",
       "      <td>NaN</td>\n",
       "      <td>NaN</td>\n",
       "      <td>NaN</td>\n",
       "      <td>NaN</td>\n",
       "      <td>50</td>\n",
       "      <td>2018-12-30</td>\n",
       "      <td>Омск</td>\n",
       "      <td>Ириней</td>\n",
       "      <td>Трофимов</td>\n",
       "      <td>2018-12-25</td>\n",
       "      <td>smart</td>\n",
       "    </tr>\n",
       "  </tbody>\n",
       "</table>\n",
       "<p>3216 rows × 14 columns</p>\n",
       "</div>"
      ],
      "text/plain": [
       "      user_id  month  call_count  call_sum    mb_sum  gb_used  messages_count  \\\n",
       "0        1000    5.0        22.0     159.0   2253.49      3.0            22.0   \n",
       "1        1000    6.0        43.0     172.0  23233.77     23.0            60.0   \n",
       "2        1000    7.0        47.0     340.0  14003.64     14.0            75.0   \n",
       "3        1000    8.0        52.0     408.0  14055.93     14.0            81.0   \n",
       "4        1000    9.0        58.0     466.0  14568.91     15.0            57.0   \n",
       "...       ...    ...         ...       ...       ...      ...             ...   \n",
       "3211     1489   10.0         NaN       NaN  19559.44     20.0            21.0   \n",
       "3212     1489   11.0         NaN       NaN  17491.56     18.0            20.0   \n",
       "3213     1489   12.0         NaN       NaN  17322.51     17.0            35.0   \n",
       "3214     1128    NaN         NaN       NaN       NaN      NaN             NaN   \n",
       "3215     1371    NaN         NaN       NaN       NaN      NaN             NaN   \n",
       "\n",
       "      age  churn_date             city first_name  last_name    reg_date  \\\n",
       "0      52         NaN        Краснодар     Рафаил  Верещагин  2018-05-25   \n",
       "1      52         NaN        Краснодар     Рафаил  Верещагин  2018-05-25   \n",
       "2      52         NaN        Краснодар     Рафаил  Верещагин  2018-05-25   \n",
       "3      52         NaN        Краснодар     Рафаил  Верещагин  2018-05-25   \n",
       "4      52         NaN        Краснодар     Рафаил  Верещагин  2018-05-25   \n",
       "...   ...         ...              ...        ...        ...         ...   \n",
       "3211   35         NaN  Санкт-Петербург      Павел   Гончаров  2018-08-15   \n",
       "3212   35         NaN  Санкт-Петербург      Павел   Гончаров  2018-08-15   \n",
       "3213   35         NaN  Санкт-Петербург      Павел   Гончаров  2018-08-15   \n",
       "3214   51  2018-12-23         Волжский     Ксения     Агаева  2018-12-15   \n",
       "3215   50  2018-12-30             Омск     Ириней   Трофимов  2018-12-25   \n",
       "\n",
       "     tariff  \n",
       "0     ultra  \n",
       "1     ultra  \n",
       "2     ultra  \n",
       "3     ultra  \n",
       "4     ultra  \n",
       "...     ...  \n",
       "3211  smart  \n",
       "3212  smart  \n",
       "3213  smart  \n",
       "3214  ultra  \n",
       "3215  smart  \n",
       "\n",
       "[3216 rows x 14 columns]"
      ]
     },
     "execution_count": 54,
     "metadata": {},
     "output_type": "execute_result"
    }
   ],
   "source": [
    "#объединим таблицу с данными о пользователях\n",
    "df_2 = df_1.merge(df_users, on=['user_id'], how='outer')\n",
    "df_2"
   ]
  },
  {
   "cell_type": "code",
   "execution_count": 55,
   "metadata": {},
   "outputs": [],
   "source": [
    "#переименуем столбец с тарифом, чтобы объединить таблицы по нему\n",
    "df_tariffs.rename(columns={'tariff_name': 'tariff'}, inplace=True)\n",
    "#df_tariffs.head()"
   ]
  },
  {
   "cell_type": "code",
   "execution_count": 56,
   "metadata": {},
   "outputs": [
    {
     "data": {
      "text/html": [
       "<div>\n",
       "<style scoped>\n",
       "    .dataframe tbody tr th:only-of-type {\n",
       "        vertical-align: middle;\n",
       "    }\n",
       "\n",
       "    .dataframe tbody tr th {\n",
       "        vertical-align: top;\n",
       "    }\n",
       "\n",
       "    .dataframe thead th {\n",
       "        text-align: right;\n",
       "    }\n",
       "</style>\n",
       "<table border=\"1\" class=\"dataframe\">\n",
       "  <thead>\n",
       "    <tr style=\"text-align: right;\">\n",
       "      <th></th>\n",
       "      <th>user_id</th>\n",
       "      <th>month</th>\n",
       "      <th>call_count</th>\n",
       "      <th>call_sum</th>\n",
       "      <th>mb_sum</th>\n",
       "      <th>gb_used</th>\n",
       "      <th>messages_count</th>\n",
       "      <th>age</th>\n",
       "      <th>churn_date</th>\n",
       "      <th>city</th>\n",
       "      <th>...</th>\n",
       "      <th>last_name</th>\n",
       "      <th>reg_date</th>\n",
       "      <th>tariff</th>\n",
       "      <th>messages_included</th>\n",
       "      <th>mb_per_month_included</th>\n",
       "      <th>minutes_included</th>\n",
       "      <th>rub_monthly_fee</th>\n",
       "      <th>rub_per_gb</th>\n",
       "      <th>rub_per_message</th>\n",
       "      <th>rub_per_minute</th>\n",
       "    </tr>\n",
       "  </thead>\n",
       "  <tbody>\n",
       "    <tr>\n",
       "      <td>0</td>\n",
       "      <td>1000</td>\n",
       "      <td>5.0</td>\n",
       "      <td>22.0</td>\n",
       "      <td>159.0</td>\n",
       "      <td>2253.49</td>\n",
       "      <td>3.0</td>\n",
       "      <td>22.0</td>\n",
       "      <td>52</td>\n",
       "      <td>NaN</td>\n",
       "      <td>Краснодар</td>\n",
       "      <td>...</td>\n",
       "      <td>Верещагин</td>\n",
       "      <td>2018-05-25</td>\n",
       "      <td>ultra</td>\n",
       "      <td>1000</td>\n",
       "      <td>30720</td>\n",
       "      <td>3000</td>\n",
       "      <td>1950</td>\n",
       "      <td>150</td>\n",
       "      <td>1</td>\n",
       "      <td>1</td>\n",
       "    </tr>\n",
       "    <tr>\n",
       "      <td>1</td>\n",
       "      <td>1000</td>\n",
       "      <td>6.0</td>\n",
       "      <td>43.0</td>\n",
       "      <td>172.0</td>\n",
       "      <td>23233.77</td>\n",
       "      <td>23.0</td>\n",
       "      <td>60.0</td>\n",
       "      <td>52</td>\n",
       "      <td>NaN</td>\n",
       "      <td>Краснодар</td>\n",
       "      <td>...</td>\n",
       "      <td>Верещагин</td>\n",
       "      <td>2018-05-25</td>\n",
       "      <td>ultra</td>\n",
       "      <td>1000</td>\n",
       "      <td>30720</td>\n",
       "      <td>3000</td>\n",
       "      <td>1950</td>\n",
       "      <td>150</td>\n",
       "      <td>1</td>\n",
       "      <td>1</td>\n",
       "    </tr>\n",
       "    <tr>\n",
       "      <td>2</td>\n",
       "      <td>1000</td>\n",
       "      <td>7.0</td>\n",
       "      <td>47.0</td>\n",
       "      <td>340.0</td>\n",
       "      <td>14003.64</td>\n",
       "      <td>14.0</td>\n",
       "      <td>75.0</td>\n",
       "      <td>52</td>\n",
       "      <td>NaN</td>\n",
       "      <td>Краснодар</td>\n",
       "      <td>...</td>\n",
       "      <td>Верещагин</td>\n",
       "      <td>2018-05-25</td>\n",
       "      <td>ultra</td>\n",
       "      <td>1000</td>\n",
       "      <td>30720</td>\n",
       "      <td>3000</td>\n",
       "      <td>1950</td>\n",
       "      <td>150</td>\n",
       "      <td>1</td>\n",
       "      <td>1</td>\n",
       "    </tr>\n",
       "    <tr>\n",
       "      <td>3</td>\n",
       "      <td>1000</td>\n",
       "      <td>8.0</td>\n",
       "      <td>52.0</td>\n",
       "      <td>408.0</td>\n",
       "      <td>14055.93</td>\n",
       "      <td>14.0</td>\n",
       "      <td>81.0</td>\n",
       "      <td>52</td>\n",
       "      <td>NaN</td>\n",
       "      <td>Краснодар</td>\n",
       "      <td>...</td>\n",
       "      <td>Верещагин</td>\n",
       "      <td>2018-05-25</td>\n",
       "      <td>ultra</td>\n",
       "      <td>1000</td>\n",
       "      <td>30720</td>\n",
       "      <td>3000</td>\n",
       "      <td>1950</td>\n",
       "      <td>150</td>\n",
       "      <td>1</td>\n",
       "      <td>1</td>\n",
       "    </tr>\n",
       "    <tr>\n",
       "      <td>4</td>\n",
       "      <td>1000</td>\n",
       "      <td>9.0</td>\n",
       "      <td>58.0</td>\n",
       "      <td>466.0</td>\n",
       "      <td>14568.91</td>\n",
       "      <td>15.0</td>\n",
       "      <td>57.0</td>\n",
       "      <td>52</td>\n",
       "      <td>NaN</td>\n",
       "      <td>Краснодар</td>\n",
       "      <td>...</td>\n",
       "      <td>Верещагин</td>\n",
       "      <td>2018-05-25</td>\n",
       "      <td>ultra</td>\n",
       "      <td>1000</td>\n",
       "      <td>30720</td>\n",
       "      <td>3000</td>\n",
       "      <td>1950</td>\n",
       "      <td>150</td>\n",
       "      <td>1</td>\n",
       "      <td>1</td>\n",
       "    </tr>\n",
       "    <tr>\n",
       "      <td>...</td>\n",
       "      <td>...</td>\n",
       "      <td>...</td>\n",
       "      <td>...</td>\n",
       "      <td>...</td>\n",
       "      <td>...</td>\n",
       "      <td>...</td>\n",
       "      <td>...</td>\n",
       "      <td>...</td>\n",
       "      <td>...</td>\n",
       "      <td>...</td>\n",
       "      <td>...</td>\n",
       "      <td>...</td>\n",
       "      <td>...</td>\n",
       "      <td>...</td>\n",
       "      <td>...</td>\n",
       "      <td>...</td>\n",
       "      <td>...</td>\n",
       "      <td>...</td>\n",
       "      <td>...</td>\n",
       "      <td>...</td>\n",
       "      <td>...</td>\n",
       "    </tr>\n",
       "    <tr>\n",
       "      <td>3211</td>\n",
       "      <td>1489</td>\n",
       "      <td>9.0</td>\n",
       "      <td>NaN</td>\n",
       "      <td>NaN</td>\n",
       "      <td>17206.30</td>\n",
       "      <td>17.0</td>\n",
       "      <td>32.0</td>\n",
       "      <td>35</td>\n",
       "      <td>NaN</td>\n",
       "      <td>Санкт-Петербург</td>\n",
       "      <td>...</td>\n",
       "      <td>Гончаров</td>\n",
       "      <td>2018-08-15</td>\n",
       "      <td>smart</td>\n",
       "      <td>50</td>\n",
       "      <td>15360</td>\n",
       "      <td>500</td>\n",
       "      <td>550</td>\n",
       "      <td>200</td>\n",
       "      <td>3</td>\n",
       "      <td>3</td>\n",
       "    </tr>\n",
       "    <tr>\n",
       "      <td>3212</td>\n",
       "      <td>1489</td>\n",
       "      <td>10.0</td>\n",
       "      <td>NaN</td>\n",
       "      <td>NaN</td>\n",
       "      <td>19559.44</td>\n",
       "      <td>20.0</td>\n",
       "      <td>21.0</td>\n",
       "      <td>35</td>\n",
       "      <td>NaN</td>\n",
       "      <td>Санкт-Петербург</td>\n",
       "      <td>...</td>\n",
       "      <td>Гончаров</td>\n",
       "      <td>2018-08-15</td>\n",
       "      <td>smart</td>\n",
       "      <td>50</td>\n",
       "      <td>15360</td>\n",
       "      <td>500</td>\n",
       "      <td>550</td>\n",
       "      <td>200</td>\n",
       "      <td>3</td>\n",
       "      <td>3</td>\n",
       "    </tr>\n",
       "    <tr>\n",
       "      <td>3213</td>\n",
       "      <td>1489</td>\n",
       "      <td>11.0</td>\n",
       "      <td>NaN</td>\n",
       "      <td>NaN</td>\n",
       "      <td>17491.56</td>\n",
       "      <td>18.0</td>\n",
       "      <td>20.0</td>\n",
       "      <td>35</td>\n",
       "      <td>NaN</td>\n",
       "      <td>Санкт-Петербург</td>\n",
       "      <td>...</td>\n",
       "      <td>Гончаров</td>\n",
       "      <td>2018-08-15</td>\n",
       "      <td>smart</td>\n",
       "      <td>50</td>\n",
       "      <td>15360</td>\n",
       "      <td>500</td>\n",
       "      <td>550</td>\n",
       "      <td>200</td>\n",
       "      <td>3</td>\n",
       "      <td>3</td>\n",
       "    </tr>\n",
       "    <tr>\n",
       "      <td>3214</td>\n",
       "      <td>1489</td>\n",
       "      <td>12.0</td>\n",
       "      <td>NaN</td>\n",
       "      <td>NaN</td>\n",
       "      <td>17322.51</td>\n",
       "      <td>17.0</td>\n",
       "      <td>35.0</td>\n",
       "      <td>35</td>\n",
       "      <td>NaN</td>\n",
       "      <td>Санкт-Петербург</td>\n",
       "      <td>...</td>\n",
       "      <td>Гончаров</td>\n",
       "      <td>2018-08-15</td>\n",
       "      <td>smart</td>\n",
       "      <td>50</td>\n",
       "      <td>15360</td>\n",
       "      <td>500</td>\n",
       "      <td>550</td>\n",
       "      <td>200</td>\n",
       "      <td>3</td>\n",
       "      <td>3</td>\n",
       "    </tr>\n",
       "    <tr>\n",
       "      <td>3215</td>\n",
       "      <td>1371</td>\n",
       "      <td>NaN</td>\n",
       "      <td>NaN</td>\n",
       "      <td>NaN</td>\n",
       "      <td>NaN</td>\n",
       "      <td>NaN</td>\n",
       "      <td>NaN</td>\n",
       "      <td>50</td>\n",
       "      <td>2018-12-30</td>\n",
       "      <td>Омск</td>\n",
       "      <td>...</td>\n",
       "      <td>Трофимов</td>\n",
       "      <td>2018-12-25</td>\n",
       "      <td>smart</td>\n",
       "      <td>50</td>\n",
       "      <td>15360</td>\n",
       "      <td>500</td>\n",
       "      <td>550</td>\n",
       "      <td>200</td>\n",
       "      <td>3</td>\n",
       "      <td>3</td>\n",
       "    </tr>\n",
       "  </tbody>\n",
       "</table>\n",
       "<p>3216 rows × 21 columns</p>\n",
       "</div>"
      ],
      "text/plain": [
       "      user_id  month  call_count  call_sum    mb_sum  gb_used  messages_count  \\\n",
       "0        1000    5.0        22.0     159.0   2253.49      3.0            22.0   \n",
       "1        1000    6.0        43.0     172.0  23233.77     23.0            60.0   \n",
       "2        1000    7.0        47.0     340.0  14003.64     14.0            75.0   \n",
       "3        1000    8.0        52.0     408.0  14055.93     14.0            81.0   \n",
       "4        1000    9.0        58.0     466.0  14568.91     15.0            57.0   \n",
       "...       ...    ...         ...       ...       ...      ...             ...   \n",
       "3211     1489    9.0         NaN       NaN  17206.30     17.0            32.0   \n",
       "3212     1489   10.0         NaN       NaN  19559.44     20.0            21.0   \n",
       "3213     1489   11.0         NaN       NaN  17491.56     18.0            20.0   \n",
       "3214     1489   12.0         NaN       NaN  17322.51     17.0            35.0   \n",
       "3215     1371    NaN         NaN       NaN       NaN      NaN             NaN   \n",
       "\n",
       "      age  churn_date             city  ...  last_name    reg_date tariff  \\\n",
       "0      52         NaN        Краснодар  ...  Верещагин  2018-05-25  ultra   \n",
       "1      52         NaN        Краснодар  ...  Верещагин  2018-05-25  ultra   \n",
       "2      52         NaN        Краснодар  ...  Верещагин  2018-05-25  ultra   \n",
       "3      52         NaN        Краснодар  ...  Верещагин  2018-05-25  ultra   \n",
       "4      52         NaN        Краснодар  ...  Верещагин  2018-05-25  ultra   \n",
       "...   ...         ...              ...  ...        ...         ...    ...   \n",
       "3211   35         NaN  Санкт-Петербург  ...   Гончаров  2018-08-15  smart   \n",
       "3212   35         NaN  Санкт-Петербург  ...   Гончаров  2018-08-15  smart   \n",
       "3213   35         NaN  Санкт-Петербург  ...   Гончаров  2018-08-15  smart   \n",
       "3214   35         NaN  Санкт-Петербург  ...   Гончаров  2018-08-15  smart   \n",
       "3215   50  2018-12-30             Омск  ...   Трофимов  2018-12-25  smart   \n",
       "\n",
       "     messages_included  mb_per_month_included  minutes_included  \\\n",
       "0                 1000                  30720              3000   \n",
       "1                 1000                  30720              3000   \n",
       "2                 1000                  30720              3000   \n",
       "3                 1000                  30720              3000   \n",
       "4                 1000                  30720              3000   \n",
       "...                ...                    ...               ...   \n",
       "3211                50                  15360               500   \n",
       "3212                50                  15360               500   \n",
       "3213                50                  15360               500   \n",
       "3214                50                  15360               500   \n",
       "3215                50                  15360               500   \n",
       "\n",
       "      rub_monthly_fee  rub_per_gb  rub_per_message  rub_per_minute  \n",
       "0                1950         150                1               1  \n",
       "1                1950         150                1               1  \n",
       "2                1950         150                1               1  \n",
       "3                1950         150                1               1  \n",
       "4                1950         150                1               1  \n",
       "...               ...         ...              ...             ...  \n",
       "3211              550         200                3               3  \n",
       "3212              550         200                3               3  \n",
       "3213              550         200                3               3  \n",
       "3214              550         200                3               3  \n",
       "3215              550         200                3               3  \n",
       "\n",
       "[3216 rows x 21 columns]"
      ]
     },
     "execution_count": 56,
     "metadata": {},
     "output_type": "execute_result"
    }
   ],
   "source": [
    "#создадим единую таблицу\n",
    "df = df_2.merge(df_tariffs, on=['tariff'], how='outer')\n",
    "df"
   ]
  },
  {
   "cell_type": "markdown",
   "metadata": {},
   "source": [
    "### Посчитаем выручку"
   ]
  },
  {
   "cell_type": "code",
   "execution_count": 57,
   "metadata": {},
   "outputs": [],
   "source": [
    "#заполним пропуски, чтобы функция корректно отрабатывала подсчеты\n",
    "\n",
    "#df.info() #найдем их\n",
    "#call_count\n",
    "#call_sum\n",
    "#gb_used\n",
    "#messages_count\n",
    "#churn_date\n",
    "\n",
    "#заполним нулями, так как это не исказит данные\n",
    "df['call_count'] = df['call_count'].fillna(0)\n",
    "df['call_sum'] = df['call_sum'].fillna(0)\n",
    "df['gb_used'] = df['gb_used'].fillna(0)\n",
    "df['messages_count'] = df['messages_count'].fillna(0)\n",
    "#df.info() #проверили"
   ]
  },
  {
   "cell_type": "code",
   "execution_count": 58,
   "metadata": {
    "scrolled": true
   },
   "outputs": [
    {
     "data": {
      "text/html": [
       "<div>\n",
       "<style scoped>\n",
       "    .dataframe tbody tr th:only-of-type {\n",
       "        vertical-align: middle;\n",
       "    }\n",
       "\n",
       "    .dataframe tbody tr th {\n",
       "        vertical-align: top;\n",
       "    }\n",
       "\n",
       "    .dataframe thead th {\n",
       "        text-align: right;\n",
       "    }\n",
       "</style>\n",
       "<table border=\"1\" class=\"dataframe\">\n",
       "  <thead>\n",
       "    <tr style=\"text-align: right;\">\n",
       "      <th></th>\n",
       "      <th>user_id</th>\n",
       "      <th>month</th>\n",
       "      <th>call_count</th>\n",
       "      <th>call_sum</th>\n",
       "      <th>mb_sum</th>\n",
       "      <th>gb_used</th>\n",
       "      <th>messages_count</th>\n",
       "      <th>age</th>\n",
       "      <th>churn_date</th>\n",
       "      <th>city</th>\n",
       "      <th>...</th>\n",
       "      <th>reg_date</th>\n",
       "      <th>tariff</th>\n",
       "      <th>messages_included</th>\n",
       "      <th>mb_per_month_included</th>\n",
       "      <th>minutes_included</th>\n",
       "      <th>rub_monthly_fee</th>\n",
       "      <th>rub_per_gb</th>\n",
       "      <th>rub_per_message</th>\n",
       "      <th>rub_per_minute</th>\n",
       "      <th>tariff_revenue</th>\n",
       "    </tr>\n",
       "  </thead>\n",
       "  <tbody>\n",
       "    <tr>\n",
       "      <td>0</td>\n",
       "      <td>1000</td>\n",
       "      <td>5.0</td>\n",
       "      <td>22.0</td>\n",
       "      <td>159.0</td>\n",
       "      <td>2253.49</td>\n",
       "      <td>3.0</td>\n",
       "      <td>22.0</td>\n",
       "      <td>52</td>\n",
       "      <td>NaN</td>\n",
       "      <td>Краснодар</td>\n",
       "      <td>...</td>\n",
       "      <td>2018-05-25</td>\n",
       "      <td>ultra</td>\n",
       "      <td>1000</td>\n",
       "      <td>30720</td>\n",
       "      <td>3000</td>\n",
       "      <td>1950</td>\n",
       "      <td>150</td>\n",
       "      <td>1</td>\n",
       "      <td>1</td>\n",
       "      <td>1950.0</td>\n",
       "    </tr>\n",
       "    <tr>\n",
       "      <td>1</td>\n",
       "      <td>1000</td>\n",
       "      <td>6.0</td>\n",
       "      <td>43.0</td>\n",
       "      <td>172.0</td>\n",
       "      <td>23233.77</td>\n",
       "      <td>23.0</td>\n",
       "      <td>60.0</td>\n",
       "      <td>52</td>\n",
       "      <td>NaN</td>\n",
       "      <td>Краснодар</td>\n",
       "      <td>...</td>\n",
       "      <td>2018-05-25</td>\n",
       "      <td>ultra</td>\n",
       "      <td>1000</td>\n",
       "      <td>30720</td>\n",
       "      <td>3000</td>\n",
       "      <td>1950</td>\n",
       "      <td>150</td>\n",
       "      <td>1</td>\n",
       "      <td>1</td>\n",
       "      <td>1950.0</td>\n",
       "    </tr>\n",
       "    <tr>\n",
       "      <td>2</td>\n",
       "      <td>1000</td>\n",
       "      <td>7.0</td>\n",
       "      <td>47.0</td>\n",
       "      <td>340.0</td>\n",
       "      <td>14003.64</td>\n",
       "      <td>14.0</td>\n",
       "      <td>75.0</td>\n",
       "      <td>52</td>\n",
       "      <td>NaN</td>\n",
       "      <td>Краснодар</td>\n",
       "      <td>...</td>\n",
       "      <td>2018-05-25</td>\n",
       "      <td>ultra</td>\n",
       "      <td>1000</td>\n",
       "      <td>30720</td>\n",
       "      <td>3000</td>\n",
       "      <td>1950</td>\n",
       "      <td>150</td>\n",
       "      <td>1</td>\n",
       "      <td>1</td>\n",
       "      <td>1950.0</td>\n",
       "    </tr>\n",
       "    <tr>\n",
       "      <td>3</td>\n",
       "      <td>1000</td>\n",
       "      <td>8.0</td>\n",
       "      <td>52.0</td>\n",
       "      <td>408.0</td>\n",
       "      <td>14055.93</td>\n",
       "      <td>14.0</td>\n",
       "      <td>81.0</td>\n",
       "      <td>52</td>\n",
       "      <td>NaN</td>\n",
       "      <td>Краснодар</td>\n",
       "      <td>...</td>\n",
       "      <td>2018-05-25</td>\n",
       "      <td>ultra</td>\n",
       "      <td>1000</td>\n",
       "      <td>30720</td>\n",
       "      <td>3000</td>\n",
       "      <td>1950</td>\n",
       "      <td>150</td>\n",
       "      <td>1</td>\n",
       "      <td>1</td>\n",
       "      <td>1950.0</td>\n",
       "    </tr>\n",
       "    <tr>\n",
       "      <td>4</td>\n",
       "      <td>1000</td>\n",
       "      <td>9.0</td>\n",
       "      <td>58.0</td>\n",
       "      <td>466.0</td>\n",
       "      <td>14568.91</td>\n",
       "      <td>15.0</td>\n",
       "      <td>57.0</td>\n",
       "      <td>52</td>\n",
       "      <td>NaN</td>\n",
       "      <td>Краснодар</td>\n",
       "      <td>...</td>\n",
       "      <td>2018-05-25</td>\n",
       "      <td>ultra</td>\n",
       "      <td>1000</td>\n",
       "      <td>30720</td>\n",
       "      <td>3000</td>\n",
       "      <td>1950</td>\n",
       "      <td>150</td>\n",
       "      <td>1</td>\n",
       "      <td>1</td>\n",
       "      <td>1950.0</td>\n",
       "    </tr>\n",
       "    <tr>\n",
       "      <td>...</td>\n",
       "      <td>...</td>\n",
       "      <td>...</td>\n",
       "      <td>...</td>\n",
       "      <td>...</td>\n",
       "      <td>...</td>\n",
       "      <td>...</td>\n",
       "      <td>...</td>\n",
       "      <td>...</td>\n",
       "      <td>...</td>\n",
       "      <td>...</td>\n",
       "      <td>...</td>\n",
       "      <td>...</td>\n",
       "      <td>...</td>\n",
       "      <td>...</td>\n",
       "      <td>...</td>\n",
       "      <td>...</td>\n",
       "      <td>...</td>\n",
       "      <td>...</td>\n",
       "      <td>...</td>\n",
       "      <td>...</td>\n",
       "      <td>...</td>\n",
       "    </tr>\n",
       "    <tr>\n",
       "      <td>3211</td>\n",
       "      <td>1489</td>\n",
       "      <td>9.0</td>\n",
       "      <td>0.0</td>\n",
       "      <td>0.0</td>\n",
       "      <td>17206.30</td>\n",
       "      <td>17.0</td>\n",
       "      <td>32.0</td>\n",
       "      <td>35</td>\n",
       "      <td>NaN</td>\n",
       "      <td>Санкт-Петербург</td>\n",
       "      <td>...</td>\n",
       "      <td>2018-08-15</td>\n",
       "      <td>smart</td>\n",
       "      <td>50</td>\n",
       "      <td>15360</td>\n",
       "      <td>500</td>\n",
       "      <td>550</td>\n",
       "      <td>200</td>\n",
       "      <td>3</td>\n",
       "      <td>3</td>\n",
       "      <td>950.0</td>\n",
       "    </tr>\n",
       "    <tr>\n",
       "      <td>3212</td>\n",
       "      <td>1489</td>\n",
       "      <td>10.0</td>\n",
       "      <td>0.0</td>\n",
       "      <td>0.0</td>\n",
       "      <td>19559.44</td>\n",
       "      <td>20.0</td>\n",
       "      <td>21.0</td>\n",
       "      <td>35</td>\n",
       "      <td>NaN</td>\n",
       "      <td>Санкт-Петербург</td>\n",
       "      <td>...</td>\n",
       "      <td>2018-08-15</td>\n",
       "      <td>smart</td>\n",
       "      <td>50</td>\n",
       "      <td>15360</td>\n",
       "      <td>500</td>\n",
       "      <td>550</td>\n",
       "      <td>200</td>\n",
       "      <td>3</td>\n",
       "      <td>3</td>\n",
       "      <td>1550.0</td>\n",
       "    </tr>\n",
       "    <tr>\n",
       "      <td>3213</td>\n",
       "      <td>1489</td>\n",
       "      <td>11.0</td>\n",
       "      <td>0.0</td>\n",
       "      <td>0.0</td>\n",
       "      <td>17491.56</td>\n",
       "      <td>18.0</td>\n",
       "      <td>20.0</td>\n",
       "      <td>35</td>\n",
       "      <td>NaN</td>\n",
       "      <td>Санкт-Петербург</td>\n",
       "      <td>...</td>\n",
       "      <td>2018-08-15</td>\n",
       "      <td>smart</td>\n",
       "      <td>50</td>\n",
       "      <td>15360</td>\n",
       "      <td>500</td>\n",
       "      <td>550</td>\n",
       "      <td>200</td>\n",
       "      <td>3</td>\n",
       "      <td>3</td>\n",
       "      <td>1150.0</td>\n",
       "    </tr>\n",
       "    <tr>\n",
       "      <td>3214</td>\n",
       "      <td>1489</td>\n",
       "      <td>12.0</td>\n",
       "      <td>0.0</td>\n",
       "      <td>0.0</td>\n",
       "      <td>17322.51</td>\n",
       "      <td>17.0</td>\n",
       "      <td>35.0</td>\n",
       "      <td>35</td>\n",
       "      <td>NaN</td>\n",
       "      <td>Санкт-Петербург</td>\n",
       "      <td>...</td>\n",
       "      <td>2018-08-15</td>\n",
       "      <td>smart</td>\n",
       "      <td>50</td>\n",
       "      <td>15360</td>\n",
       "      <td>500</td>\n",
       "      <td>550</td>\n",
       "      <td>200</td>\n",
       "      <td>3</td>\n",
       "      <td>3</td>\n",
       "      <td>950.0</td>\n",
       "    </tr>\n",
       "    <tr>\n",
       "      <td>3215</td>\n",
       "      <td>1371</td>\n",
       "      <td>NaN</td>\n",
       "      <td>0.0</td>\n",
       "      <td>0.0</td>\n",
       "      <td>NaN</td>\n",
       "      <td>0.0</td>\n",
       "      <td>0.0</td>\n",
       "      <td>50</td>\n",
       "      <td>2018-12-30</td>\n",
       "      <td>Омск</td>\n",
       "      <td>...</td>\n",
       "      <td>2018-12-25</td>\n",
       "      <td>smart</td>\n",
       "      <td>50</td>\n",
       "      <td>15360</td>\n",
       "      <td>500</td>\n",
       "      <td>550</td>\n",
       "      <td>200</td>\n",
       "      <td>3</td>\n",
       "      <td>3</td>\n",
       "      <td>550.0</td>\n",
       "    </tr>\n",
       "  </tbody>\n",
       "</table>\n",
       "<p>3216 rows × 22 columns</p>\n",
       "</div>"
      ],
      "text/plain": [
       "      user_id  month  call_count  call_sum    mb_sum  gb_used  messages_count  \\\n",
       "0        1000    5.0        22.0     159.0   2253.49      3.0            22.0   \n",
       "1        1000    6.0        43.0     172.0  23233.77     23.0            60.0   \n",
       "2        1000    7.0        47.0     340.0  14003.64     14.0            75.0   \n",
       "3        1000    8.0        52.0     408.0  14055.93     14.0            81.0   \n",
       "4        1000    9.0        58.0     466.0  14568.91     15.0            57.0   \n",
       "...       ...    ...         ...       ...       ...      ...             ...   \n",
       "3211     1489    9.0         0.0       0.0  17206.30     17.0            32.0   \n",
       "3212     1489   10.0         0.0       0.0  19559.44     20.0            21.0   \n",
       "3213     1489   11.0         0.0       0.0  17491.56     18.0            20.0   \n",
       "3214     1489   12.0         0.0       0.0  17322.51     17.0            35.0   \n",
       "3215     1371    NaN         0.0       0.0       NaN      0.0             0.0   \n",
       "\n",
       "      age  churn_date             city  ...    reg_date tariff  \\\n",
       "0      52         NaN        Краснодар  ...  2018-05-25  ultra   \n",
       "1      52         NaN        Краснодар  ...  2018-05-25  ultra   \n",
       "2      52         NaN        Краснодар  ...  2018-05-25  ultra   \n",
       "3      52         NaN        Краснодар  ...  2018-05-25  ultra   \n",
       "4      52         NaN        Краснодар  ...  2018-05-25  ultra   \n",
       "...   ...         ...              ...  ...         ...    ...   \n",
       "3211   35         NaN  Санкт-Петербург  ...  2018-08-15  smart   \n",
       "3212   35         NaN  Санкт-Петербург  ...  2018-08-15  smart   \n",
       "3213   35         NaN  Санкт-Петербург  ...  2018-08-15  smart   \n",
       "3214   35         NaN  Санкт-Петербург  ...  2018-08-15  smart   \n",
       "3215   50  2018-12-30             Омск  ...  2018-12-25  smart   \n",
       "\n",
       "     messages_included mb_per_month_included  minutes_included  \\\n",
       "0                 1000                 30720              3000   \n",
       "1                 1000                 30720              3000   \n",
       "2                 1000                 30720              3000   \n",
       "3                 1000                 30720              3000   \n",
       "4                 1000                 30720              3000   \n",
       "...                ...                   ...               ...   \n",
       "3211                50                 15360               500   \n",
       "3212                50                 15360               500   \n",
       "3213                50                 15360               500   \n",
       "3214                50                 15360               500   \n",
       "3215                50                 15360               500   \n",
       "\n",
       "      rub_monthly_fee  rub_per_gb  rub_per_message  rub_per_minute  \\\n",
       "0                1950         150                1               1   \n",
       "1                1950         150                1               1   \n",
       "2                1950         150                1               1   \n",
       "3                1950         150                1               1   \n",
       "4                1950         150                1               1   \n",
       "...               ...         ...              ...             ...   \n",
       "3211              550         200                3               3   \n",
       "3212              550         200                3               3   \n",
       "3213              550         200                3               3   \n",
       "3214              550         200                3               3   \n",
       "3215              550         200                3               3   \n",
       "\n",
       "      tariff_revenue  \n",
       "0             1950.0  \n",
       "1             1950.0  \n",
       "2             1950.0  \n",
       "3             1950.0  \n",
       "4             1950.0  \n",
       "...              ...  \n",
       "3211           950.0  \n",
       "3212          1550.0  \n",
       "3213          1150.0  \n",
       "3214           950.0  \n",
       "3215           550.0  \n",
       "\n",
       "[3216 rows x 22 columns]"
      ]
     },
     "execution_count": 58,
     "metadata": {},
     "output_type": "execute_result"
    }
   ],
   "source": [
    "#введем функцию для расчета и добавим результат в новый столбец\n",
    "def tariff_revenue(row):\n",
    "    minutes = row['call_sum']\n",
    "    messages = row['messages_count']\n",
    "    gb = row['gb_used']\n",
    "    min_limit = row['minutes_included']\n",
    "    message_limit = row['messages_included']\n",
    "    gb_limit = row['mb_per_month_included'] / 1024\n",
    "    rub_per_gb = row['rub_per_gb']\n",
    "    rub_per_message = row['rub_per_message']\n",
    "    rub_per_minute = row['rub_per_minute']  \n",
    "    rub_monthly_fee = row['rub_monthly_fee']\n",
    "    \n",
    "#     if minutes <= min_limit and messages <= message_limit and gb <= gb_limit:\n",
    "#         return rub_monthly_fee\n",
    "#     if minutes <= min_limit and messages <= message_limit and gb > gb_limit:\n",
    "#         return (gb - gb_limit) * rub_per_gb + rub_monthly_fee\n",
    "#     if minutes <= min_limit and messages > message_limit and gb > gb_limit:\n",
    "#         return (gb - gb_limit) * rub_per_gb + (messages - message_limit) * rub_per_message + rub_monthly_fee\n",
    "#     if minutes <= min_limit and messages > message_limit and gb <= gb_limit:\n",
    "#         return (messages - message_limit) * rub_per_message + rub_monthly_fee\n",
    "#     if minutes > min_limit and messages > message_limit and gb > gb_limit:\n",
    "#         return (minutes - min_limit) * rub_per_minute + (gb - gb_limit) * rub_per_gb + (messages - message_limit) * rub_per_message + rub_monthly_fee\n",
    "#     if minutes > min_limit and messages <= message_limit and gb > gb_limit:\n",
    "#         return (minutes - min_limit) * rub_per_minute + (gb - gb_limit) * rub_per_gb + rub_monthly_fee\n",
    "#     if minutes > min_limit and messages > message_limit and gb <= gb_limit:\n",
    "#         return (minutes - min_limit) * rub_per_minute + (messages - message_limit) * rub_per_message + rub_monthly_fee\n",
    "#     if minutes > min_limit and messages <= message_limit and gb <= gb_limit:\n",
    "#         return (minutes - min_limit) * rub_per_minute + rub_monthly_fee\n",
    "\n",
    "    total_sum = 0\n",
    "\n",
    "    if minutes > min_limit:\n",
    "        total_sum += (minutes - min_limit) * rub_per_minute\n",
    "    if messages > message_limit:\n",
    "        total_sum += (messages - message_limit) * rub_per_message\n",
    "    if gb > gb_limit:\n",
    "        total_sum += (gb - gb_limit) * rub_per_gb\n",
    "    return total_sum + rub_monthly_fee\n",
    " \n",
    "df['tariff_revenue'] = df.apply(tariff_revenue, axis = 1)\n",
    "df"
   ]
  },
  {
   "cell_type": "code",
   "execution_count": 59,
   "metadata": {},
   "outputs": [
    {
     "data": {
      "image/png": "[encoded data removed]",
      "text/plain": [
       "<Figure size 432x288 with 1 Axes>"
      ]
     },
     "metadata": {
      "needs_background": "light"
     },
     "output_type": "display_data"
    }
   ],
   "source": [
    "import matplotlib.pyplot as plt\n",
    "df['tariff_revenue'].hist(bins=30, range = (0, 5000))\n",
    "plt.title('Гистограмма выручки')\n",
    "plt.ylabel(\"frequency\")\n",
    "plt.xlabel(\"tariff_revenue\")\n",
    "plt.show()"
   ]
  },
  {
   "cell_type": "markdown",
   "metadata": {},
   "source": [
    "<div class=\"alert alert-info\">\n",
    "<h2>Комментарий студента, дубль 2</h2>\n",
    "Можно ли из гистограммы (данных в ней) как-то оперативно высчитывать проценты/доли?)\n",
    "</div>"
   ]
  },
  {
   "cell_type": "markdown",
   "metadata": {},
   "source": [
    "<div class=\"alert alert-danger\">\n",
    "<h2>Комментарий ревьюера</h2>\n",
    "\n",
    "Неправильно метод работает, например, для случая, когда расход по звонкам 0 минут, но за интернет 44 ГБ и допустим в смс пользователь уложился, метод вернёт абоненскую плату, а нужно бы абоненскую плату + перерасход за интернет. Кстати откуда взялся `mb` в твоей функции? `if mb !=0 and mb > mb_limit:` ты его нигде не определяешь.\n",
    "    \n",
    "    \n",
    "Хочу ещё обратить твоё внимание на то, что у тебя есть пропуски после объединения (и это нормально). Пропуск т.е. `NaN` возвращает `False` для всех операций, кроме проверки на `isna()`, поэтому твой код выше неявно заменит пропуски на абоненскую плату, лучше заменить пропуски нулями и не париться\n",
    "</div>"
   ]
  },
  {
   "cell_type": "markdown",
   "metadata": {},
   "source": [
    "<div class=\"alert alert-info\">\n",
    "<h2>Комментарий студента, дубль 1</h2>\n",
    "Столько всего не учла... Поправила, но данные, судя по диаграмме, изменились незначительно, верно ли теперь? Или есть еще условие, которое упустила?\n",
    "</div>"
   ]
  },
  {
   "cell_type": "markdown",
   "metadata": {},
   "source": [
    "<div class=\"alert alert-success\">\n",
    "<h2>Комментарий ревьюера V.2</h2>\n",
    "\n",
    "Почти всё верно (по модулю того, что надо `gb_sum` вместо `gb_used`), можно заметить, что ты перебираешь варианты больше/меньше или равно для 3ёх переменных. Т.е. каждая переменная принимает два значения, всего их 3, поэтому всего разных комбинаций будет $2^3 = 8$, а у тебя их 7, т.е. одной не хватает, отсюда и пропуск, т.к. функция вернёт `None`, если не зайдёт ни в один из `if`\n",
    "    \n",
    "Можно упростить код как-нибудь так:\n",
    "    \n",
    "```\n",
    "total_sum = 0\n",
    "    \n",
    "if minutes > min_lim:\n",
    "    total_sum += (minutes - min_lim) * rub_per_minute\n",
    "if ...\n",
    "    \n",
    "if ...\n",
    "    \n",
    "return total_sum + rub_monthly_fee\n",
    "    \n",
    "```\n",
    "</div>"
   ]
  },
  {
   "cell_type": "markdown",
   "metadata": {},
   "source": [
    "<div class=\"alert alert-info\">\n",
    "<h2>Комментарий студента, дубль 2</h2>\n",
    "Знала, что можно компактнее написать, очень изящный вариант :) . У меня, к сожалению, не получилось записать его так, чтобы он отработал (закоментила). Но нашла условие, которое пропустила. И вроде как все заработало, тесты тоже. Но уверенности, что верно, нет). Очень сильно поменялась картина. Подскажи, пожалуйста, почему у меня мог не отработать твой вариант и верно ли дальше по выводам? \n",
    "</div>"
   ]
  },
  {
   "cell_type": "markdown",
   "metadata": {},
   "source": [
    "<div class=\"alert alert-success\">\n",
    "<h2>Комментарий ревьюера V.3</h2>\n",
    "\n",
    "Всё верно, у тебя вместо `min_limit` было написано `min_lim`\n",
    "</div>"
   ]
  },
  {
   "cell_type": "code",
   "execution_count": 60,
   "metadata": {},
   "outputs": [
    {
     "data": {
      "text/plain": [
       "0"
      ]
     },
     "execution_count": 60,
     "metadata": {},
     "output_type": "execute_result"
    }
   ],
   "source": [
    "#Код ревьюера\n",
    "# Поэтому у тебя p-value np.nan получается\n",
    "\n",
    "df['tariff_revenue'].isna().sum()"
   ]
  },
  {
   "cell_type": "markdown",
   "metadata": {},
   "source": [
    "Многие пользователи \"укладываются\" в тариф smart, однако существенная часть доплачивается за услуги. Клиентам тарифа ultra проще уложиться в пакеты, однако и у них есть дополнительные затраты."
   ]
  },
  {
   "cell_type": "markdown",
   "metadata": {},
   "source": [
    "### Поведение клиентов оператора"
   ]
  },
  {
   "cell_type": "markdown",
   "metadata": {},
   "source": [
    "Опишите поведение клиентов оператора, исходя из выборки. Сколько минут разговора, сколько сообщений и какой объём интернет-трафика требуется пользователям каждого тарифа в месяц? Посчитайте среднее количество, дисперсию и стандартное отклонение. Постройте гистограммы. Опишите распределения."
   ]
  },
  {
   "cell_type": "markdown",
   "metadata": {},
   "source": [
    "**Сгруппируем данные по тарифу и построим гистограммы**"
   ]
  },
  {
   "cell_type": "code",
   "execution_count": 61,
   "metadata": {},
   "outputs": [
    {
     "data": {
      "text/html": [
       "<div>\n",
       "<style scoped>\n",
       "    .dataframe tbody tr th:only-of-type {\n",
       "        vertical-align: middle;\n",
       "    }\n",
       "\n",
       "    .dataframe tbody tr th {\n",
       "        vertical-align: top;\n",
       "    }\n",
       "\n",
       "    .dataframe thead th {\n",
       "        text-align: right;\n",
       "    }\n",
       "</style>\n",
       "<table border=\"1\" class=\"dataframe\">\n",
       "  <thead>\n",
       "    <tr style=\"text-align: right;\">\n",
       "      <th></th>\n",
       "      <th>user_id</th>\n",
       "      <th>month</th>\n",
       "      <th>call_count</th>\n",
       "      <th>call_sum</th>\n",
       "      <th>mb_sum</th>\n",
       "      <th>gb_used</th>\n",
       "      <th>messages_count</th>\n",
       "      <th>age</th>\n",
       "      <th>churn_date</th>\n",
       "      <th>city</th>\n",
       "      <th>...</th>\n",
       "      <th>last_name</th>\n",
       "      <th>reg_date</th>\n",
       "      <th>messages_included</th>\n",
       "      <th>mb_per_month_included</th>\n",
       "      <th>minutes_included</th>\n",
       "      <th>rub_monthly_fee</th>\n",
       "      <th>rub_per_gb</th>\n",
       "      <th>rub_per_message</th>\n",
       "      <th>rub_per_minute</th>\n",
       "      <th>tariff_revenue</th>\n",
       "    </tr>\n",
       "    <tr>\n",
       "      <th>tariff</th>\n",
       "      <th></th>\n",
       "      <th></th>\n",
       "      <th></th>\n",
       "      <th></th>\n",
       "      <th></th>\n",
       "      <th></th>\n",
       "      <th></th>\n",
       "      <th></th>\n",
       "      <th></th>\n",
       "      <th></th>\n",
       "      <th></th>\n",
       "      <th></th>\n",
       "      <th></th>\n",
       "      <th></th>\n",
       "      <th></th>\n",
       "      <th></th>\n",
       "      <th></th>\n",
       "      <th></th>\n",
       "      <th></th>\n",
       "      <th></th>\n",
       "      <th></th>\n",
       "    </tr>\n",
       "  </thead>\n",
       "  <tbody>\n",
       "    <tr>\n",
       "      <td>smart</td>\n",
       "      <td>2230</td>\n",
       "      <td>2229</td>\n",
       "      <td>2230</td>\n",
       "      <td>2230</td>\n",
       "      <td>2228</td>\n",
       "      <td>2230</td>\n",
       "      <td>2230</td>\n",
       "      <td>2230</td>\n",
       "      <td>112</td>\n",
       "      <td>2230</td>\n",
       "      <td>...</td>\n",
       "      <td>2230</td>\n",
       "      <td>2230</td>\n",
       "      <td>2230</td>\n",
       "      <td>2230</td>\n",
       "      <td>2230</td>\n",
       "      <td>2230</td>\n",
       "      <td>2230</td>\n",
       "      <td>2230</td>\n",
       "      <td>2230</td>\n",
       "      <td>2230</td>\n",
       "    </tr>\n",
       "    <tr>\n",
       "      <td>ultra</td>\n",
       "      <td>986</td>\n",
       "      <td>985</td>\n",
       "      <td>986</td>\n",
       "      <td>986</td>\n",
       "      <td>975</td>\n",
       "      <td>986</td>\n",
       "      <td>986</td>\n",
       "      <td>986</td>\n",
       "      <td>77</td>\n",
       "      <td>986</td>\n",
       "      <td>...</td>\n",
       "      <td>986</td>\n",
       "      <td>986</td>\n",
       "      <td>986</td>\n",
       "      <td>986</td>\n",
       "      <td>986</td>\n",
       "      <td>986</td>\n",
       "      <td>986</td>\n",
       "      <td>986</td>\n",
       "      <td>986</td>\n",
       "      <td>986</td>\n",
       "    </tr>\n",
       "  </tbody>\n",
       "</table>\n",
       "<p>2 rows × 21 columns</p>\n",
       "</div>"
      ],
      "text/plain": [
       "        user_id  month  call_count  call_sum  mb_sum  gb_used  messages_count  \\\n",
       "tariff                                                                          \n",
       "smart      2230   2229        2230      2230    2228     2230            2230   \n",
       "ultra       986    985         986       986     975      986             986   \n",
       "\n",
       "         age  churn_date  city  ...  last_name  reg_date  messages_included  \\\n",
       "tariff                          ...                                           \n",
       "smart   2230         112  2230  ...       2230      2230               2230   \n",
       "ultra    986          77   986  ...        986       986                986   \n",
       "\n",
       "        mb_per_month_included  minutes_included  rub_monthly_fee  rub_per_gb  \\\n",
       "tariff                                                                         \n",
       "smart                    2230              2230             2230        2230   \n",
       "ultra                     986               986              986         986   \n",
       "\n",
       "        rub_per_message  rub_per_minute  tariff_revenue  \n",
       "tariff                                                   \n",
       "smart              2230            2230            2230  \n",
       "ultra               986             986             986  \n",
       "\n",
       "[2 rows x 21 columns]"
      ]
     },
     "execution_count": 61,
     "metadata": {},
     "output_type": "execute_result"
    }
   ],
   "source": [
    "df.groupby('tariff').count()"
   ]
  },
  {
   "cell_type": "code",
   "execution_count": 62,
   "metadata": {},
   "outputs": [
    {
     "data": {
      "text/html": [
       "<div>\n",
       "<style scoped>\n",
       "    .dataframe tbody tr th:only-of-type {\n",
       "        vertical-align: middle;\n",
       "    }\n",
       "\n",
       "    .dataframe tbody tr th {\n",
       "        vertical-align: top;\n",
       "    }\n",
       "\n",
       "    .dataframe thead th {\n",
       "        text-align: right;\n",
       "    }\n",
       "</style>\n",
       "<table border=\"1\" class=\"dataframe\">\n",
       "  <thead>\n",
       "    <tr style=\"text-align: right;\">\n",
       "      <th></th>\n",
       "      <th>user_id</th>\n",
       "      <th>month</th>\n",
       "      <th>call_count</th>\n",
       "      <th>call_sum</th>\n",
       "      <th>mb_sum</th>\n",
       "      <th>gb_used</th>\n",
       "      <th>messages_count</th>\n",
       "      <th>age</th>\n",
       "      <th>messages_included</th>\n",
       "      <th>mb_per_month_included</th>\n",
       "      <th>minutes_included</th>\n",
       "      <th>rub_monthly_fee</th>\n",
       "      <th>rub_per_gb</th>\n",
       "      <th>rub_per_message</th>\n",
       "      <th>rub_per_minute</th>\n",
       "      <th>tariff_revenue</th>\n",
       "    </tr>\n",
       "    <tr>\n",
       "      <th>tariff</th>\n",
       "      <th></th>\n",
       "      <th></th>\n",
       "      <th></th>\n",
       "      <th></th>\n",
       "      <th></th>\n",
       "      <th></th>\n",
       "      <th></th>\n",
       "      <th></th>\n",
       "      <th></th>\n",
       "      <th></th>\n",
       "      <th></th>\n",
       "      <th></th>\n",
       "      <th></th>\n",
       "      <th></th>\n",
       "      <th></th>\n",
       "      <th></th>\n",
       "    </tr>\n",
       "  </thead>\n",
       "  <tbody>\n",
       "    <tr>\n",
       "      <td>smart</td>\n",
       "      <td>1246</td>\n",
       "      <td>8</td>\n",
       "      <td>58</td>\n",
       "      <td>417</td>\n",
       "      <td>16215</td>\n",
       "      <td>16</td>\n",
       "      <td>33</td>\n",
       "      <td>46</td>\n",
       "      <td>50</td>\n",
       "      <td>15360</td>\n",
       "      <td>500</td>\n",
       "      <td>550</td>\n",
       "      <td>200</td>\n",
       "      <td>3</td>\n",
       "      <td>3</td>\n",
       "      <td>1289</td>\n",
       "    </tr>\n",
       "    <tr>\n",
       "      <td>ultra</td>\n",
       "      <td>1262</td>\n",
       "      <td>8</td>\n",
       "      <td>73</td>\n",
       "      <td>526</td>\n",
       "      <td>19668</td>\n",
       "      <td>19</td>\n",
       "      <td>49</td>\n",
       "      <td>46</td>\n",
       "      <td>1000</td>\n",
       "      <td>30720</td>\n",
       "      <td>3000</td>\n",
       "      <td>1950</td>\n",
       "      <td>150</td>\n",
       "      <td>1</td>\n",
       "      <td>1</td>\n",
       "      <td>2070</td>\n",
       "    </tr>\n",
       "  </tbody>\n",
       "</table>\n",
       "</div>"
      ],
      "text/plain": [
       "        user_id  month  call_count  call_sum  mb_sum  gb_used  messages_count  \\\n",
       "tariff                                                                          \n",
       "smart      1246      8          58       417   16215       16              33   \n",
       "ultra      1262      8          73       526   19668       19              49   \n",
       "\n",
       "        age  messages_included  mb_per_month_included  minutes_included  \\\n",
       "tariff                                                                    \n",
       "smart    46                 50                  15360               500   \n",
       "ultra    46               1000                  30720              3000   \n",
       "\n",
       "        rub_monthly_fee  rub_per_gb  rub_per_message  rub_per_minute  \\\n",
       "tariff                                                                 \n",
       "smart               550         200                3               3   \n",
       "ultra              1950         150                1               1   \n",
       "\n",
       "        tariff_revenue  \n",
       "tariff                  \n",
       "smart             1289  \n",
       "ultra             2070  "
      ]
     },
     "execution_count": 62,
     "metadata": {},
     "output_type": "execute_result"
    }
   ],
   "source": [
    "df.groupby('tariff').mean().astype('int')"
   ]
  },
  {
   "cell_type": "code",
   "execution_count": 63,
   "metadata": {},
   "outputs": [
    {
     "data": {
      "text/html": [
       "<div>\n",
       "<style scoped>\n",
       "    .dataframe tbody tr th:only-of-type {\n",
       "        vertical-align: middle;\n",
       "    }\n",
       "\n",
       "    .dataframe tbody tr th {\n",
       "        vertical-align: top;\n",
       "    }\n",
       "\n",
       "    .dataframe thead th {\n",
       "        text-align: right;\n",
       "    }\n",
       "</style>\n",
       "<table border=\"1\" class=\"dataframe\">\n",
       "  <thead>\n",
       "    <tr style=\"text-align: right;\">\n",
       "      <th></th>\n",
       "      <th>user_id</th>\n",
       "      <th>month</th>\n",
       "      <th>call_count</th>\n",
       "      <th>call_sum</th>\n",
       "      <th>mb_sum</th>\n",
       "      <th>gb_used</th>\n",
       "      <th>messages_count</th>\n",
       "      <th>age</th>\n",
       "      <th>messages_included</th>\n",
       "      <th>mb_per_month_included</th>\n",
       "      <th>minutes_included</th>\n",
       "      <th>rub_monthly_fee</th>\n",
       "      <th>rub_per_gb</th>\n",
       "      <th>rub_per_message</th>\n",
       "      <th>rub_per_minute</th>\n",
       "      <th>tariff_revenue</th>\n",
       "    </tr>\n",
       "    <tr>\n",
       "      <th>tariff</th>\n",
       "      <th></th>\n",
       "      <th></th>\n",
       "      <th></th>\n",
       "      <th></th>\n",
       "      <th></th>\n",
       "      <th></th>\n",
       "      <th></th>\n",
       "      <th></th>\n",
       "      <th></th>\n",
       "      <th></th>\n",
       "      <th></th>\n",
       "      <th></th>\n",
       "      <th></th>\n",
       "      <th></th>\n",
       "      <th></th>\n",
       "      <th></th>\n",
       "    </tr>\n",
       "  </thead>\n",
       "  <tbody>\n",
       "    <tr>\n",
       "      <td>smart</td>\n",
       "      <td>1240</td>\n",
       "      <td>9</td>\n",
       "      <td>60</td>\n",
       "      <td>421</td>\n",
       "      <td>16507</td>\n",
       "      <td>17</td>\n",
       "      <td>28</td>\n",
       "      <td>47</td>\n",
       "      <td>50</td>\n",
       "      <td>15360</td>\n",
       "      <td>500</td>\n",
       "      <td>550</td>\n",
       "      <td>200</td>\n",
       "      <td>3</td>\n",
       "      <td>3</td>\n",
       "      <td>1021</td>\n",
       "    </tr>\n",
       "    <tr>\n",
       "      <td>ultra</td>\n",
       "      <td>1277</td>\n",
       "      <td>9</td>\n",
       "      <td>73</td>\n",
       "      <td>518</td>\n",
       "      <td>19394</td>\n",
       "      <td>19</td>\n",
       "      <td>38</td>\n",
       "      <td>45</td>\n",
       "      <td>1000</td>\n",
       "      <td>30720</td>\n",
       "      <td>3000</td>\n",
       "      <td>1950</td>\n",
       "      <td>150</td>\n",
       "      <td>1</td>\n",
       "      <td>1</td>\n",
       "      <td>1950</td>\n",
       "    </tr>\n",
       "  </tbody>\n",
       "</table>\n",
       "</div>"
      ],
      "text/plain": [
       "        user_id  month  call_count  call_sum  mb_sum  gb_used  messages_count  \\\n",
       "tariff                                                                          \n",
       "smart      1240      9          60       421   16507       17              28   \n",
       "ultra      1277      9          73       518   19394       19              38   \n",
       "\n",
       "        age  messages_included  mb_per_month_included  minutes_included  \\\n",
       "tariff                                                                    \n",
       "smart    47                 50                  15360               500   \n",
       "ultra    45               1000                  30720              3000   \n",
       "\n",
       "        rub_monthly_fee  rub_per_gb  rub_per_message  rub_per_minute  \\\n",
       "tariff                                                                 \n",
       "smart               550         200                3               3   \n",
       "ultra              1950         150                1               1   \n",
       "\n",
       "        tariff_revenue  \n",
       "tariff                  \n",
       "smart             1021  \n",
       "ultra             1950  "
      ]
     },
     "execution_count": 63,
     "metadata": {},
     "output_type": "execute_result"
    }
   ],
   "source": [
    "df.groupby('tariff').median().astype('int')"
   ]
  },
  {
   "cell_type": "code",
   "execution_count": 64,
   "metadata": {},
   "outputs": [
    {
     "data": {
      "image/png": "[encoded data removed]",
      "text/plain": [
       "<Figure size 432x288 with 1 Axes>"
      ]
     },
     "metadata": {
      "needs_background": "light"
     },
     "output_type": "display_data"
    },
    {
     "data": {
      "image/png": "[encoded data removed]",
      "text/plain": [
       "<Figure size 432x288 with 1 Axes>"
      ]
     },
     "metadata": {
      "needs_background": "light"
     },
     "output_type": "display_data"
    }
   ],
   "source": [
    "#построим гистограмму для длительности звонков\n",
    "for tariff, data in df.groupby('tariff'):\n",
    "    data.plot(y='call_sum', title=tariff, kind='hist', bins=20, grid=True)\n",
    "    plt.ylabel(\"frequency\")\n",
    "    plt.xlabel(\"Длительность звонков в месяц, мин\")"
   ]
  },
  {
   "cell_type": "markdown",
   "metadata": {},
   "source": [
    "Для обоих тарифов распределение длительность звонков можно отнести к нормальным. Среднее и медиана отличаются незначительно. В обоих тарифах есть пользователи, которым не хватает пакетных минут. В тарифе smart таких пользователей больше. "
   ]
  },
  {
   "cell_type": "code",
   "execution_count": 65,
   "metadata": {
    "scrolled": true
   },
   "outputs": [
    {
     "data": {
      "image/png": "[encoded data removed]",
      "text/plain": [
       "<Figure size 432x288 with 1 Axes>"
      ]
     },
     "metadata": {
      "needs_background": "light"
     },
     "output_type": "display_data"
    },
    {
     "data": {
      "image/png": "[encoded data removed]",
      "text/plain": [
       "<Figure size 432x288 with 1 Axes>"
      ]
     },
     "metadata": {
      "needs_background": "light"
     },
     "output_type": "display_data"
    }
   ],
   "source": [
    "#построим гистограмму для сообщений\n",
    "for tariff, data in df.groupby('tariff'):\n",
    "    data.plot(y='messages_count', title=tariff, kind='hist', bins=30, grid=True)\n",
    "    plt.ylabel(\"frequency\")\n",
    "    plt.xlabel(\"Количество сообщений в месяц, шт\")"
   ]
  },
  {
   "cell_type": "markdown",
   "metadata": {},
   "source": [
    "Для обоих тарифов распределение сообщений ассиметрично, имеет скошенность в положительную сторону. Многим пользователям в тарифе smart не хватает пакетных сообщений. Пользователям ultra далеко до лимита сообщений в месяц. "
   ]
  },
  {
   "cell_type": "markdown",
   "metadata": {},
   "source": [
    "<div class=\"alert alert-success\">\n",
    "<h2>Комментарий ревьюера</h2>\n",
    "    \n",
    "Если интересно, то это распределение Пуассона https://ru.wikipedia.org/wiki/%D0%A0%D0%B0%D1%81%D0%BF%D1%80%D0%B5%D0%B4%D0%B5%D0%BB%D0%B5%D0%BD%D0%B8%D0%B5_%D0%9F%D1%83%D0%B0%D1%81%D1%81%D0%BE%D0%BD%D0%B0\n",
    "</div>"
   ]
  },
  {
   "cell_type": "code",
   "execution_count": 66,
   "metadata": {
    "scrolled": true
   },
   "outputs": [
    {
     "data": {
      "image/png": "[encoded data removed]",
      "text/plain": [
       "<Figure size 432x288 with 1 Axes>"
      ]
     },
     "metadata": {
      "needs_background": "light"
     },
     "output_type": "display_data"
    },
    {
     "data": {
      "image/png": "[encoded data removed]",
      "text/plain": [
       "<Figure size 432x288 with 1 Axes>"
      ]
     },
     "metadata": {
      "needs_background": "light"
     },
     "output_type": "display_data"
    }
   ],
   "source": [
    "#построим гистограмму для трафика\n",
    "for tariff, data in df.groupby('tariff'):\n",
    "    data.plot(y='gb_used', title=tariff, kind='hist', bins=20, grid=True)\n",
    "    plt.ylabel(\"frequency\")\n",
    "    plt.xlabel(\"Использование мобильного трафика в месяц, Гб\")"
   ]
  },
  {
   "cell_type": "markdown",
   "metadata": {},
   "source": [
    "Распределения использования трафика можно отнести к нормальным. Пользователям в обоих тарифах не хватает Гб: почти половине пользователей в тарифе smart, и небольшой части в тарифе ultra."
   ]
  },
  {
   "cell_type": "code",
   "execution_count": 67,
   "metadata": {},
   "outputs": [
    {
     "data": {
      "image/png": "[encoded data removed]",
      "text/plain": [
       "<Figure size 432x288 with 1 Axes>"
      ]
     },
     "metadata": {
      "needs_background": "light"
     },
     "output_type": "display_data"
    }
   ],
   "source": [
    "# df.loc[df['tariff']=='smart', 'call_sum'].plot(bins=20, kind='hist', alpha=0.5);\n",
    "# df.loc[df['tariff']=='ultra', 'call_sum'].plot(bins=20, kind='hist', alpha=0.5);\n",
    "smart_calls = df.loc[df['tariff']=='smart', 'call_sum']\n",
    "ultra_calls = df.loc[df['tariff']=='ultra', 'call_sum']\n",
    "\n",
    "smart_calls.plot(bins=20, kind='hist', alpha=0.5);\n",
    "ultra_calls.plot(bins=20, kind='hist', alpha=0.5);\n",
    "\n",
    "plt.ylabel(\"frequency\")\n",
    "plt.xlabel(\"Длительность звонков в месяц, мин\")\n",
    "plt.legend(('smart_calls', 'ultra_calls'))\n",
    "plt.show()"
   ]
  },
  {
   "cell_type": "code",
   "execution_count": 68,
   "metadata": {},
   "outputs": [
    {
     "data": {
      "image/png": "[encoded data removed]",
      "text/plain": [
       "<Figure size 432x288 with 1 Axes>"
      ]
     },
     "metadata": {
      "needs_background": "light"
     },
     "output_type": "display_data"
    }
   ],
   "source": [
    "df.loc[df['tariff']=='smart', 'messages_count'].plot(bins=20, kind='hist', alpha=0.5);\n",
    "df.loc[df['tariff']=='ultra', 'messages_count'].plot(bins=20, kind='hist', alpha=0.5);\n",
    "plt.xlabel(\"Количество сообщений в месяц, шт\")\n",
    "plt.legend(('smart_messages', 'ultra_messages'))\n",
    "plt.show()"
   ]
  },
  {
   "cell_type": "code",
   "execution_count": 69,
   "metadata": {},
   "outputs": [
    {
     "data": {
      "image/png": "[encoded data removed]",
      "text/plain": [
       "<Figure size 432x288 with 1 Axes>"
      ]
     },
     "metadata": {
      "needs_background": "light"
     },
     "output_type": "display_data"
    }
   ],
   "source": [
    "df.loc[df['tariff']=='smart', 'gb_used'].plot(bins=20, kind='hist', alpha=0.5);\n",
    "df.loc[df['tariff']=='ultra', 'gb_used'].plot(bins=20, kind='hist', alpha=0.5);\n",
    "plt.xlabel(\"Использование мобильного трафика в месяц, Гб\")\n",
    "plt.legend(('smart_traffic', 'ultra_traffic'))\n",
    "plt.show()"
   ]
  },
  {
   "cell_type": "markdown",
   "metadata": {},
   "source": [
    "Так как пользователей тарифа smart больше, у них большая площадь на сравнительных графиках."
   ]
  },
  {
   "cell_type": "markdown",
   "metadata": {},
   "source": [
    "<div class=\"alert alert-success\">\n",
    "<h2>Комментарий ревьюера</h2>\n",
    "\n",
    "Неплохо бы иметь названия и легенду для таких графиков :)\n",
    "</div>"
   ]
  },
  {
   "cell_type": "markdown",
   "metadata": {},
   "source": [
    "<div class=\"alert alert-info\">\n",
    "<h2>Комментарий студента, дубль 1</h2>\n",
    "\n",
    "Согласна). То добавила, что нужно?\n",
    "</div>"
   ]
  },
  {
   "cell_type": "markdown",
   "metadata": {},
   "source": [
    "<div class=\"alert alert-success\">\n",
    "<h2>Комментарий ревьюера V.2</h2>\n",
    "\n",
    "Ага :)\n",
    "</div>"
   ]
  },
  {
   "cell_type": "markdown",
   "metadata": {},
   "source": [
    "**Посчитаем дисперсию и стандартное отклонение**"
   ]
  },
  {
   "cell_type": "code",
   "execution_count": 70,
   "metadata": {},
   "outputs": [
    {
     "name": "stdout",
     "output_type": "stream",
     "text": [
      "58592.39952977263\n"
     ]
    }
   ],
   "source": [
    "#посчитаем общую дисперсию для длительности звонков\n",
    "\n",
    "import numpy as np\n",
    "\n",
    "calls = df['call_sum']\n",
    "calls_variance = np.var(calls)\n",
    "print(calls_variance)"
   ]
  },
  {
   "cell_type": "code",
   "execution_count": 71,
   "metadata": {},
   "outputs": [
    {
     "name": "stdout",
     "output_type": "stream",
     "text": [
      "36281.39383644458\n"
     ]
    }
   ],
   "source": [
    "#посчитаем дисперсию для длительности звонков в тарифе smart\n",
    "calls_smart = df.loc[df['tariff']=='smart', 'call_sum']\n",
    "#calls_smart.head()\n",
    "calls_smart_variance = np.var(calls_smart, ddof=1)\n",
    "print(calls_smart_variance)"
   ]
  },
  {
   "cell_type": "code",
   "execution_count": 72,
   "metadata": {},
   "outputs": [
    {
     "name": "stdout",
     "output_type": "stream",
     "text": [
      "101052.49354928387\n"
     ]
    }
   ],
   "source": [
    "#посчитаем дисперсию для длительности звонков в тарифе ultra\n",
    "calls_ultra = df.loc[df['tariff']=='ultra', 'call_sum']\n",
    "calls_ultra_variance = np.var(calls_ultra, ddof=1)\n",
    "print(calls_ultra_variance)"
   ]
  },
  {
   "cell_type": "markdown",
   "metadata": {},
   "source": [
    "**Сгруппируем данные и посчитаем дисперсию и стандартное отклонение по тарифам**"
   ]
  },
  {
   "cell_type": "code",
   "execution_count": 73,
   "metadata": {},
   "outputs": [
    {
     "data": {
      "text/html": [
       "<div>\n",
       "<style scoped>\n",
       "    .dataframe tbody tr th:only-of-type {\n",
       "        vertical-align: middle;\n",
       "    }\n",
       "\n",
       "    .dataframe tbody tr th {\n",
       "        vertical-align: top;\n",
       "    }\n",
       "\n",
       "    .dataframe thead th {\n",
       "        text-align: right;\n",
       "    }\n",
       "</style>\n",
       "<table border=\"1\" class=\"dataframe\">\n",
       "  <thead>\n",
       "    <tr style=\"text-align: right;\">\n",
       "      <th></th>\n",
       "      <th>call_sum</th>\n",
       "      <th>gb_used</th>\n",
       "      <th>messages_count</th>\n",
       "    </tr>\n",
       "    <tr>\n",
       "      <th>tariff</th>\n",
       "      <th></th>\n",
       "      <th></th>\n",
       "      <th></th>\n",
       "    </tr>\n",
       "  </thead>\n",
       "  <tbody>\n",
       "    <tr>\n",
       "      <td>smart</td>\n",
       "      <td>36281.393836</td>\n",
       "      <td>33.133453</td>\n",
       "      <td>796.955256</td>\n",
       "    </tr>\n",
       "    <tr>\n",
       "      <td>ultra</td>\n",
       "      <td>101052.493549</td>\n",
       "      <td>97.378544</td>\n",
       "      <td>2285.417425</td>\n",
       "    </tr>\n",
       "  </tbody>\n",
       "</table>\n",
       "</div>"
      ],
      "text/plain": [
       "             call_sum    gb_used  messages_count\n",
       "tariff                                          \n",
       "smart    36281.393836  33.133453      796.955256\n",
       "ultra   101052.493549  97.378544     2285.417425"
      ]
     },
     "execution_count": 73,
     "metadata": {},
     "output_type": "execute_result"
    }
   ],
   "source": [
    "df[['call_sum', 'gb_used', 'messages_count', 'tariff']].groupby('tariff').var(ddof=1)"
   ]
  },
  {
   "cell_type": "code",
   "execution_count": 74,
   "metadata": {},
   "outputs": [
    {
     "data": {
      "text/html": [
       "<div>\n",
       "<style scoped>\n",
       "    .dataframe tbody tr th:only-of-type {\n",
       "        vertical-align: middle;\n",
       "    }\n",
       "\n",
       "    .dataframe tbody tr th {\n",
       "        vertical-align: top;\n",
       "    }\n",
       "\n",
       "    .dataframe thead th {\n",
       "        text-align: right;\n",
       "    }\n",
       "</style>\n",
       "<table border=\"1\" class=\"dataframe\">\n",
       "  <thead>\n",
       "    <tr style=\"text-align: right;\">\n",
       "      <th></th>\n",
       "      <th>call_sum</th>\n",
       "      <th>gb_used</th>\n",
       "      <th>messages_count</th>\n",
       "    </tr>\n",
       "    <tr>\n",
       "      <th>tariff</th>\n",
       "      <th></th>\n",
       "      <th></th>\n",
       "      <th></th>\n",
       "    </tr>\n",
       "  </thead>\n",
       "  <tbody>\n",
       "    <tr>\n",
       "      <td>smart</td>\n",
       "      <td>190.476754</td>\n",
       "      <td>5.756167</td>\n",
       "      <td>28.230396</td>\n",
       "    </tr>\n",
       "    <tr>\n",
       "      <td>ultra</td>\n",
       "      <td>317.887549</td>\n",
       "      <td>9.868057</td>\n",
       "      <td>47.806040</td>\n",
       "    </tr>\n",
       "  </tbody>\n",
       "</table>\n",
       "</div>"
      ],
      "text/plain": [
       "          call_sum   gb_used  messages_count\n",
       "tariff                                      \n",
       "smart   190.476754  5.756167       28.230396\n",
       "ultra   317.887549  9.868057       47.806040"
      ]
     },
     "execution_count": 74,
     "metadata": {},
     "output_type": "execute_result"
    }
   ],
   "source": [
    "df[['call_sum', 'gb_used', 'messages_count', 'tariff']].groupby('tariff').std(ddof=1)"
   ]
  },
  {
   "cell_type": "markdown",
   "metadata": {},
   "source": [
    "Дисперсия в тарифах сильно отличается, у тарифа ultra она больше: почти в 3 раза по всем показателям. Стандартное отклонение у тарифа ultra также больше (что логично)."
   ]
  },
  {
   "cell_type": "markdown",
   "metadata": {},
   "source": [
    "## Гипотезы"
   ]
  },
  {
   "cell_type": "markdown",
   "metadata": {},
   "source": [
    "### Проверим различается ли средняя выручка пользователей тарифов «Ультра» и «Смарт» "
   ]
  },
  {
   "cell_type": "code",
   "execution_count": 75,
   "metadata": {},
   "outputs": [
    {
     "name": "stdout",
     "output_type": "stream",
     "text": [
      "p-значение:  1.927011394420941e-250\n",
      "Отвергаем нулевую гипотезу о том, что cредняя выручка от тарифов «Смарт» и «Ультра» не различается\n"
     ]
    }
   ],
   "source": [
    "from scipy import stats as st\n",
    "\n",
    "revenue_smart = df.loc[df['tariff'] == 'smart', 'tariff_revenue']\n",
    "revenue_ultra = df.loc[df['tariff'] == 'ultra', 'tariff_revenue']\n",
    "\n",
    "alpha = 0.05 #допустим, что в 5% случаев мы готовы ошибаться\n",
    "\n",
    "#выдвинем гипотезу, что выручки равны\n",
    "\n",
    "results = st.ttest_ind(revenue_smart, revenue_ultra, equal_var=False)\n",
    "print('p-значение: ', results.pvalue)\n",
    "\n",
    "if (results.pvalue < alpha):\n",
    "    print(\"Отвергаем нулевую гипотезу о том, что cредняя выручка от тарифов «Смарт» и «Ультра» не различается\")\n",
    "else:\n",
    "    print(\"Не получилось отвергнуть нулевую гипотезу о том, что cредняя выручка от тарифов «Смарт» и «Ультра» не различается\")"
   ]
  },
  {
   "cell_type": "markdown",
   "metadata": {},
   "source": [
    "<div class=\"alert alert-danger\">\n",
    "<h2>Комментарий ревьюера</h2>\n",
    "\n",
    "Здесь уже надо аккуратнее:\n",
    "    <li>у тебя неправильно сформулированы гипотезы: нулевая гипотеза всегда говорит о том, что статистически значимых различий нет, т.е. тут говорит о том, что средние равны </li>\n",
    "        <li>Зачем `p-value` делить пополам? И почему гипотеза одностороняя? По умолчанию тест, который ты используешь `two-sided` </li>\n",
    "        <li>Зачем проверять: `revenue_smart.mean() == revenue_ultra.mean()`?  Тесты для того и были придуманы, потому что простая проверка средних арифметических не статистически значимая</li>\n",
    "        <li>Если интересно, вот материал про разницу тестов https://stats.idre.ucla.edu/other/mult-pkg/faq/general/faq-what-are-the-differences-between-one-tailed-and-two-tailed-tests/ </li>\n",
    "        <li>Для проверки равенства средних двух независимых  выборок есть тест `ttest_ind` (https://en.wikipedia.org/wiki/Student%27s_t-test тут можно все разновидности посмотреть). Разница между ними на самом деле не очень большая, но этот тест во-первых учитывает размер выборок, а во-вторых может учитывать дисперсии, которые как ты выше заметила скорее всего разные </li>    \n",
    "    \n",
    "    \n",
    "В общем если коротко, то надо правильно сформулировать гипотезы и использовать `ttest_ind` с `equal_var=False`\n",
    "</div>"
   ]
  },
  {
   "cell_type": "markdown",
   "metadata": {},
   "source": [
    "<div class=\"alert alert-info\">\n",
    "<h2>Комментарий студента, дубль 1</h2>\n",
    "\n",
    "Ох, эта тема пока не улеглась в голове, буду проходить еще раз. Спасибо за подробные комментарии и ссылку!) У меня почему-то получается NaN в обоих случаях, с чем это может быть связано? Подскажи, пожалуйста, где я ошибаюсь?\n",
    "</div>"
   ]
  },
  {
   "cell_type": "markdown",
   "metadata": {},
   "source": [
    "<div class=\"alert alert-success\">\n",
    "<h2>Комментарий ревьюера V.2</h2>\n",
    "\n",
    "Написал выше из-за чего так происходит. Советую тебе явно написать формулировку гипотез текстом и поправить их в `print'ах`, т.к. нулевая гипотеза о том, что например средние для выручек пользователей из Москвы и регионов равны, т.е. если она отклоняется, то выручки скорее всего не равны, а не наоборот\n",
    "</div>"
   ]
  },
  {
   "cell_type": "markdown",
   "metadata": {},
   "source": [
    "Несмотря на то, что стоимость тарифов отличается более, чем в 3 раза, средняя выручка от пользователей не отличается. Вероятно из-за того, что пользователей тарифа smart больше: 2 230 против 986."
   ]
  },
  {
   "cell_type": "markdown",
   "metadata": {},
   "source": [
    "<div class=\"alert alert-success\">\n",
    "<h2>Комментарий ревьюера V.3</h2>\n",
    "\n",
    "> Отвергаем нулевую гипотезу о том, что cредняя выручка от тарифов «Смарт» и «Ультра» не различается\n",
    "\n",
    "Ну раз так выводится, то очевидно, что выручка всё таки различается :)\n",
    "</div>"
   ]
  },
  {
   "cell_type": "markdown",
   "metadata": {},
   "source": [
    "### Проверим, отличается ли выручка от пользователей в Москве от выручки в других регионах"
   ]
  },
  {
   "cell_type": "code",
   "execution_count": 76,
   "metadata": {},
   "outputs": [
    {
     "name": "stdout",
     "output_type": "stream",
     "text": [
      "p-значение:  0.5216952110000278\n",
      "Не получилось отвергнуть нулевую гипотезу о том, что выручка от пользователей в Москве не отличается от выручки в других регионах\n"
     ]
    }
   ],
   "source": [
    "#выдвинем двустороннюю гипотезу, что выручки отличаются\n",
    "\n",
    "revenue_msk = df.loc[df['city'] == 'Москва', 'tariff_revenue']\n",
    "revenue_reg = df.loc[df['city'] != 'Москва', 'tariff_revenue']\n",
    "\n",
    "alpha = 0.05\n",
    "\n",
    "results = st.ttest_ind(revenue_msk, revenue_reg, equal_var=False)\n",
    "print('p-значение: ', results.pvalue)\n",
    "\n",
    "if results.pvalue < alpha:\n",
    "    print(\"Отвергаем нулевую гипотезу о том, что выручка от пользователей в Москве не отличается от выручки в других регионах\")\n",
    "else:\n",
    "    print(\"Не получилось отвергнуть нулевую гипотезу о том, что выручка от пользователей в Москве не отличается от выручки в других регионах\")"
   ]
  },
  {
   "cell_type": "markdown",
   "metadata": {},
   "source": [
    "<div class=\"alert alert-success\">\n",
    "<h2>Комментарий ревьюера</h2>\n",
    "\n",
    "Здесь аналогично как и выше. Тут кстати ты зачем-то используешь медиану вместо среднего, хотя тест предполагает среднее :) Вывод ниже скорректируется как всё поправишь\n",
    "</div>"
   ]
  },
  {
   "cell_type": "markdown",
   "metadata": {},
   "source": [
    "По нашим данным выручка от столичных пользователей не отличается от выручки в регионах, по крайней мере, нам не удалось отвергнуть гипотезу, что они равны. "
   ]
  },
  {
   "cell_type": "markdown",
   "metadata": {},
   "source": [
    "## Общие выводы"
   ]
  },
  {
   "cell_type": "markdown",
   "metadata": {},
   "source": [
    "Какой тариф лучше? По показателям средней выручки тариф ultra приносит больший доход, хотя у него и меньше пользоватлей. У тарифа smart много пользователей, которые выходят за лимиты: по длительности звонков, количеству сообщений и трафику. В обоих тарифах есть пользователи, которым не хватает трафика мобильного интернета, но в тарифе ultra - это небольшая часть клиентов. \n",
    "\n",
    "Возможно, стоит ввести акционный тариф с большим количеством минут (наример, 800), сообщений (80-100) и Гб в пакете (20-20) и протестировать его популярность и доходность. Для пользователей тарифа ultra можно ввести пакет с дополнительным трафиком или повысить лимит ГБ и поднять абонентскую плату. "
   ]
  },
  {
   "cell_type": "markdown",
   "metadata": {},
   "source": [
    "<div class=\"alert alert-success\">\n",
    "<h2>Комментарий ревьюера V.3</h2>\n",
    "\n",
    "👍\n",
    "</div>"
   ]
  }
 ],
 "metadata": {
  "ExecuteTimeLog": [
   {
    "duration": 1053,
    "start_time": "2021-06-08T15:48:46.191Z"
   },
   {
    "duration": 193,
    "start_time": "2021-06-08T15:48:47.247Z"
   },
   {
    "duration": 138,
    "start_time": "2021-06-08T15:48:47.443Z"
   },
   {
    "duration": 30,
    "start_time": "2021-06-08T15:48:47.583Z"
   },
   {
    "duration": 43,
    "start_time": "2021-06-08T15:48:47.626Z"
   },
   {
    "duration": 457,
    "start_time": "2021-06-08T15:48:47.672Z"
   },
   {
    "duration": 353,
    "start_time": "2021-06-08T15:48:48.132Z"
   },
   {
    "duration": 304,
    "start_time": "2021-06-08T15:48:48.491Z"
   },
   {
    "duration": 7,
    "start_time": "2021-06-08T15:48:48.799Z"
   },
   {
    "duration": 24,
    "start_time": "2021-06-08T15:48:48.809Z"
   },
   {
    "duration": 231,
    "start_time": "2021-06-08T15:48:48.836Z"
   },
   {
    "duration": 977,
    "start_time": "2021-06-08T15:48:49.069Z"
   },
   {
    "duration": 101,
    "start_time": "2021-06-08T15:48:50.048Z"
   },
   {
    "duration": 38,
    "start_time": "2021-06-08T15:48:50.151Z"
   },
   {
    "duration": 657,
    "start_time": "2021-06-08T15:48:50.191Z"
   },
   {
    "duration": 3,
    "start_time": "2021-06-08T15:48:50.851Z"
   },
   {
    "duration": 27,
    "start_time": "2021-06-08T15:48:50.856Z"
   },
   {
    "duration": 1186,
    "start_time": "2021-06-08T15:48:50.885Z"
   },
   {
    "duration": 3,
    "start_time": "2021-06-08T15:48:52.073Z"
   },
   {
    "duration": 2995,
    "start_time": "2021-06-08T15:54:26.547Z"
   },
   {
    "duration": 3029,
    "start_time": "2021-06-08T15:54:33.963Z"
   },
   {
    "duration": 1025,
    "start_time": "2021-06-08T15:56:57.520Z"
   },
   {
    "duration": 39,
    "start_time": "2021-06-08T16:23:28.890Z"
   },
   {
    "duration": 20,
    "start_time": "2021-06-08T16:24:31.670Z"
   },
   {
    "duration": 19,
    "start_time": "2021-06-08T16:25:04.662Z"
   },
   {
    "duration": 58,
    "start_time": "2021-06-08T16:26:34.438Z"
   },
   {
    "duration": 51,
    "start_time": "2021-06-08T16:29:13.836Z"
   },
   {
    "duration": 524,
    "start_time": "2021-06-08T16:32:39.969Z"
   },
   {
    "duration": 413,
    "start_time": "2021-06-08T16:36:47.116Z"
   },
   {
    "duration": 1038,
    "start_time": "2021-06-08T16:37:20.601Z"
   },
   {
    "duration": 199,
    "start_time": "2021-06-08T16:37:21.641Z"
   },
   {
    "duration": 135,
    "start_time": "2021-06-08T16:37:21.843Z"
   },
   {
    "duration": 30,
    "start_time": "2021-06-08T16:37:21.980Z"
   },
   {
    "duration": 42,
    "start_time": "2021-06-08T16:37:22.012Z"
   },
   {
    "duration": 558,
    "start_time": "2021-06-08T16:37:22.057Z"
   },
   {
    "duration": 371,
    "start_time": "2021-06-08T16:37:22.617Z"
   },
   {
    "duration": 313,
    "start_time": "2021-06-08T16:37:22.992Z"
   },
   {
    "duration": 6,
    "start_time": "2021-06-08T16:37:23.307Z"
   },
   {
    "duration": 9,
    "start_time": "2021-06-08T16:37:23.330Z"
   },
   {
    "duration": 582,
    "start_time": "2021-06-08T16:37:23.342Z"
   },
   {
    "duration": -96,
    "start_time": "2021-06-08T16:37:24.023Z"
   },
   {
    "duration": -96,
    "start_time": "2021-06-08T16:37:24.029Z"
   },
   {
    "duration": -93,
    "start_time": "2021-06-08T16:37:24.031Z"
   },
   {
    "duration": -93,
    "start_time": "2021-06-08T16:37:24.033Z"
   },
   {
    "duration": -92,
    "start_time": "2021-06-08T16:37:24.034Z"
   },
   {
    "duration": -93,
    "start_time": "2021-06-08T16:37:24.036Z"
   },
   {
    "duration": -92,
    "start_time": "2021-06-08T16:37:24.037Z"
   },
   {
    "duration": -93,
    "start_time": "2021-06-08T16:37:24.039Z"
   },
   {
    "duration": 392,
    "start_time": "2021-06-08T16:38:04.299Z"
   },
   {
    "duration": 110,
    "start_time": "2021-06-08T16:39:59.077Z"
   },
   {
    "duration": 405,
    "start_time": "2021-06-08T16:43:48.302Z"
   },
   {
    "duration": 431,
    "start_time": "2021-06-08T16:51:02.331Z"
   },
   {
    "duration": 394,
    "start_time": "2021-06-08T16:53:43.154Z"
   },
   {
    "duration": 1073,
    "start_time": "2021-06-08T19:05:00.376Z"
   },
   {
    "duration": 206,
    "start_time": "2021-06-08T19:05:01.452Z"
   },
   {
    "duration": 142,
    "start_time": "2021-06-08T19:05:01.661Z"
   },
   {
    "duration": 30,
    "start_time": "2021-06-08T19:05:01.810Z"
   },
   {
    "duration": 111,
    "start_time": "2021-06-08T19:05:01.842Z"
   },
   {
    "duration": 497,
    "start_time": "2021-06-08T19:05:01.955Z"
   },
   {
    "duration": 356,
    "start_time": "2021-06-08T19:05:02.456Z"
   },
   {
    "duration": 301,
    "start_time": "2021-06-08T19:05:02.816Z"
   },
   {
    "duration": 6,
    "start_time": "2021-06-08T19:05:03.120Z"
   },
   {
    "duration": 36,
    "start_time": "2021-06-08T19:05:03.130Z"
   },
   {
    "duration": 188,
    "start_time": "2021-06-08T19:05:03.169Z"
   },
   {
    "duration": 420,
    "start_time": "2021-06-08T19:05:03.360Z"
   },
   {
    "duration": -28,
    "start_time": "2021-06-08T19:05:03.811Z"
   },
   {
    "duration": -78,
    "start_time": "2021-06-08T19:05:03.863Z"
   },
   {
    "duration": -28,
    "start_time": "2021-06-08T19:05:03.868Z"
   },
   {
    "duration": -31,
    "start_time": "2021-06-08T19:05:03.873Z"
   },
   {
    "duration": -35,
    "start_time": "2021-06-08T19:05:03.879Z"
   },
   {
    "duration": -39,
    "start_time": "2021-06-08T19:05:03.884Z"
   },
   {
    "duration": -41,
    "start_time": "2021-06-08T19:05:03.888Z"
   },
   {
    "duration": 229,
    "start_time": "2021-06-08T19:24:13.095Z"
   },
   {
    "duration": 204,
    "start_time": "2021-06-08T19:24:59.866Z"
   },
   {
    "duration": 846,
    "start_time": "2021-06-08T19:25:19.758Z"
   },
   {
    "duration": 390,
    "start_time": "2021-06-08T19:25:48.970Z"
   },
   {
    "duration": 104,
    "start_time": "2021-06-08T19:25:54.031Z"
   },
   {
    "duration": 41,
    "start_time": "2021-06-08T19:26:05.628Z"
   },
   {
    "duration": 653,
    "start_time": "2021-06-08T19:26:11.328Z"
   },
   {
    "duration": 714,
    "start_time": "2021-06-08T19:26:47.944Z"
   },
   {
    "duration": 43,
    "start_time": "2021-06-08T19:32:42.612Z"
   },
   {
    "duration": 680,
    "start_time": "2021-06-08T19:33:00.157Z"
   },
   {
    "duration": 86,
    "start_time": "2021-06-08T19:37:17.025Z"
   },
   {
    "duration": 112,
    "start_time": "2021-06-08T19:41:13.103Z"
   },
   {
    "duration": 921,
    "start_time": "2021-06-09T06:12:23.749Z"
   },
   {
    "duration": 187,
    "start_time": "2021-06-09T06:12:24.673Z"
   },
   {
    "duration": 128,
    "start_time": "2021-06-09T06:12:24.863Z"
   },
   {
    "duration": 32,
    "start_time": "2021-06-09T06:12:25.000Z"
   },
   {
    "duration": 47,
    "start_time": "2021-06-09T06:12:25.035Z"
   },
   {
    "duration": 439,
    "start_time": "2021-06-09T06:12:25.085Z"
   },
   {
    "duration": 321,
    "start_time": "2021-06-09T06:12:25.526Z"
   },
   {
    "duration": 274,
    "start_time": "2021-06-09T06:12:25.851Z"
   },
   {
    "duration": 6,
    "start_time": "2021-06-09T06:12:26.127Z"
   },
   {
    "duration": 9,
    "start_time": "2021-06-09T06:12:26.136Z"
   },
   {
    "duration": 323,
    "start_time": "2021-06-09T06:12:26.147Z"
   },
   {
    "duration": 830,
    "start_time": "2021-06-09T06:12:26.473Z"
   },
   {
    "duration": 100,
    "start_time": "2021-06-09T06:12:27.306Z"
   },
   {
    "duration": 45,
    "start_time": "2021-06-09T06:12:27.409Z"
   },
   {
    "duration": 724,
    "start_time": "2021-06-09T06:12:27.457Z"
   },
   {
    "duration": 118,
    "start_time": "2021-06-09T06:12:28.184Z"
   },
   {
    "duration": 88,
    "start_time": "2021-06-09T06:12:28.305Z"
   },
   {
    "duration": 224,
    "start_time": "2021-06-09T06:12:28.171Z"
   },
   {
    "duration": 222,
    "start_time": "2021-06-09T06:12:28.174Z"
   },
   {
    "duration": 93,
    "start_time": "2021-06-09T06:12:51.333Z"
   },
   {
    "duration": 115,
    "start_time": "2021-06-09T06:13:01.164Z"
   },
   {
    "duration": 94,
    "start_time": "2021-06-09T06:13:20.945Z"
   },
   {
    "duration": 40,
    "start_time": "2021-06-09T06:13:29.257Z"
   },
   {
    "duration": 95,
    "start_time": "2021-06-09T06:14:47.930Z"
   },
   {
    "duration": 60,
    "start_time": "2021-06-09T06:14:52.120Z"
   },
   {
    "duration": 47,
    "start_time": "2021-06-09T06:15:08.168Z"
   },
   {
    "duration": 22,
    "start_time": "2021-06-09T06:26:25.048Z"
   },
   {
    "duration": 29,
    "start_time": "2021-06-09T06:26:41.308Z"
   },
   {
    "duration": 561,
    "start_time": "2021-06-09T06:29:06.200Z"
   },
   {
    "duration": 590,
    "start_time": "2021-06-09T06:29:25.670Z"
   },
   {
    "duration": 30,
    "start_time": "2021-06-09T06:29:34.803Z"
   },
   {
    "duration": 33,
    "start_time": "2021-06-09T06:29:59.559Z"
   },
   {
    "duration": 29,
    "start_time": "2021-06-09T06:31:34.308Z"
   },
   {
    "duration": 36,
    "start_time": "2021-06-09T06:32:34.275Z"
   },
   {
    "duration": 1026,
    "start_time": "2021-06-09T18:13:34.424Z"
   },
   {
    "duration": 197,
    "start_time": "2021-06-09T18:13:35.452Z"
   },
   {
    "duration": 450,
    "start_time": "2021-06-09T18:13:35.656Z"
   },
   {
    "duration": 31,
    "start_time": "2021-06-09T18:13:36.108Z"
   },
   {
    "duration": 55,
    "start_time": "2021-06-09T18:13:36.142Z"
   },
   {
    "duration": 546,
    "start_time": "2021-06-09T18:13:36.200Z"
   },
   {
    "duration": 358,
    "start_time": "2021-06-09T18:13:36.749Z"
   },
   {
    "duration": 322,
    "start_time": "2021-06-09T18:13:37.110Z"
   },
   {
    "duration": 6,
    "start_time": "2021-06-09T18:13:37.435Z"
   },
   {
    "duration": 8,
    "start_time": "2021-06-09T18:13:37.455Z"
   },
   {
    "duration": 337,
    "start_time": "2021-06-09T18:13:37.466Z"
   },
   {
    "duration": 880,
    "start_time": "2021-06-09T18:13:37.805Z"
   },
   {
    "duration": 101,
    "start_time": "2021-06-09T18:13:38.688Z"
   },
   {
    "duration": 62,
    "start_time": "2021-06-09T18:13:38.792Z"
   },
   {
    "duration": 696,
    "start_time": "2021-06-09T18:13:38.858Z"
   },
   {
    "duration": 116,
    "start_time": "2021-06-09T18:13:39.557Z"
   },
   {
    "duration": 47,
    "start_time": "2021-06-09T18:13:39.676Z"
   },
   {
    "duration": 47,
    "start_time": "2021-06-09T18:13:39.725Z"
   },
   {
    "duration": 27,
    "start_time": "2021-06-09T18:13:39.774Z"
   },
   {
    "duration": 56,
    "start_time": "2021-06-09T18:13:39.803Z"
   },
   {
    "duration": 3,
    "start_time": "2021-06-09T18:13:39.861Z"
   },
   {
    "duration": 6,
    "start_time": "2021-06-09T18:13:39.866Z"
   },
   {
    "duration": 40,
    "start_time": "2021-06-09T18:19:56.950Z"
   },
   {
    "duration": 13,
    "start_time": "2021-06-09T19:20:48.428Z"
   },
   {
    "duration": 4,
    "start_time": "2021-06-09T19:20:59.741Z"
   },
   {
    "duration": 40,
    "start_time": "2021-06-09T19:22:53.811Z"
   },
   {
    "duration": 5,
    "start_time": "2021-06-09T19:22:58.007Z"
   },
   {
    "duration": 13,
    "start_time": "2021-06-09T19:22:59.006Z"
   },
   {
    "duration": 38,
    "start_time": "2021-06-09T19:23:07.661Z"
   },
   {
    "duration": 49,
    "start_time": "2021-06-09T19:24:33.177Z"
   },
   {
    "duration": 989,
    "start_time": "2021-06-10T07:05:07.693Z"
   },
   {
    "duration": 201,
    "start_time": "2021-06-10T07:05:08.685Z"
   },
   {
    "duration": 138,
    "start_time": "2021-06-10T07:05:08.889Z"
   },
   {
    "duration": 42,
    "start_time": "2021-06-10T07:05:09.030Z"
   },
   {
    "duration": 79,
    "start_time": "2021-06-10T07:05:09.074Z"
   },
   {
    "duration": 455,
    "start_time": "2021-06-10T07:05:09.156Z"
   },
   {
    "duration": 350,
    "start_time": "2021-06-10T07:05:09.614Z"
   },
   {
    "duration": 312,
    "start_time": "2021-06-10T07:05:09.968Z"
   },
   {
    "duration": 6,
    "start_time": "2021-06-10T07:05:10.283Z"
   },
   {
    "duration": 14,
    "start_time": "2021-06-10T07:05:10.291Z"
   },
   {
    "duration": 321,
    "start_time": "2021-06-10T07:05:10.307Z"
   },
   {
    "duration": 871,
    "start_time": "2021-06-10T07:05:10.630Z"
   },
   {
    "duration": 107,
    "start_time": "2021-06-10T07:05:11.504Z"
   },
   {
    "duration": 55,
    "start_time": "2021-06-10T07:05:11.613Z"
   },
   {
    "duration": 723,
    "start_time": "2021-06-10T07:05:11.670Z"
   },
   {
    "duration": 152,
    "start_time": "2021-06-10T07:05:12.395Z"
   },
   {
    "duration": 53,
    "start_time": "2021-06-10T07:05:12.550Z"
   },
   {
    "duration": 27,
    "start_time": "2021-06-10T07:05:12.605Z"
   },
   {
    "duration": 54,
    "start_time": "2021-06-10T07:05:12.635Z"
   },
   {
    "duration": 34,
    "start_time": "2021-06-10T07:05:12.691Z"
   },
   {
    "duration": 65,
    "start_time": "2021-06-10T07:05:12.728Z"
   },
   {
    "duration": 5,
    "start_time": "2021-06-10T07:05:12.796Z"
   },
   {
    "duration": 71,
    "start_time": "2021-06-10T07:05:12.806Z"
   },
   {
    "duration": 2,
    "start_time": "2021-06-10T07:05:12.880Z"
   },
   {
    "duration": 1341,
    "start_time": "2021-06-10T11:39:04.154Z"
   },
   {
    "duration": 273,
    "start_time": "2021-06-10T11:39:05.498Z"
   },
   {
    "duration": 151,
    "start_time": "2021-06-10T11:39:05.774Z"
   },
   {
    "duration": 30,
    "start_time": "2021-06-10T11:39:05.928Z"
   },
   {
    "duration": 63,
    "start_time": "2021-06-10T11:39:05.960Z"
   },
   {
    "duration": 462,
    "start_time": "2021-06-10T11:39:06.025Z"
   },
   {
    "duration": 345,
    "start_time": "2021-06-10T11:39:06.490Z"
   },
   {
    "duration": 309,
    "start_time": "2021-06-10T11:39:06.839Z"
   },
   {
    "duration": 6,
    "start_time": "2021-06-10T11:39:07.151Z"
   },
   {
    "duration": 8,
    "start_time": "2021-06-10T11:39:07.160Z"
   },
   {
    "duration": 343,
    "start_time": "2021-06-10T11:39:07.171Z"
   },
   {
    "duration": 885,
    "start_time": "2021-06-10T11:39:07.516Z"
   },
   {
    "duration": 106,
    "start_time": "2021-06-10T11:39:08.404Z"
   },
   {
    "duration": 57,
    "start_time": "2021-06-10T11:39:08.512Z"
   },
   {
    "duration": 731,
    "start_time": "2021-06-10T11:39:08.572Z"
   },
   {
    "duration": 156,
    "start_time": "2021-06-10T11:39:09.305Z"
   },
   {
    "duration": 63,
    "start_time": "2021-06-10T11:39:09.464Z"
   },
   {
    "duration": 39,
    "start_time": "2021-06-10T11:39:09.530Z"
   },
   {
    "duration": 67,
    "start_time": "2021-06-10T11:39:09.572Z"
   },
   {
    "duration": 35,
    "start_time": "2021-06-10T11:39:09.642Z"
   },
   {
    "duration": 59,
    "start_time": "2021-06-10T11:39:09.679Z"
   },
   {
    "duration": 4,
    "start_time": "2021-06-10T11:39:09.740Z"
   },
   {
    "duration": 47,
    "start_time": "2021-06-10T11:39:09.748Z"
   },
   {
    "duration": 404,
    "start_time": "2021-06-10T11:39:09.826Z"
   },
   {
    "duration": 413,
    "start_time": "2021-06-10T11:44:23.745Z"
   },
   {
    "duration": 404,
    "start_time": "2021-06-10T11:44:31.328Z"
   },
   {
    "duration": 397,
    "start_time": "2021-06-10T11:44:40.145Z"
   },
   {
    "duration": 1012,
    "start_time": "2021-06-11T10:37:44.582Z"
   },
   {
    "duration": 192,
    "start_time": "2021-06-11T10:37:45.597Z"
   },
   {
    "duration": 140,
    "start_time": "2021-06-11T10:37:45.792Z"
   },
   {
    "duration": 32,
    "start_time": "2021-06-11T10:37:45.935Z"
   },
   {
    "duration": 88,
    "start_time": "2021-06-11T10:37:45.969Z"
   },
   {
    "duration": 484,
    "start_time": "2021-06-11T10:37:46.059Z"
   },
   {
    "duration": 338,
    "start_time": "2021-06-11T10:37:46.546Z"
   },
   {
    "duration": 307,
    "start_time": "2021-06-11T10:37:46.888Z"
   },
   {
    "duration": 6,
    "start_time": "2021-06-11T10:37:47.198Z"
   },
   {
    "duration": 9,
    "start_time": "2021-06-11T10:37:47.207Z"
   },
   {
    "duration": 330,
    "start_time": "2021-06-11T10:37:47.219Z"
   },
   {
    "duration": 970,
    "start_time": "2021-06-11T10:37:47.552Z"
   },
   {
    "duration": 101,
    "start_time": "2021-06-11T10:37:48.525Z"
   },
   {
    "duration": 58,
    "start_time": "2021-06-11T10:37:48.629Z"
   },
   {
    "duration": 693,
    "start_time": "2021-06-11T10:37:48.690Z"
   },
   {
    "duration": 141,
    "start_time": "2021-06-11T10:37:49.386Z"
   },
   {
    "duration": 59,
    "start_time": "2021-06-11T10:37:49.529Z"
   },
   {
    "duration": 31,
    "start_time": "2021-06-11T10:37:49.590Z"
   },
   {
    "duration": 52,
    "start_time": "2021-06-11T10:37:49.623Z"
   },
   {
    "duration": 32,
    "start_time": "2021-06-11T10:37:49.678Z"
   },
   {
    "duration": 61,
    "start_time": "2021-06-11T10:37:49.712Z"
   },
   {
    "duration": 5,
    "start_time": "2021-06-11T10:37:49.775Z"
   },
   {
    "duration": 50,
    "start_time": "2021-06-11T10:37:49.784Z"
   },
   {
    "duration": 427,
    "start_time": "2021-06-11T10:37:49.837Z"
   },
   {
    "duration": 394,
    "start_time": "2021-06-11T10:37:50.267Z"
   },
   {
    "duration": 381,
    "start_time": "2021-06-11T10:38:05.891Z"
   },
   {
    "duration": 691,
    "start_time": "2021-06-11T10:47:22.625Z"
   },
   {
    "duration": 328,
    "start_time": "2021-06-11T10:47:42.684Z"
   },
   {
    "duration": 336,
    "start_time": "2021-06-11T10:50:40.426Z"
   },
   {
    "duration": 24,
    "start_time": "2021-06-11T10:51:13.294Z"
   },
   {
    "duration": 26,
    "start_time": "2021-06-11T10:53:27.959Z"
   },
   {
    "duration": 5,
    "start_time": "2021-06-11T10:55:03.052Z"
   },
   {
    "duration": 24,
    "start_time": "2021-06-11T10:55:12.686Z"
   },
   {
    "duration": 988,
    "start_time": "2021-06-11T10:55:36.321Z"
   },
   {
    "duration": 208,
    "start_time": "2021-06-11T10:55:37.312Z"
   },
   {
    "duration": 142,
    "start_time": "2021-06-11T10:55:37.523Z"
   },
   {
    "duration": 31,
    "start_time": "2021-06-11T10:55:37.668Z"
   },
   {
    "duration": 68,
    "start_time": "2021-06-11T10:55:37.701Z"
   },
   {
    "duration": 479,
    "start_time": "2021-06-11T10:55:37.772Z"
   },
   {
    "duration": 342,
    "start_time": "2021-06-11T10:55:38.254Z"
   },
   {
    "duration": 296,
    "start_time": "2021-06-11T10:55:38.600Z"
   },
   {
    "duration": 6,
    "start_time": "2021-06-11T10:55:38.899Z"
   },
   {
    "duration": 19,
    "start_time": "2021-06-11T10:55:38.909Z"
   },
   {
    "duration": 337,
    "start_time": "2021-06-11T10:55:38.932Z"
   },
   {
    "duration": 874,
    "start_time": "2021-06-11T10:55:39.272Z"
   },
   {
    "duration": 103,
    "start_time": "2021-06-11T10:55:40.150Z"
   },
   {
    "duration": 53,
    "start_time": "2021-06-11T10:55:40.256Z"
   },
   {
    "duration": 697,
    "start_time": "2021-06-11T10:55:40.312Z"
   },
   {
    "duration": 150,
    "start_time": "2021-06-11T10:55:41.012Z"
   },
   {
    "duration": 52,
    "start_time": "2021-06-11T10:55:41.164Z"
   },
   {
    "duration": 56,
    "start_time": "2021-06-11T10:55:41.219Z"
   },
   {
    "duration": 28,
    "start_time": "2021-06-11T10:55:41.278Z"
   },
   {
    "duration": 62,
    "start_time": "2021-06-11T10:55:41.309Z"
   },
   {
    "duration": 39,
    "start_time": "2021-06-11T10:55:41.373Z"
   },
   {
    "duration": 5,
    "start_time": "2021-06-11T10:55:41.414Z"
   },
   {
    "duration": 83,
    "start_time": "2021-06-11T10:55:41.423Z"
   },
   {
    "duration": 400,
    "start_time": "2021-06-11T10:55:41.508Z"
   },
   {
    "duration": 386,
    "start_time": "2021-06-11T10:55:41.910Z"
   },
   {
    "duration": 27,
    "start_time": "2021-06-11T10:55:42.298Z"
   },
   {
    "duration": 711,
    "start_time": "2021-06-11T10:56:00.002Z"
   },
   {
    "duration": 328,
    "start_time": "2021-06-11T10:57:03.994Z"
   },
   {
    "duration": 345,
    "start_time": "2021-06-11T10:57:17.031Z"
   },
   {
    "duration": 345,
    "start_time": "2021-06-11T10:57:22.775Z"
   },
   {
    "duration": 581,
    "start_time": "2021-06-11T10:57:30.684Z"
   },
   {
    "duration": 39,
    "start_time": "2021-06-11T10:58:30.601Z"
   },
   {
    "duration": 21,
    "start_time": "2021-06-11T10:58:47.030Z"
   },
   {
    "duration": 1014,
    "start_time": "2021-06-11T10:59:53.947Z"
   },
   {
    "duration": 199,
    "start_time": "2021-06-11T10:59:54.964Z"
   },
   {
    "duration": 139,
    "start_time": "2021-06-11T10:59:55.167Z"
   },
   {
    "duration": 33,
    "start_time": "2021-06-11T10:59:55.309Z"
   },
   {
    "duration": 70,
    "start_time": "2021-06-11T10:59:55.345Z"
   },
   {
    "duration": 561,
    "start_time": "2021-06-11T10:59:55.418Z"
   },
   {
    "duration": 340,
    "start_time": "2021-06-11T10:59:55.982Z"
   },
   {
    "duration": 289,
    "start_time": "2021-06-11T10:59:56.326Z"
   },
   {
    "duration": 6,
    "start_time": "2021-06-11T10:59:56.617Z"
   },
   {
    "duration": 10,
    "start_time": "2021-06-11T10:59:56.625Z"
   },
   {
    "duration": 330,
    "start_time": "2021-06-11T10:59:56.637Z"
   },
   {
    "duration": 863,
    "start_time": "2021-06-11T10:59:56.969Z"
   },
   {
    "duration": 101,
    "start_time": "2021-06-11T10:59:57.834Z"
   },
   {
    "duration": 60,
    "start_time": "2021-06-11T10:59:57.938Z"
   },
   {
    "duration": 722,
    "start_time": "2021-06-11T10:59:58.000Z"
   },
   {
    "duration": 149,
    "start_time": "2021-06-11T10:59:58.725Z"
   },
   {
    "duration": 46,
    "start_time": "2021-06-11T10:59:58.877Z"
   },
   {
    "duration": 52,
    "start_time": "2021-06-11T10:59:58.925Z"
   },
   {
    "duration": 27,
    "start_time": "2021-06-11T10:59:58.979Z"
   },
   {
    "duration": 61,
    "start_time": "2021-06-11T10:59:59.008Z"
   },
   {
    "duration": 37,
    "start_time": "2021-06-11T10:59:59.071Z"
   },
   {
    "duration": 5,
    "start_time": "2021-06-11T10:59:59.110Z"
   },
   {
    "duration": 87,
    "start_time": "2021-06-11T10:59:59.119Z"
   },
   {
    "duration": 400,
    "start_time": "2021-06-11T10:59:59.208Z"
   },
   {
    "duration": 381,
    "start_time": "2021-06-11T10:59:59.610Z"
   },
   {
    "duration": 21,
    "start_time": "2021-06-11T10:59:59.993Z"
   },
   {
    "duration": 759,
    "start_time": "2021-06-11T11:00:00.016Z"
   },
   {
    "duration": 397,
    "start_time": "2021-06-11T11:00:00.777Z"
   },
   {
    "duration": 350,
    "start_time": "2021-06-11T11:00:01.176Z"
   },
   {
    "duration": 1153,
    "start_time": "2021-06-11T11:02:50.267Z"
   },
   {
    "duration": 9,
    "start_time": "2021-06-11T11:04:53.843Z"
   },
   {
    "duration": 15,
    "start_time": "2021-06-11T11:05:04.222Z"
   },
   {
    "duration": 398,
    "start_time": "2021-06-11T15:17:26.374Z"
   },
   {
    "duration": 1978,
    "start_time": "2021-06-11T15:17:46.184Z"
   },
   {
    "duration": 201,
    "start_time": "2021-06-11T15:17:48.164Z"
   },
   {
    "duration": 134,
    "start_time": "2021-06-11T15:17:48.368Z"
   },
   {
    "duration": 32,
    "start_time": "2021-06-11T15:17:48.505Z"
   },
   {
    "duration": 51,
    "start_time": "2021-06-11T15:17:48.539Z"
   },
   {
    "duration": 462,
    "start_time": "2021-06-11T15:17:48.592Z"
   },
   {
    "duration": 344,
    "start_time": "2021-06-11T15:17:49.056Z"
   },
   {
    "duration": 303,
    "start_time": "2021-06-11T15:17:49.404Z"
   },
   {
    "duration": 6,
    "start_time": "2021-06-11T15:17:49.710Z"
   },
   {
    "duration": 13,
    "start_time": "2021-06-11T15:17:49.719Z"
   },
   {
    "duration": 337,
    "start_time": "2021-06-11T15:17:49.735Z"
   },
   {
    "duration": 891,
    "start_time": "2021-06-11T15:17:50.075Z"
   },
   {
    "duration": 99,
    "start_time": "2021-06-11T15:17:50.969Z"
   },
   {
    "duration": 61,
    "start_time": "2021-06-11T15:17:51.070Z"
   },
   {
    "duration": 724,
    "start_time": "2021-06-11T15:17:51.134Z"
   },
   {
    "duration": 147,
    "start_time": "2021-06-11T15:17:51.860Z"
   },
   {
    "duration": 49,
    "start_time": "2021-06-11T15:17:52.010Z"
   },
   {
    "duration": 48,
    "start_time": "2021-06-11T15:17:52.061Z"
   },
   {
    "duration": 34,
    "start_time": "2021-06-11T15:17:52.112Z"
   },
   {
    "duration": 56,
    "start_time": "2021-06-11T15:17:52.149Z"
   },
   {
    "duration": 38,
    "start_time": "2021-06-11T15:17:52.208Z"
   },
   {
    "duration": 5,
    "start_time": "2021-06-11T15:17:52.248Z"
   },
   {
    "duration": 73,
    "start_time": "2021-06-11T15:17:52.257Z"
   },
   {
    "duration": 433,
    "start_time": "2021-06-11T15:17:52.333Z"
   },
   {
    "duration": 402,
    "start_time": "2021-06-11T15:17:52.769Z"
   },
   {
    "duration": 28,
    "start_time": "2021-06-11T15:17:53.173Z"
   },
   {
    "duration": 2243,
    "start_time": "2021-06-11T15:17:53.203Z"
   },
   {
    "duration": 921,
    "start_time": "2021-06-11T15:17:55.448Z"
   },
   {
    "duration": 365,
    "start_time": "2021-06-11T15:17:56.372Z"
   },
   {
    "duration": 361,
    "start_time": "2021-06-11T15:20:59.458Z"
   },
   {
    "duration": 363,
    "start_time": "2021-06-11T15:21:13.165Z"
   },
   {
    "duration": 402,
    "start_time": "2021-06-11T15:21:34.172Z"
   },
   {
    "duration": 358,
    "start_time": "2021-06-11T15:22:53.129Z"
   },
   {
    "duration": 365,
    "start_time": "2021-06-11T15:23:19.994Z"
   },
   {
    "duration": 452,
    "start_time": "2021-06-11T15:25:18.913Z"
   },
   {
    "duration": 7,
    "start_time": "2021-06-11T15:25:34.984Z"
   },
   {
    "duration": 43,
    "start_time": "2021-06-11T15:25:40.945Z"
   },
   {
    "duration": 47,
    "start_time": "2021-06-11T15:26:05.987Z"
   },
   {
    "duration": 23,
    "start_time": "2021-06-11T15:27:39.064Z"
   },
   {
    "duration": 931,
    "start_time": "2021-06-11T15:28:36.025Z"
   },
   {
    "duration": 198,
    "start_time": "2021-06-11T15:28:36.958Z"
   },
   {
    "duration": 131,
    "start_time": "2021-06-11T15:28:37.159Z"
   },
   {
    "duration": 32,
    "start_time": "2021-06-11T15:28:37.293Z"
   },
   {
    "duration": 48,
    "start_time": "2021-06-11T15:28:37.327Z"
   },
   {
    "duration": 459,
    "start_time": "2021-06-11T15:28:37.378Z"
   },
   {
    "duration": 391,
    "start_time": "2021-06-11T15:28:37.840Z"
   },
   {
    "duration": 421,
    "start_time": "2021-06-11T15:28:38.237Z"
   },
   {
    "duration": 6,
    "start_time": "2021-06-11T15:28:38.662Z"
   },
   {
    "duration": 8,
    "start_time": "2021-06-11T15:28:38.686Z"
   },
   {
    "duration": 349,
    "start_time": "2021-06-11T15:28:38.696Z"
   },
   {
    "duration": 879,
    "start_time": "2021-06-11T15:28:39.048Z"
   },
   {
    "duration": 109,
    "start_time": "2021-06-11T15:28:39.930Z"
   },
   {
    "duration": 59,
    "start_time": "2021-06-11T15:28:40.042Z"
   },
   {
    "duration": 736,
    "start_time": "2021-06-11T15:28:40.104Z"
   },
   {
    "duration": 157,
    "start_time": "2021-06-11T15:28:40.843Z"
   },
   {
    "duration": 46,
    "start_time": "2021-06-11T15:28:41.003Z"
   },
   {
    "duration": 58,
    "start_time": "2021-06-11T15:28:41.051Z"
   },
   {
    "duration": 30,
    "start_time": "2021-06-11T15:28:41.112Z"
   },
   {
    "duration": 55,
    "start_time": "2021-06-11T15:28:41.145Z"
   },
   {
    "duration": 37,
    "start_time": "2021-06-11T15:28:41.203Z"
   },
   {
    "duration": 5,
    "start_time": "2021-06-11T15:28:41.243Z"
   },
   {
    "duration": 81,
    "start_time": "2021-06-11T15:28:41.253Z"
   },
   {
    "duration": 542,
    "start_time": "2021-06-11T15:28:41.336Z"
   },
   {
    "duration": 397,
    "start_time": "2021-06-11T15:28:41.880Z"
   },
   {
    "duration": 28,
    "start_time": "2021-06-11T15:28:42.280Z"
   },
   {
    "duration": 839,
    "start_time": "2021-06-11T15:28:42.310Z"
   },
   {
    "duration": 817,
    "start_time": "2021-06-11T15:28:43.151Z"
   },
   {
    "duration": 683,
    "start_time": "2021-06-11T15:28:43.970Z"
   },
   {
    "duration": 796,
    "start_time": "2021-06-11T15:28:55.916Z"
   },
   {
    "duration": 413,
    "start_time": "2021-06-11T15:46:38.603Z"
   },
   {
    "duration": 5,
    "start_time": "2021-06-11T15:46:49.149Z"
   },
   {
    "duration": 317,
    "start_time": "2021-06-11T15:57:43.693Z"
   },
   {
    "duration": 6,
    "start_time": "2021-06-11T16:01:40.015Z"
   },
   {
    "duration": 8,
    "start_time": "2021-06-11T16:01:56.935Z"
   },
   {
    "duration": 4033,
    "start_time": "2021-06-11T16:03:32.895Z"
   },
   {
    "duration": 5524,
    "start_time": "2021-06-11T16:03:52.903Z"
   },
   {
    "duration": 6084,
    "start_time": "2021-06-11T16:04:08.319Z"
   },
   {
    "duration": 369,
    "start_time": "2021-06-11T16:04:23.806Z"
   },
   {
    "duration": 7,
    "start_time": "2021-06-11T16:07:21.001Z"
   },
   {
    "duration": 8,
    "start_time": "2021-06-11T16:09:58.505Z"
   },
   {
    "duration": 7,
    "start_time": "2021-06-11T16:10:13.096Z"
   },
   {
    "duration": 17,
    "start_time": "2021-06-11T16:13:24.206Z"
   },
   {
    "duration": 7,
    "start_time": "2021-06-11T16:16:51.433Z"
   },
   {
    "duration": 7,
    "start_time": "2021-06-11T16:16:53.904Z"
   },
   {
    "duration": 20,
    "start_time": "2021-06-11T16:18:11.725Z"
   },
   {
    "duration": 16,
    "start_time": "2021-06-11T16:21:13.516Z"
   },
   {
    "duration": 663,
    "start_time": "2021-06-11T16:22:34.750Z"
   },
   {
    "duration": 121,
    "start_time": "2021-06-11T16:42:57.447Z"
   },
   {
    "duration": 335,
    "start_time": "2021-06-11T16:43:03.082Z"
   },
   {
    "duration": 300,
    "start_time": "2021-06-11T16:43:09.844Z"
   },
   {
    "duration": 398,
    "start_time": "2021-06-11T16:44:34.869Z"
   },
   {
    "duration": 393,
    "start_time": "2021-06-11T16:44:42.223Z"
   },
   {
    "duration": 348,
    "start_time": "2021-06-11T16:47:13.911Z"
   },
   {
    "duration": 318,
    "start_time": "2021-06-11T16:49:03.899Z"
   },
   {
    "duration": 3,
    "start_time": "2021-06-11T16:50:00.442Z"
   },
   {
    "duration": 421,
    "start_time": "2021-06-11T16:51:02.987Z"
   },
   {
    "duration": 377,
    "start_time": "2021-06-11T16:51:48.372Z"
   },
   {
    "duration": 384,
    "start_time": "2021-06-11T16:52:08.474Z"
   },
   {
    "duration": 452,
    "start_time": "2021-06-11T16:52:45.044Z"
   },
   {
    "duration": 389,
    "start_time": "2021-06-11T16:53:48.486Z"
   },
   {
    "duration": 606,
    "start_time": "2021-06-12T09:15:40.101Z"
   },
   {
    "duration": 967,
    "start_time": "2021-06-12T09:16:20.316Z"
   },
   {
    "duration": 189,
    "start_time": "2021-06-12T09:16:21.286Z"
   },
   {
    "duration": 130,
    "start_time": "2021-06-12T09:16:21.479Z"
   },
   {
    "duration": 31,
    "start_time": "2021-06-12T09:16:21.612Z"
   },
   {
    "duration": 57,
    "start_time": "2021-06-12T09:16:21.645Z"
   },
   {
    "duration": 447,
    "start_time": "2021-06-12T09:16:21.705Z"
   },
   {
    "duration": 335,
    "start_time": "2021-06-12T09:16:22.154Z"
   },
   {
    "duration": 291,
    "start_time": "2021-06-12T09:16:22.492Z"
   },
   {
    "duration": 6,
    "start_time": "2021-06-12T09:16:22.787Z"
   },
   {
    "duration": 20,
    "start_time": "2021-06-12T09:16:22.796Z"
   },
   {
    "duration": 304,
    "start_time": "2021-06-12T09:16:22.825Z"
   },
   {
    "duration": 919,
    "start_time": "2021-06-12T09:16:23.131Z"
   },
   {
    "duration": 116,
    "start_time": "2021-06-12T09:16:24.053Z"
   },
   {
    "duration": 59,
    "start_time": "2021-06-12T09:16:24.171Z"
   },
   {
    "duration": 697,
    "start_time": "2021-06-12T09:16:24.233Z"
   },
   {
    "duration": 143,
    "start_time": "2021-06-12T09:16:24.932Z"
   },
   {
    "duration": 59,
    "start_time": "2021-06-12T09:16:25.077Z"
   },
   {
    "duration": 27,
    "start_time": "2021-06-12T09:16:25.138Z"
   },
   {
    "duration": 27,
    "start_time": "2021-06-12T09:16:25.167Z"
   },
   {
    "duration": 56,
    "start_time": "2021-06-12T09:16:25.197Z"
   },
   {
    "duration": 36,
    "start_time": "2021-06-12T09:16:25.255Z"
   },
   {
    "duration": 5,
    "start_time": "2021-06-12T09:16:25.293Z"
   },
   {
    "duration": 46,
    "start_time": "2021-06-12T09:16:25.324Z"
   },
   {
    "duration": 397,
    "start_time": "2021-06-12T09:16:25.373Z"
   },
   {
    "duration": 371,
    "start_time": "2021-06-12T09:16:25.773Z"
   },
   {
    "duration": 25,
    "start_time": "2021-06-12T09:16:26.147Z"
   },
   {
    "duration": 20,
    "start_time": "2021-06-12T09:16:26.177Z"
   },
   {
    "duration": 712,
    "start_time": "2021-06-12T09:16:26.225Z"
   },
   {
    "duration": 787,
    "start_time": "2021-06-12T09:16:26.939Z"
   },
   {
    "duration": 698,
    "start_time": "2021-06-12T09:16:27.729Z"
   },
   {
    "duration": 483,
    "start_time": "2021-06-12T09:16:28.429Z"
   },
   {
    "duration": 394,
    "start_time": "2021-06-12T09:16:28.914Z"
   },
   {
    "duration": 403,
    "start_time": "2021-06-12T09:16:29.310Z"
   },
   {
    "duration": 11,
    "start_time": "2021-06-12T09:16:29.715Z"
   },
   {
    "duration": 13,
    "start_time": "2021-06-12T09:16:29.728Z"
   },
   {
    "duration": 9,
    "start_time": "2021-06-12T09:16:29.743Z"
   },
   {
    "duration": 22,
    "start_time": "2021-06-12T09:16:29.754Z"
   },
   {
    "duration": 18,
    "start_time": "2021-06-12T09:16:29.778Z"
   },
   {
    "duration": 22,
    "start_time": "2021-06-12T09:23:08.724Z"
   },
   {
    "duration": 475,
    "start_time": "2021-06-12T09:37:21.523Z"
   },
   {
    "duration": 93,
    "start_time": "2021-06-12T09:37:54.896Z"
   },
   {
    "duration": 98,
    "start_time": "2021-06-12T09:38:08.729Z"
   },
   {
    "duration": 294,
    "start_time": "2021-06-12T09:38:18.191Z"
   },
   {
    "duration": 755,
    "start_time": "2021-06-12T09:38:38.529Z"
   },
   {
    "duration": 274,
    "start_time": "2021-06-12T09:39:08.526Z"
   },
   {
    "duration": 275,
    "start_time": "2021-06-12T09:40:35.204Z"
   },
   {
    "duration": 291,
    "start_time": "2021-06-12T09:40:46.372Z"
   },
   {
    "duration": 1828,
    "start_time": "2021-06-12T09:42:21.071Z"
   },
   {
    "duration": 293,
    "start_time": "2021-06-12T09:42:58.574Z"
   },
   {
    "duration": 280,
    "start_time": "2021-06-12T09:43:24.540Z"
   },
   {
    "duration": 12,
    "start_time": "2021-06-12T09:44:54.079Z"
   },
   {
    "duration": 285,
    "start_time": "2021-06-12T09:46:01.019Z"
   },
   {
    "duration": 6,
    "start_time": "2021-06-12T09:46:14.375Z"
   },
   {
    "duration": 5756,
    "start_time": "2021-06-12T09:56:57.962Z"
   },
   {
    "duration": 5137,
    "start_time": "2021-06-12T09:58:06.294Z"
   },
   {
    "duration": 11,
    "start_time": "2021-06-12T10:07:33.410Z"
   },
   {
    "duration": 9,
    "start_time": "2021-06-12T10:07:44.023Z"
   },
   {
    "duration": 13,
    "start_time": "2021-06-12T10:09:33.143Z"
   },
   {
    "duration": 11,
    "start_time": "2021-06-12T10:09:45.574Z"
   },
   {
    "duration": 99,
    "start_time": "2021-06-12T10:32:34.697Z"
   },
   {
    "duration": 141,
    "start_time": "2021-06-12T10:35:18.543Z"
   },
   {
    "duration": 121,
    "start_time": "2021-06-12T10:35:59.487Z"
   },
   {
    "duration": 4,
    "start_time": "2021-06-12T10:37:15.616Z"
   },
   {
    "duration": 149,
    "start_time": "2021-06-12T10:38:43.518Z"
   },
   {
    "duration": 287,
    "start_time": "2021-06-12T10:39:33.220Z"
   },
   {
    "duration": 68,
    "start_time": "2021-06-12T10:39:55.732Z"
   },
   {
    "duration": 45,
    "start_time": "2021-06-12T10:39:59.437Z"
   },
   {
    "duration": 1018,
    "start_time": "2021-06-12T11:23:12.087Z"
   },
   {
    "duration": 204,
    "start_time": "2021-06-12T11:23:13.108Z"
   },
   {
    "duration": 253,
    "start_time": "2021-06-12T11:23:13.317Z"
   },
   {
    "duration": 34,
    "start_time": "2021-06-12T11:23:13.574Z"
   },
   {
    "duration": 45,
    "start_time": "2021-06-12T11:23:13.625Z"
   },
   {
    "duration": 452,
    "start_time": "2021-06-12T11:23:13.673Z"
   },
   {
    "duration": 622,
    "start_time": "2021-06-12T11:23:14.128Z"
   },
   {
    "duration": 536,
    "start_time": "2021-06-12T11:23:14.758Z"
   },
   {
    "duration": 25,
    "start_time": "2021-06-12T11:23:15.299Z"
   },
   {
    "duration": 14,
    "start_time": "2021-06-12T11:23:15.328Z"
   },
   {
    "duration": 325,
    "start_time": "2021-06-12T11:23:15.346Z"
   },
   {
    "duration": 270,
    "start_time": "2021-06-12T11:23:15.674Z"
   },
   {
    "duration": 1665,
    "start_time": "2021-06-12T11:23:15.948Z"
   },
   {
    "duration": 108,
    "start_time": "2021-06-12T11:23:17.616Z"
   },
   {
    "duration": 47,
    "start_time": "2021-06-12T11:23:17.726Z"
   },
   {
    "duration": 727,
    "start_time": "2021-06-12T11:23:17.775Z"
   },
   {
    "duration": 138,
    "start_time": "2021-06-12T11:23:18.504Z"
   },
   {
    "duration": 27,
    "start_time": "2021-06-12T11:23:18.644Z"
   },
   {
    "duration": 72,
    "start_time": "2021-06-12T11:23:18.674Z"
   },
   {
    "duration": 28,
    "start_time": "2021-06-12T11:23:18.748Z"
   },
   {
    "duration": 46,
    "start_time": "2021-06-12T11:23:18.778Z"
   },
   {
    "duration": 33,
    "start_time": "2021-06-12T11:23:18.827Z"
   },
   {
    "duration": 64,
    "start_time": "2021-06-12T11:23:18.864Z"
   },
   {
    "duration": 5,
    "start_time": "2021-06-12T11:23:18.932Z"
   },
   {
    "duration": 50,
    "start_time": "2021-06-12T11:23:18.940Z"
   },
   {
    "duration": 416,
    "start_time": "2021-06-12T11:23:18.993Z"
   },
   {
    "duration": 390,
    "start_time": "2021-06-12T11:23:19.412Z"
   },
   {
    "duration": 39,
    "start_time": "2021-06-12T11:23:19.804Z"
   },
   {
    "duration": 23,
    "start_time": "2021-06-12T11:23:19.847Z"
   },
   {
    "duration": 53,
    "start_time": "2021-06-12T11:23:19.872Z"
   },
   {
    "duration": 742,
    "start_time": "2021-06-12T11:23:19.928Z"
   },
   {
    "duration": 819,
    "start_time": "2021-06-12T11:23:20.673Z"
   },
   {
    "duration": 715,
    "start_time": "2021-06-12T11:23:21.495Z"
   },
   {
    "duration": 499,
    "start_time": "2021-06-12T11:23:22.213Z"
   },
   {
    "duration": 420,
    "start_time": "2021-06-12T11:23:22.715Z"
   },
   {
    "duration": 410,
    "start_time": "2021-06-12T11:23:23.138Z"
   },
   {
    "duration": 5,
    "start_time": "2021-06-12T11:23:23.551Z"
   },
   {
    "duration": 20,
    "start_time": "2021-06-12T11:23:23.559Z"
   },
   {
    "duration": 15,
    "start_time": "2021-06-12T11:23:23.581Z"
   },
   {
    "duration": 35,
    "start_time": "2021-06-12T11:23:23.599Z"
   },
   {
    "duration": 24,
    "start_time": "2021-06-12T11:23:23.636Z"
   },
   {
    "duration": 476,
    "start_time": "2021-06-12T11:23:23.662Z"
   },
   {
    "duration": 6,
    "start_time": "2021-06-12T11:23:24.141Z"
   },
   {
    "duration": 18,
    "start_time": "2021-06-12T11:23:24.150Z"
   },
   {
    "duration": 67,
    "start_time": "2021-06-12T11:26:01.402Z"
   },
   {
    "duration": 989,
    "start_time": "2021-06-12T11:35:07.316Z"
   },
   {
    "duration": 211,
    "start_time": "2021-06-12T11:35:08.307Z"
   },
   {
    "duration": 144,
    "start_time": "2021-06-12T11:35:08.525Z"
   },
   {
    "duration": 32,
    "start_time": "2021-06-12T11:35:08.672Z"
   },
   {
    "duration": 47,
    "start_time": "2021-06-12T11:35:08.707Z"
   },
   {
    "duration": 461,
    "start_time": "2021-06-12T11:35:08.756Z"
   },
   {
    "duration": 338,
    "start_time": "2021-06-12T11:35:09.219Z"
   },
   {
    "duration": 307,
    "start_time": "2021-06-12T11:35:09.561Z"
   },
   {
    "duration": 7,
    "start_time": "2021-06-12T11:35:09.871Z"
   },
   {
    "duration": 14,
    "start_time": "2021-06-12T11:35:09.880Z"
   },
   {
    "duration": 203,
    "start_time": "2021-06-12T11:35:09.897Z"
   },
   {
    "duration": 164,
    "start_time": "2021-06-12T11:35:10.102Z"
   },
   {
    "duration": 892,
    "start_time": "2021-06-12T11:35:10.268Z"
   },
   {
    "duration": 107,
    "start_time": "2021-06-12T11:35:11.163Z"
   },
   {
    "duration": 54,
    "start_time": "2021-06-12T11:35:11.273Z"
   },
   {
    "duration": 806,
    "start_time": "2021-06-12T11:35:11.329Z"
   },
   {
    "duration": 147,
    "start_time": "2021-06-12T11:35:12.137Z"
   },
   {
    "duration": 25,
    "start_time": "2021-06-12T11:35:12.286Z"
   },
   {
    "duration": 47,
    "start_time": "2021-06-12T11:35:12.325Z"
   },
   {
    "duration": 51,
    "start_time": "2021-06-12T11:35:12.374Z"
   },
   {
    "duration": 29,
    "start_time": "2021-06-12T11:35:12.428Z"
   },
   {
    "duration": 33,
    "start_time": "2021-06-12T11:35:12.460Z"
   },
   {
    "duration": 63,
    "start_time": "2021-06-12T11:35:12.498Z"
   },
   {
    "duration": 4,
    "start_time": "2021-06-12T11:35:12.564Z"
   },
   {
    "duration": 79,
    "start_time": "2021-06-12T11:35:12.571Z"
   },
   {
    "duration": 404,
    "start_time": "2021-06-12T11:35:12.652Z"
   },
   {
    "duration": 446,
    "start_time": "2021-06-12T11:35:13.058Z"
   },
   {
    "duration": 45,
    "start_time": "2021-06-12T11:35:13.507Z"
   },
   {
    "duration": 25,
    "start_time": "2021-06-12T11:35:13.555Z"
   },
   {
    "duration": 47,
    "start_time": "2021-06-12T11:35:13.582Z"
   },
   {
    "duration": 739,
    "start_time": "2021-06-12T11:35:13.631Z"
   },
   {
    "duration": 919,
    "start_time": "2021-06-12T11:35:14.373Z"
   },
   {
    "duration": 711,
    "start_time": "2021-06-12T11:35:15.295Z"
   },
   {
    "duration": 502,
    "start_time": "2021-06-12T11:35:16.009Z"
   },
   {
    "duration": 402,
    "start_time": "2021-06-12T11:35:16.514Z"
   },
   {
    "duration": 396,
    "start_time": "2021-06-12T11:35:16.918Z"
   },
   {
    "duration": 11,
    "start_time": "2021-06-12T11:35:17.317Z"
   },
   {
    "duration": 14,
    "start_time": "2021-06-12T11:35:17.331Z"
   },
   {
    "duration": 11,
    "start_time": "2021-06-12T11:35:17.348Z"
   },
   {
    "duration": 19,
    "start_time": "2021-06-12T11:35:17.361Z"
   },
   {
    "duration": 49,
    "start_time": "2021-06-12T11:35:17.383Z"
   },
   {
    "duration": 454,
    "start_time": "2021-06-12T11:35:17.435Z"
   },
   {
    "duration": 7,
    "start_time": "2021-06-12T11:35:17.892Z"
   },
   {
    "duration": 28,
    "start_time": "2021-06-12T11:35:17.901Z"
   },
   {
    "duration": 1002,
    "start_time": "2021-06-12T17:02:45.186Z"
   },
   {
    "duration": 209,
    "start_time": "2021-06-12T17:02:46.191Z"
   },
   {
    "duration": 139,
    "start_time": "2021-06-12T17:02:46.404Z"
   },
   {
    "duration": 32,
    "start_time": "2021-06-12T17:02:46.546Z"
   },
   {
    "duration": 80,
    "start_time": "2021-06-12T17:02:46.581Z"
   },
   {
    "duration": 441,
    "start_time": "2021-06-12T17:02:46.663Z"
   },
   {
    "duration": 393,
    "start_time": "2021-06-12T17:02:47.107Z"
   },
   {
    "duration": 339,
    "start_time": "2021-06-12T17:02:47.504Z"
   },
   {
    "duration": 333,
    "start_time": "2021-06-12T17:02:47.846Z"
   },
   {
    "duration": 6,
    "start_time": "2021-06-12T17:02:48.182Z"
   },
   {
    "duration": 8,
    "start_time": "2021-06-12T17:02:48.201Z"
   },
   {
    "duration": 179,
    "start_time": "2021-06-12T17:02:48.211Z"
   },
   {
    "duration": 109,
    "start_time": "2021-06-12T17:02:48.392Z"
   },
   {
    "duration": 855,
    "start_time": "2021-06-12T17:02:48.504Z"
   },
   {
    "duration": 95,
    "start_time": "2021-06-12T17:02:49.362Z"
   },
   {
    "duration": 54,
    "start_time": "2021-06-12T17:02:49.460Z"
   },
   {
    "duration": 688,
    "start_time": "2021-06-12T17:02:49.516Z"
   },
   {
    "duration": 130,
    "start_time": "2021-06-12T17:02:50.207Z"
   },
   {
    "duration": 26,
    "start_time": "2021-06-12T17:02:50.340Z"
   },
   {
    "duration": 69,
    "start_time": "2021-06-12T17:02:50.369Z"
   },
   {
    "duration": 27,
    "start_time": "2021-06-12T17:02:50.440Z"
   },
   {
    "duration": 53,
    "start_time": "2021-06-12T17:02:50.470Z"
   },
   {
    "duration": 32,
    "start_time": "2021-06-12T17:02:50.528Z"
   },
   {
    "duration": 56,
    "start_time": "2021-06-12T17:02:50.564Z"
   },
   {
    "duration": 5,
    "start_time": "2021-06-12T17:02:50.622Z"
   },
   {
    "duration": 47,
    "start_time": "2021-06-12T17:02:50.629Z"
   },
   {
    "duration": 385,
    "start_time": "2021-06-12T17:02:50.678Z"
   },
   {
    "duration": 385,
    "start_time": "2021-06-12T17:02:51.065Z"
   },
   {
    "duration": 25,
    "start_time": "2021-06-12T17:02:51.453Z"
   },
   {
    "duration": 38,
    "start_time": "2021-06-12T17:02:51.480Z"
   },
   {
    "duration": 19,
    "start_time": "2021-06-12T17:02:51.521Z"
   },
   {
    "duration": 730,
    "start_time": "2021-06-12T17:02:51.543Z"
   },
   {
    "duration": 796,
    "start_time": "2021-06-12T17:02:52.276Z"
   },
   {
    "duration": 761,
    "start_time": "2021-06-12T17:02:53.075Z"
   },
   {
    "duration": 410,
    "start_time": "2021-06-12T17:02:53.839Z"
   },
   {
    "duration": 391,
    "start_time": "2021-06-12T17:02:54.253Z"
   },
   {
    "duration": 390,
    "start_time": "2021-06-12T17:02:54.648Z"
   },
   {
    "duration": 8,
    "start_time": "2021-06-12T17:02:55.041Z"
   },
   {
    "duration": 8,
    "start_time": "2021-06-12T17:02:55.052Z"
   },
   {
    "duration": 42,
    "start_time": "2021-06-12T17:02:55.063Z"
   },
   {
    "duration": 18,
    "start_time": "2021-06-12T17:02:55.108Z"
   },
   {
    "duration": 18,
    "start_time": "2021-06-12T17:02:55.129Z"
   },
   {
    "duration": 454,
    "start_time": "2021-06-12T17:02:55.150Z"
   },
   {
    "duration": 6,
    "start_time": "2021-06-12T17:02:55.607Z"
   },
   {
    "duration": 11,
    "start_time": "2021-06-12T17:02:55.615Z"
   },
   {
    "duration": 436,
    "start_time": "2021-06-12T17:04:23.512Z"
   },
   {
    "duration": 435,
    "start_time": "2021-06-12T17:04:28.947Z"
   },
   {
    "duration": 389,
    "start_time": "2021-06-12T17:04:55.905Z"
   },
   {
    "duration": 83,
    "start_time": "2021-06-12T17:26:32.906Z"
   },
   {
    "duration": 89,
    "start_time": "2021-06-12T17:30:35.030Z"
   },
   {
    "duration": 79,
    "start_time": "2021-06-12T18:44:26.737Z"
   },
   {
    "duration": 92,
    "start_time": "2021-06-13T09:46:17.244Z"
   },
   {
    "duration": 86,
    "start_time": "2021-06-13T09:46:41.252Z"
   },
   {
    "duration": -2796,
    "start_time": "2021-06-13T09:46:44.137Z"
   },
   {
    "duration": -2798,
    "start_time": "2021-06-13T09:46:44.141Z"
   },
   {
    "duration": -2803,
    "start_time": "2021-06-13T09:46:44.147Z"
   },
   {
    "duration": -2806,
    "start_time": "2021-06-13T09:46:44.151Z"
   },
   {
    "duration": -2843,
    "start_time": "2021-06-13T09:46:44.190Z"
   },
   {
    "duration": 912,
    "start_time": "2021-06-13T09:46:41.380Z"
   },
   {
    "duration": -2989,
    "start_time": "2021-06-13T09:46:45.314Z"
   },
   {
    "duration": -2997,
    "start_time": "2021-06-13T09:46:45.324Z"
   },
   {
    "duration": -3005,
    "start_time": "2021-06-13T09:46:45.333Z"
   },
   {
    "duration": -3007,
    "start_time": "2021-06-13T09:46:45.337Z"
   },
   {
    "duration": -3011,
    "start_time": "2021-06-13T09:46:45.342Z"
   },
   {
    "duration": -3014,
    "start_time": "2021-06-13T09:46:45.346Z"
   },
   {
    "duration": -3016,
    "start_time": "2021-06-13T09:46:45.350Z"
   },
   {
    "duration": -3018,
    "start_time": "2021-06-13T09:46:45.353Z"
   },
   {
    "duration": -3019,
    "start_time": "2021-06-13T09:46:45.355Z"
   },
   {
    "duration": -3020,
    "start_time": "2021-06-13T09:46:45.358Z"
   },
   {
    "duration": -3022,
    "start_time": "2021-06-13T09:46:45.361Z"
   },
   {
    "duration": -3023,
    "start_time": "2021-06-13T09:46:45.363Z"
   },
   {
    "duration": -3024,
    "start_time": "2021-06-13T09:46:45.365Z"
   },
   {
    "duration": -3024,
    "start_time": "2021-06-13T09:46:45.367Z"
   },
   {
    "duration": -3026,
    "start_time": "2021-06-13T09:46:45.370Z"
   },
   {
    "duration": -3028,
    "start_time": "2021-06-13T09:46:45.373Z"
   },
   {
    "duration": -3029,
    "start_time": "2021-06-13T09:46:45.375Z"
   },
   {
    "duration": -3030,
    "start_time": "2021-06-13T09:46:45.377Z"
   },
   {
    "duration": -3031,
    "start_time": "2021-06-13T09:46:45.380Z"
   },
   {
    "duration": -3033,
    "start_time": "2021-06-13T09:46:45.383Z"
   },
   {
    "duration": -3034,
    "start_time": "2021-06-13T09:46:45.385Z"
   },
   {
    "duration": -3035,
    "start_time": "2021-06-13T09:46:45.387Z"
   },
   {
    "duration": -3042,
    "start_time": "2021-06-13T09:46:45.395Z"
   },
   {
    "duration": -3044,
    "start_time": "2021-06-13T09:46:45.398Z"
   },
   {
    "duration": -3045,
    "start_time": "2021-06-13T09:46:45.400Z"
   },
   {
    "duration": -3047,
    "start_time": "2021-06-13T09:46:45.403Z"
   },
   {
    "duration": -3048,
    "start_time": "2021-06-13T09:46:45.406Z"
   },
   {
    "duration": -3050,
    "start_time": "2021-06-13T09:46:45.409Z"
   },
   {
    "duration": -3051,
    "start_time": "2021-06-13T09:46:45.411Z"
   },
   {
    "duration": -3053,
    "start_time": "2021-06-13T09:46:45.414Z"
   },
   {
    "duration": -3053,
    "start_time": "2021-06-13T09:46:45.416Z"
   },
   {
    "duration": -3055,
    "start_time": "2021-06-13T09:46:45.419Z"
   },
   {
    "duration": -3056,
    "start_time": "2021-06-13T09:46:45.421Z"
   },
   {
    "duration": -3054,
    "start_time": "2021-06-13T09:46:45.424Z"
   },
   {
    "duration": -3054,
    "start_time": "2021-06-13T09:46:45.426Z"
   },
   {
    "duration": -3054,
    "start_time": "2021-06-13T09:46:45.428Z"
   },
   {
    "duration": -3055,
    "start_time": "2021-06-13T09:46:45.430Z"
   },
   {
    "duration": -3056,
    "start_time": "2021-06-13T09:46:45.432Z"
   },
   {
    "duration": -3057,
    "start_time": "2021-06-13T09:46:45.434Z"
   },
   {
    "duration": 90,
    "start_time": "2021-06-13T09:47:53.836Z"
   },
   {
    "duration": 1010,
    "start_time": "2021-06-13T09:50:04.358Z"
   },
   {
    "duration": 202,
    "start_time": "2021-06-13T09:50:05.371Z"
   },
   {
    "duration": 144,
    "start_time": "2021-06-13T09:50:05.576Z"
   },
   {
    "duration": 38,
    "start_time": "2021-06-13T09:50:05.723Z"
   },
   {
    "duration": 77,
    "start_time": "2021-06-13T09:50:05.768Z"
   },
   {
    "duration": 464,
    "start_time": "2021-06-13T09:50:05.848Z"
   },
   {
    "duration": 402,
    "start_time": "2021-06-13T09:50:06.314Z"
   },
   {
    "duration": 352,
    "start_time": "2021-06-13T09:50:06.718Z"
   },
   {
    "duration": 350,
    "start_time": "2021-06-13T09:50:07.074Z"
   },
   {
    "duration": 6,
    "start_time": "2021-06-13T09:50:07.427Z"
   },
   {
    "duration": 34,
    "start_time": "2021-06-13T09:50:07.435Z"
   },
   {
    "duration": 180,
    "start_time": "2021-06-13T09:50:07.471Z"
   },
   {
    "duration": 119,
    "start_time": "2021-06-13T09:50:07.653Z"
   },
   {
    "duration": 861,
    "start_time": "2021-06-13T09:50:07.774Z"
   },
   {
    "duration": 101,
    "start_time": "2021-06-13T09:50:08.637Z"
   },
   {
    "duration": 61,
    "start_time": "2021-06-13T09:50:08.740Z"
   },
   {
    "duration": 747,
    "start_time": "2021-06-13T09:50:08.803Z"
   },
   {
    "duration": 163,
    "start_time": "2021-06-13T09:50:09.556Z"
   },
   {
    "duration": 41,
    "start_time": "2021-06-13T09:50:09.721Z"
   },
   {
    "duration": 47,
    "start_time": "2021-06-13T09:50:09.765Z"
   },
   {
    "duration": 53,
    "start_time": "2021-06-13T09:50:09.815Z"
   },
   {
    "duration": 28,
    "start_time": "2021-06-13T09:50:09.870Z"
   },
   {
    "duration": 32,
    "start_time": "2021-06-13T09:50:09.900Z"
   },
   {
    "duration": 58,
    "start_time": "2021-06-13T09:50:09.935Z"
   },
   {
    "duration": 5,
    "start_time": "2021-06-13T09:50:09.995Z"
   },
   {
    "duration": 80,
    "start_time": "2021-06-13T09:50:10.003Z"
   },
   {
    "duration": 408,
    "start_time": "2021-06-13T09:50:10.089Z"
   },
   {
    "duration": 399,
    "start_time": "2021-06-13T09:50:10.500Z"
   },
   {
    "duration": 25,
    "start_time": "2021-06-13T09:50:10.901Z"
   },
   {
    "duration": 39,
    "start_time": "2021-06-13T09:50:10.929Z"
   },
   {
    "duration": 24,
    "start_time": "2021-06-13T09:50:10.971Z"
   },
   {
    "duration": 798,
    "start_time": "2021-06-13T09:50:10.998Z"
   },
   {
    "duration": 841,
    "start_time": "2021-06-13T09:50:11.798Z"
   },
   {
    "duration": 1035,
    "start_time": "2021-06-13T09:50:12.641Z"
   },
   {
    "duration": 418,
    "start_time": "2021-06-13T09:50:13.678Z"
   },
   {
    "duration": 479,
    "start_time": "2021-06-13T09:50:14.098Z"
   },
   {
    "duration": 403,
    "start_time": "2021-06-13T09:50:14.580Z"
   },
   {
    "duration": 5,
    "start_time": "2021-06-13T09:50:14.986Z"
   },
   {
    "duration": 32,
    "start_time": "2021-06-13T09:50:14.994Z"
   },
   {
    "duration": 17,
    "start_time": "2021-06-13T09:50:15.028Z"
   },
   {
    "duration": 38,
    "start_time": "2021-06-13T09:50:15.048Z"
   },
   {
    "duration": 27,
    "start_time": "2021-06-13T09:50:15.088Z"
   },
   {
    "duration": 453,
    "start_time": "2021-06-13T09:50:15.117Z"
   },
   {
    "duration": 6,
    "start_time": "2021-06-13T09:50:15.573Z"
   },
   {
    "duration": 30,
    "start_time": "2021-06-13T09:50:15.581Z"
   },
   {
    "duration": 130,
    "start_time": "2021-06-13T09:53:33.475Z"
   },
   {
    "duration": 130,
    "start_time": "2021-06-13T09:54:10.199Z"
   },
   {
    "duration": 995,
    "start_time": "2021-06-13T10:01:45.814Z"
   },
   {
    "duration": 205,
    "start_time": "2021-06-13T10:01:46.811Z"
   },
   {
    "duration": 156,
    "start_time": "2021-06-13T10:01:47.019Z"
   },
   {
    "duration": 31,
    "start_time": "2021-06-13T10:01:47.178Z"
   },
   {
    "duration": 68,
    "start_time": "2021-06-13T10:01:47.212Z"
   },
   {
    "duration": 467,
    "start_time": "2021-06-13T10:01:47.283Z"
   },
   {
    "duration": 412,
    "start_time": "2021-06-13T10:01:47.752Z"
   },
   {
    "duration": 345,
    "start_time": "2021-06-13T10:01:48.168Z"
   },
   {
    "duration": 359,
    "start_time": "2021-06-13T10:01:48.516Z"
   },
   {
    "duration": 6,
    "start_time": "2021-06-13T10:01:48.878Z"
   },
   {
    "duration": 24,
    "start_time": "2021-06-13T10:01:48.886Z"
   },
   {
    "duration": 192,
    "start_time": "2021-06-13T10:01:48.912Z"
   },
   {
    "duration": 115,
    "start_time": "2021-06-13T10:01:49.106Z"
   },
   {
    "duration": 883,
    "start_time": "2021-06-13T10:01:49.223Z"
   },
   {
    "duration": 100,
    "start_time": "2021-06-13T10:01:50.109Z"
   },
   {
    "duration": 58,
    "start_time": "2021-06-13T10:01:50.211Z"
   },
   {
    "duration": 717,
    "start_time": "2021-06-13T10:01:50.271Z"
   },
   {
    "duration": 142,
    "start_time": "2021-06-13T10:01:50.990Z"
   },
   {
    "duration": 41,
    "start_time": "2021-06-13T10:01:51.134Z"
   },
   {
    "duration": 52,
    "start_time": "2021-06-13T10:01:51.178Z"
   },
   {
    "duration": 48,
    "start_time": "2021-06-13T10:01:51.233Z"
   },
   {
    "duration": 31,
    "start_time": "2021-06-13T10:01:51.283Z"
   },
   {
    "duration": 68,
    "start_time": "2021-06-13T10:01:51.321Z"
   },
   {
    "duration": 39,
    "start_time": "2021-06-13T10:01:51.393Z"
   },
   {
    "duration": 26,
    "start_time": "2021-06-13T10:01:51.435Z"
   },
   {
    "duration": 72,
    "start_time": "2021-06-13T10:01:51.467Z"
   },
   {
    "duration": 403,
    "start_time": "2021-06-13T10:01:51.542Z"
   },
   {
    "duration": 430,
    "start_time": "2021-06-13T10:01:51.953Z"
   },
   {
    "duration": 27,
    "start_time": "2021-06-13T10:01:52.385Z"
   },
   {
    "duration": 56,
    "start_time": "2021-06-13T10:01:52.414Z"
   },
   {
    "duration": 21,
    "start_time": "2021-06-13T10:01:52.472Z"
   },
   {
    "duration": 798,
    "start_time": "2021-06-13T10:01:52.496Z"
   },
   {
    "duration": 819,
    "start_time": "2021-06-13T10:01:53.296Z"
   },
   {
    "duration": 801,
    "start_time": "2021-06-13T10:01:54.117Z"
   },
   {
    "duration": 413,
    "start_time": "2021-06-13T10:01:54.921Z"
   },
   {
    "duration": 397,
    "start_time": "2021-06-13T10:01:55.337Z"
   },
   {
    "duration": 396,
    "start_time": "2021-06-13T10:01:55.736Z"
   },
   {
    "duration": 6,
    "start_time": "2021-06-13T10:01:56.135Z"
   },
   {
    "duration": 9,
    "start_time": "2021-06-13T10:01:56.163Z"
   },
   {
    "duration": 9,
    "start_time": "2021-06-13T10:01:56.174Z"
   },
   {
    "duration": 15,
    "start_time": "2021-06-13T10:01:56.185Z"
   },
   {
    "duration": 16,
    "start_time": "2021-06-13T10:01:56.203Z"
   },
   {
    "duration": 415,
    "start_time": "2021-06-13T10:01:56.255Z"
   },
   {
    "duration": 7,
    "start_time": "2021-06-13T10:01:56.673Z"
   },
   {
    "duration": 10,
    "start_time": "2021-06-13T10:01:56.682Z"
   },
   {
    "duration": 14,
    "start_time": "2021-06-13T10:09:23.554Z"
   },
   {
    "duration": 385,
    "start_time": "2021-06-13T10:10:32.031Z"
   },
   {
    "duration": 256,
    "start_time": "2021-06-13T10:15:03.326Z"
   },
   {
    "duration": 22,
    "start_time": "2021-06-13T10:15:23.826Z"
   },
   {
    "duration": 290,
    "start_time": "2021-06-13T10:15:30.995Z"
   },
   {
    "duration": 30,
    "start_time": "2021-06-13T10:16:38.070Z"
   },
   {
    "duration": 41,
    "start_time": "2021-06-13T10:18:23.795Z"
   },
   {
    "duration": 989,
    "start_time": "2021-06-13T10:20:54.154Z"
   },
   {
    "duration": 217,
    "start_time": "2021-06-13T10:20:55.145Z"
   },
   {
    "duration": 144,
    "start_time": "2021-06-13T10:20:55.366Z"
   },
   {
    "duration": 32,
    "start_time": "2021-06-13T10:20:55.513Z"
   },
   {
    "duration": 60,
    "start_time": "2021-06-13T10:20:55.547Z"
   },
   {
    "duration": 476,
    "start_time": "2021-06-13T10:20:55.609Z"
   },
   {
    "duration": 406,
    "start_time": "2021-06-13T10:20:56.087Z"
   },
   {
    "duration": 343,
    "start_time": "2021-06-13T10:20:56.496Z"
   },
   {
    "duration": 341,
    "start_time": "2021-06-13T10:20:56.843Z"
   },
   {
    "duration": 7,
    "start_time": "2021-06-13T10:20:57.186Z"
   },
   {
    "duration": 15,
    "start_time": "2021-06-13T10:20:57.195Z"
   },
   {
    "duration": 205,
    "start_time": "2021-06-13T10:20:57.212Z"
   },
   {
    "duration": 110,
    "start_time": "2021-06-13T10:20:57.419Z"
   },
   {
    "duration": 855,
    "start_time": "2021-06-13T10:20:57.531Z"
   },
   {
    "duration": 104,
    "start_time": "2021-06-13T10:20:58.389Z"
   },
   {
    "duration": 45,
    "start_time": "2021-06-13T10:20:58.495Z"
   },
   {
    "duration": 698,
    "start_time": "2021-06-13T10:20:58.559Z"
   },
   {
    "duration": 152,
    "start_time": "2021-06-13T10:20:59.260Z"
   },
   {
    "duration": 64,
    "start_time": "2021-06-13T10:20:59.414Z"
   },
   {
    "duration": 27,
    "start_time": "2021-06-13T10:20:59.481Z"
   },
   {
    "duration": 53,
    "start_time": "2021-06-13T10:20:59.511Z"
   },
   {
    "duration": 45,
    "start_time": "2021-06-13T10:20:59.567Z"
   },
   {
    "duration": 77,
    "start_time": "2021-06-13T10:20:59.619Z"
   },
   {
    "duration": 6,
    "start_time": "2021-06-13T10:20:59.700Z"
   },
   {
    "duration": 74,
    "start_time": "2021-06-13T10:20:59.709Z"
   },
   {
    "duration": 390,
    "start_time": "2021-06-13T10:20:59.785Z"
   },
   {
    "duration": -2823,
    "start_time": "2021-06-13T10:21:03.001Z"
   },
   {
    "duration": -2829,
    "start_time": "2021-06-13T10:21:03.008Z"
   },
   {
    "duration": -2832,
    "start_time": "2021-06-13T10:21:03.013Z"
   },
   {
    "duration": -2837,
    "start_time": "2021-06-13T10:21:03.019Z"
   },
   {
    "duration": -2840,
    "start_time": "2021-06-13T10:21:03.024Z"
   },
   {
    "duration": -2843,
    "start_time": "2021-06-13T10:21:03.028Z"
   },
   {
    "duration": -2880,
    "start_time": "2021-06-13T10:21:03.067Z"
   },
   {
    "duration": -2885,
    "start_time": "2021-06-13T10:21:03.073Z"
   },
   {
    "duration": -2889,
    "start_time": "2021-06-13T10:21:03.078Z"
   },
   {
    "duration": -2892,
    "start_time": "2021-06-13T10:21:03.083Z"
   },
   {
    "duration": -2896,
    "start_time": "2021-06-13T10:21:03.088Z"
   },
   {
    "duration": -2900,
    "start_time": "2021-06-13T10:21:03.093Z"
   },
   {
    "duration": -2903,
    "start_time": "2021-06-13T10:21:03.097Z"
   },
   {
    "duration": -2905,
    "start_time": "2021-06-13T10:21:03.101Z"
   },
   {
    "duration": -2907,
    "start_time": "2021-06-13T10:21:03.104Z"
   },
   {
    "duration": -2910,
    "start_time": "2021-06-13T10:21:03.108Z"
   },
   {
    "duration": -2912,
    "start_time": "2021-06-13T10:21:03.111Z"
   },
   {
    "duration": -2913,
    "start_time": "2021-06-13T10:21:03.113Z"
   },
   {
    "duration": -2913,
    "start_time": "2021-06-13T10:21:03.115Z"
   },
   {
    "duration": 15,
    "start_time": "2021-06-13T10:27:08.516Z"
   },
   {
    "duration": 104,
    "start_time": "2021-06-13T11:17:59.995Z"
   },
   {
    "duration": 92,
    "start_time": "2021-06-13T11:18:52.212Z"
   },
   {
    "duration": 103,
    "start_time": "2021-06-13T11:20:18.064Z"
   },
   {
    "duration": 85,
    "start_time": "2021-06-13T11:21:38.369Z"
   },
   {
    "duration": 93,
    "start_time": "2021-06-13T11:26:09.096Z"
   },
   {
    "duration": 407,
    "start_time": "2021-06-13T11:28:39.899Z"
   },
   {
    "duration": 371,
    "start_time": "2021-06-13T11:30:29.798Z"
   },
   {
    "duration": 25,
    "start_time": "2021-06-13T11:33:39.363Z"
   },
   {
    "duration": 24,
    "start_time": "2021-06-13T11:33:42.151Z"
   },
   {
    "duration": 30,
    "start_time": "2021-06-13T11:33:44.512Z"
   },
   {
    "duration": 943,
    "start_time": "2021-06-13T11:33:47.300Z"
   },
   {
    "duration": 872,
    "start_time": "2021-06-13T11:33:56.929Z"
   },
   {
    "duration": 6036,
    "start_time": "2021-06-13T11:34:35.945Z"
   },
   {
    "duration": 718,
    "start_time": "2021-06-13T11:34:47.338Z"
   },
   {
    "duration": 722,
    "start_time": "2021-06-13T11:41:35.564Z"
   },
   {
    "duration": 710,
    "start_time": "2021-06-13T11:43:10.337Z"
   },
   {
    "duration": 725,
    "start_time": "2021-06-13T11:43:45.951Z"
   },
   {
    "duration": 739,
    "start_time": "2021-06-13T11:44:08.728Z"
   },
   {
    "duration": 826,
    "start_time": "2021-06-13T11:44:15.111Z"
   },
   {
    "duration": 809,
    "start_time": "2021-06-13T11:45:03.881Z"
   },
   {
    "duration": 765,
    "start_time": "2021-06-13T11:45:11.956Z"
   },
   {
    "duration": 805,
    "start_time": "2021-06-13T11:45:16.419Z"
   },
   {
    "duration": 735,
    "start_time": "2021-06-13T11:46:12.093Z"
   },
   {
    "duration": 493,
    "start_time": "2021-06-13T11:46:26.251Z"
   },
   {
    "duration": 509,
    "start_time": "2021-06-13T11:47:09.861Z"
   },
   {
    "duration": 411,
    "start_time": "2021-06-13T11:47:30.569Z"
   },
   {
    "duration": 392,
    "start_time": "2021-06-13T11:48:28.382Z"
   },
   {
    "duration": 6118,
    "start_time": "2021-06-13T11:48:32.028Z"
   },
   {
    "duration": 389,
    "start_time": "2021-06-13T11:48:47.465Z"
   },
   {
    "duration": 790,
    "start_time": "2021-06-13T11:54:11.900Z"
   },
   {
    "duration": 785,
    "start_time": "2021-06-13T11:56:29.262Z"
   },
   {
    "duration": 762,
    "start_time": "2021-06-13T11:56:44.281Z"
   },
   {
    "duration": 703,
    "start_time": "2021-06-13T11:56:58.519Z"
   },
   {
    "duration": 734,
    "start_time": "2021-06-13T11:57:31.221Z"
   },
   {
    "duration": 695,
    "start_time": "2021-06-13T11:57:37.674Z"
   },
   {
    "duration": 614,
    "start_time": "2021-06-13T11:57:59.427Z"
   },
   {
    "duration": 526,
    "start_time": "2021-06-13T11:58:11.290Z"
   },
   {
    "duration": 480,
    "start_time": "2021-06-13T11:59:42.720Z"
   },
   {
    "duration": 471,
    "start_time": "2021-06-13T12:00:20.146Z"
   },
   {
    "duration": 486,
    "start_time": "2021-06-13T12:01:00.903Z"
   },
   {
    "duration": 1061,
    "start_time": "2021-06-13T12:03:20.777Z"
   },
   {
    "duration": 237,
    "start_time": "2021-06-13T12:03:21.842Z"
   },
   {
    "duration": 161,
    "start_time": "2021-06-13T12:03:22.084Z"
   },
   {
    "duration": 44,
    "start_time": "2021-06-13T12:03:22.254Z"
   },
   {
    "duration": 55,
    "start_time": "2021-06-13T12:03:22.300Z"
   },
   {
    "duration": 501,
    "start_time": "2021-06-13T12:03:22.358Z"
   },
   {
    "duration": 450,
    "start_time": "2021-06-13T12:03:22.862Z"
   },
   {
    "duration": 382,
    "start_time": "2021-06-13T12:03:23.315Z"
   },
   {
    "duration": 365,
    "start_time": "2021-06-13T12:03:23.701Z"
   },
   {
    "duration": 7,
    "start_time": "2021-06-13T12:03:24.069Z"
   },
   {
    "duration": 12,
    "start_time": "2021-06-13T12:03:24.080Z"
   },
   {
    "duration": 231,
    "start_time": "2021-06-13T12:03:24.094Z"
   },
   {
    "duration": 120,
    "start_time": "2021-06-13T12:03:24.328Z"
   },
   {
    "duration": 960,
    "start_time": "2021-06-13T12:03:24.450Z"
   },
   {
    "duration": 109,
    "start_time": "2021-06-13T12:03:25.413Z"
   },
   {
    "duration": 63,
    "start_time": "2021-06-13T12:03:25.525Z"
   },
   {
    "duration": 767,
    "start_time": "2021-06-13T12:03:25.591Z"
   },
   {
    "duration": 152,
    "start_time": "2021-06-13T12:03:26.361Z"
   },
   {
    "duration": 77,
    "start_time": "2021-06-13T12:03:26.515Z"
   },
   {
    "duration": 29,
    "start_time": "2021-06-13T12:03:26.594Z"
   },
   {
    "duration": 56,
    "start_time": "2021-06-13T12:03:26.625Z"
   },
   {
    "duration": 34,
    "start_time": "2021-06-13T12:03:26.684Z"
   },
   {
    "duration": 69,
    "start_time": "2021-06-13T12:03:26.725Z"
   },
   {
    "duration": 4,
    "start_time": "2021-06-13T12:03:26.797Z"
   },
   {
    "duration": 63,
    "start_time": "2021-06-13T12:03:26.803Z"
   },
   {
    "duration": 21,
    "start_time": "2021-06-13T12:03:26.870Z"
   },
   {
    "duration": 451,
    "start_time": "2021-06-13T12:03:26.894Z"
   },
   {
    "duration": 401,
    "start_time": "2021-06-13T12:03:27.356Z"
   },
   {
    "duration": 31,
    "start_time": "2021-06-13T12:03:27.760Z"
   },
   {
    "duration": 23,
    "start_time": "2021-06-13T12:03:27.794Z"
   },
   {
    "duration": 29,
    "start_time": "2021-06-13T12:03:27.855Z"
   },
   {
    "duration": 825,
    "start_time": "2021-06-13T12:03:27.887Z"
   },
   {
    "duration": 921,
    "start_time": "2021-06-13T12:03:28.715Z"
   },
   {
    "duration": 919,
    "start_time": "2021-06-13T12:03:29.639Z"
   },
   {
    "duration": 548,
    "start_time": "2021-06-13T12:03:30.563Z"
   },
   {
    "duration": 508,
    "start_time": "2021-06-13T12:03:31.114Z"
   },
   {
    "duration": 502,
    "start_time": "2021-06-13T12:03:31.624Z"
   },
   {
    "duration": 6,
    "start_time": "2021-06-13T12:03:32.128Z"
   },
   {
    "duration": 26,
    "start_time": "2021-06-13T12:03:32.136Z"
   },
   {
    "duration": 13,
    "start_time": "2021-06-13T12:03:32.165Z"
   },
   {
    "duration": 362,
    "start_time": "2021-06-13T12:03:32.181Z"
   },
   {
    "duration": -2743,
    "start_time": "2021-06-13T12:03:35.288Z"
   },
   {
    "duration": -2746,
    "start_time": "2021-06-13T12:03:35.293Z"
   },
   {
    "duration": -2747,
    "start_time": "2021-06-13T12:03:35.295Z"
   },
   {
    "duration": -2748,
    "start_time": "2021-06-13T12:03:35.297Z"
   },
   {
    "duration": 19,
    "start_time": "2021-06-13T12:03:57.620Z"
   },
   {
    "duration": 261,
    "start_time": "2021-06-13T12:04:26.631Z"
   },
   {
    "duration": 21,
    "start_time": "2021-06-13T12:04:43.847Z"
   },
   {
    "duration": 21,
    "start_time": "2021-06-13T12:32:25.587Z"
   },
   {
    "duration": 23,
    "start_time": "2021-06-13T12:32:29.439Z"
   },
   {
    "duration": 87,
    "start_time": "2021-06-13T12:39:45.808Z"
   },
   {
    "duration": 726,
    "start_time": "2021-06-13T12:39:52.930Z"
   },
   {
    "duration": 16,
    "start_time": "2021-06-13T12:40:11.854Z"
   },
   {
    "duration": 12,
    "start_time": "2021-06-13T12:48:39.663Z"
   },
   {
    "duration": 16,
    "start_time": "2021-06-13T12:48:52.643Z"
   },
   {
    "duration": 10,
    "start_time": "2021-06-13T12:49:31.699Z"
   },
   {
    "duration": 12,
    "start_time": "2021-06-13T12:51:56.564Z"
   },
   {
    "duration": 11,
    "start_time": "2021-06-13T12:52:36.121Z"
   },
   {
    "duration": 954,
    "start_time": "2021-06-13T12:57:31.895Z"
   },
   {
    "duration": 207,
    "start_time": "2021-06-13T12:57:32.854Z"
   },
   {
    "duration": 155,
    "start_time": "2021-06-13T12:57:33.064Z"
   },
   {
    "duration": 37,
    "start_time": "2021-06-13T12:57:33.222Z"
   },
   {
    "duration": 54,
    "start_time": "2021-06-13T12:57:33.262Z"
   },
   {
    "duration": 461,
    "start_time": "2021-06-13T12:57:33.318Z"
   },
   {
    "duration": 397,
    "start_time": "2021-06-13T12:57:33.781Z"
   },
   {
    "duration": 355,
    "start_time": "2021-06-13T12:57:34.183Z"
   },
   {
    "duration": 353,
    "start_time": "2021-06-13T12:57:34.542Z"
   },
   {
    "duration": 6,
    "start_time": "2021-06-13T12:57:34.898Z"
   },
   {
    "duration": 11,
    "start_time": "2021-06-13T12:57:34.906Z"
   },
   {
    "duration": 205,
    "start_time": "2021-06-13T12:57:34.920Z"
   },
   {
    "duration": 115,
    "start_time": "2021-06-13T12:57:35.128Z"
   },
   {
    "duration": 862,
    "start_time": "2021-06-13T12:57:35.246Z"
   },
   {
    "duration": 100,
    "start_time": "2021-06-13T12:57:36.110Z"
   },
   {
    "duration": 55,
    "start_time": "2021-06-13T12:57:36.213Z"
   },
   {
    "duration": 704,
    "start_time": "2021-06-13T12:57:36.271Z"
   },
   {
    "duration": 139,
    "start_time": "2021-06-13T12:57:36.977Z"
   },
   {
    "duration": 61,
    "start_time": "2021-06-13T12:57:37.118Z"
   },
   {
    "duration": 28,
    "start_time": "2021-06-13T12:57:37.181Z"
   },
   {
    "duration": 49,
    "start_time": "2021-06-13T12:57:37.212Z"
   },
   {
    "duration": 33,
    "start_time": "2021-06-13T12:57:37.264Z"
   },
   {
    "duration": 66,
    "start_time": "2021-06-13T12:57:37.302Z"
   },
   {
    "duration": 5,
    "start_time": "2021-06-13T12:57:37.371Z"
   },
   {
    "duration": 47,
    "start_time": "2021-06-13T12:57:37.378Z"
   },
   {
    "duration": 40,
    "start_time": "2021-06-13T12:57:37.427Z"
   },
   {
    "duration": 421,
    "start_time": "2021-06-13T12:57:37.469Z"
   },
   {
    "duration": 375,
    "start_time": "2021-06-13T12:57:37.893Z"
   },
   {
    "duration": 22,
    "start_time": "2021-06-13T12:57:38.271Z"
   },
   {
    "duration": 21,
    "start_time": "2021-06-13T12:57:38.295Z"
   },
   {
    "duration": 54,
    "start_time": "2021-06-13T12:57:38.319Z"
   },
   {
    "duration": 771,
    "start_time": "2021-06-13T12:57:38.376Z"
   },
   {
    "duration": 884,
    "start_time": "2021-06-13T12:57:39.157Z"
   },
   {
    "duration": 738,
    "start_time": "2021-06-13T12:57:40.044Z"
   },
   {
    "duration": 507,
    "start_time": "2021-06-13T12:57:40.784Z"
   },
   {
    "duration": 444,
    "start_time": "2021-06-13T12:57:41.293Z"
   },
   {
    "duration": 449,
    "start_time": "2021-06-13T12:57:41.740Z"
   },
   {
    "duration": 5,
    "start_time": "2021-06-13T12:57:42.192Z"
   },
   {
    "duration": 9,
    "start_time": "2021-06-13T12:57:42.199Z"
   },
   {
    "duration": 7,
    "start_time": "2021-06-13T12:57:42.210Z"
   },
   {
    "duration": 50,
    "start_time": "2021-06-13T12:57:42.219Z"
   },
   {
    "duration": 16,
    "start_time": "2021-06-13T12:57:42.271Z"
   },
   {
    "duration": 549,
    "start_time": "2021-06-13T12:57:42.289Z"
   },
   {
    "duration": 25,
    "start_time": "2021-06-13T12:57:42.840Z"
   },
   {
    "duration": 15,
    "start_time": "2021-06-13T12:59:05.256Z"
   },
   {
    "duration": 9,
    "start_time": "2021-06-13T12:59:18.735Z"
   },
   {
    "duration": 857,
    "start_time": "2021-06-13T13:11:08.455Z"
   },
   {
    "duration": 1599,
    "start_time": "2021-06-13T13:11:22.720Z"
   },
   {
    "duration": 284,
    "start_time": "2021-06-13T13:12:44.745Z"
   },
   {
    "duration": 94,
    "start_time": "2021-06-13T13:13:33.503Z"
   },
   {
    "duration": 1610,
    "start_time": "2021-06-13T13:13:40.505Z"
   },
   {
    "duration": 277,
    "start_time": "2021-06-13T13:13:46.775Z"
   },
   {
    "duration": 950,
    "start_time": "2021-06-13T13:14:46.455Z"
   },
   {
    "duration": 823,
    "start_time": "2021-06-13T13:15:37.987Z"
   },
   {
    "duration": 51,
    "start_time": "2021-06-13T13:20:37.654Z"
   },
   {
    "duration": 972,
    "start_time": "2021-06-13T13:21:17.216Z"
   },
   {
    "duration": 208,
    "start_time": "2021-06-13T13:21:18.191Z"
   },
   {
    "duration": 149,
    "start_time": "2021-06-13T13:21:18.402Z"
   },
   {
    "duration": 32,
    "start_time": "2021-06-13T13:21:18.559Z"
   },
   {
    "duration": 59,
    "start_time": "2021-06-13T13:21:18.593Z"
   },
   {
    "duration": 463,
    "start_time": "2021-06-13T13:21:18.655Z"
   },
   {
    "duration": 417,
    "start_time": "2021-06-13T13:21:19.120Z"
   },
   {
    "duration": 444,
    "start_time": "2021-06-13T13:21:19.541Z"
   },
   {
    "duration": 474,
    "start_time": "2021-06-13T13:21:19.989Z"
   },
   {
    "duration": 9,
    "start_time": "2021-06-13T13:21:20.466Z"
   },
   {
    "duration": 8,
    "start_time": "2021-06-13T13:21:20.487Z"
   },
   {
    "duration": 201,
    "start_time": "2021-06-13T13:21:20.498Z"
   },
   {
    "duration": 114,
    "start_time": "2021-06-13T13:21:20.702Z"
   },
   {
    "duration": 892,
    "start_time": "2021-06-13T13:21:20.819Z"
   },
   {
    "duration": 99,
    "start_time": "2021-06-13T13:21:21.714Z"
   },
   {
    "duration": 67,
    "start_time": "2021-06-13T13:21:21.816Z"
   },
   {
    "duration": 808,
    "start_time": "2021-06-13T13:21:21.885Z"
   },
   {
    "duration": 136,
    "start_time": "2021-06-13T13:21:22.695Z"
   },
   {
    "duration": 62,
    "start_time": "2021-06-13T13:21:22.833Z"
   },
   {
    "duration": 28,
    "start_time": "2021-06-13T13:21:22.897Z"
   },
   {
    "duration": 53,
    "start_time": "2021-06-13T13:21:22.927Z"
   },
   {
    "duration": 30,
    "start_time": "2021-06-13T13:21:22.982Z"
   },
   {
    "duration": 68,
    "start_time": "2021-06-13T13:21:23.018Z"
   },
   {
    "duration": 4,
    "start_time": "2021-06-13T13:21:23.089Z"
   },
   {
    "duration": 59,
    "start_time": "2021-06-13T13:21:23.095Z"
   },
   {
    "duration": 18,
    "start_time": "2021-06-13T13:21:23.159Z"
   },
   {
    "duration": 417,
    "start_time": "2021-06-13T13:21:23.180Z"
   },
   {
    "duration": 377,
    "start_time": "2021-06-13T13:21:23.599Z"
   },
   {
    "duration": 23,
    "start_time": "2021-06-13T13:21:23.978Z"
   },
   {
    "duration": 19,
    "start_time": "2021-06-13T13:21:24.003Z"
   },
   {
    "duration": 51,
    "start_time": "2021-06-13T13:21:24.025Z"
   },
   {
    "duration": 757,
    "start_time": "2021-06-13T13:21:24.078Z"
   },
   {
    "duration": 894,
    "start_time": "2021-06-13T13:21:24.838Z"
   },
   {
    "duration": 739,
    "start_time": "2021-06-13T13:21:25.735Z"
   },
   {
    "duration": 455,
    "start_time": "2021-06-13T13:21:26.477Z"
   },
   {
    "duration": 443,
    "start_time": "2021-06-13T13:21:26.935Z"
   },
   {
    "duration": 444,
    "start_time": "2021-06-13T13:21:27.381Z"
   },
   {
    "duration": 6,
    "start_time": "2021-06-13T13:21:27.827Z"
   },
   {
    "duration": 22,
    "start_time": "2021-06-13T13:21:27.835Z"
   },
   {
    "duration": 9,
    "start_time": "2021-06-13T13:21:27.860Z"
   },
   {
    "duration": 19,
    "start_time": "2021-06-13T13:21:27.874Z"
   },
   {
    "duration": 18,
    "start_time": "2021-06-13T13:21:27.896Z"
   },
   {
    "duration": 530,
    "start_time": "2021-06-13T13:21:27.917Z"
   },
   {
    "duration": 11,
    "start_time": "2021-06-13T13:21:28.449Z"
   },
   {
    "duration": 358,
    "start_time": "2021-06-13T18:29:24.889Z"
   },
   {
    "duration": 1163,
    "start_time": "2021-06-13T18:29:27.625Z"
   },
   {
    "duration": 288,
    "start_time": "2021-06-13T18:29:28.792Z"
   },
   {
    "duration": 202,
    "start_time": "2021-06-13T18:29:29.084Z"
   },
   {
    "duration": 39,
    "start_time": "2021-06-13T18:29:29.289Z"
   },
   {
    "duration": 55,
    "start_time": "2021-06-13T18:29:29.331Z"
   },
   {
    "duration": 788,
    "start_time": "2021-06-13T18:29:29.389Z"
   },
   {
    "duration": 611,
    "start_time": "2021-06-13T18:29:30.180Z"
   },
   {
    "duration": 523,
    "start_time": "2021-06-13T18:29:30.797Z"
   },
   {
    "duration": 512,
    "start_time": "2021-06-13T18:29:31.324Z"
   },
   {
    "duration": 23,
    "start_time": "2021-06-13T18:29:31.839Z"
   },
   {
    "duration": 9,
    "start_time": "2021-06-13T18:29:31.864Z"
   },
   {
    "duration": 189,
    "start_time": "2021-06-13T18:29:31.875Z"
   },
   {
    "duration": 108,
    "start_time": "2021-06-13T18:29:32.066Z"
   },
   {
    "duration": 874,
    "start_time": "2021-06-13T18:29:32.176Z"
   },
   {
    "duration": 94,
    "start_time": "2021-06-13T18:29:33.052Z"
   },
   {
    "duration": 61,
    "start_time": "2021-06-13T18:29:33.148Z"
   },
   {
    "duration": 700,
    "start_time": "2021-06-13T18:29:33.211Z"
   },
   {
    "duration": 132,
    "start_time": "2021-06-13T18:29:33.914Z"
   },
   {
    "duration": 51,
    "start_time": "2021-06-13T18:29:34.049Z"
   },
   {
    "duration": 29,
    "start_time": "2021-06-13T18:29:34.102Z"
   },
   {
    "duration": 50,
    "start_time": "2021-06-13T18:29:34.134Z"
   },
   {
    "duration": 32,
    "start_time": "2021-06-13T18:29:34.187Z"
   },
   {
    "duration": 64,
    "start_time": "2021-06-13T18:29:34.224Z"
   },
   {
    "duration": 5,
    "start_time": "2021-06-13T18:29:34.291Z"
   },
   {
    "duration": 64,
    "start_time": "2021-06-13T18:29:34.299Z"
   },
   {
    "duration": 17,
    "start_time": "2021-06-13T18:29:34.366Z"
   },
   {
    "duration": 410,
    "start_time": "2021-06-13T18:29:34.386Z"
   },
   {
    "duration": 6,
    "start_time": "2021-06-13T18:29:34.799Z"
   },
   {
    "duration": 383,
    "start_time": "2021-06-13T18:29:34.808Z"
   },
   {
    "duration": 25,
    "start_time": "2021-06-13T18:29:35.194Z"
   },
   {
    "duration": 52,
    "start_time": "2021-06-13T18:29:35.221Z"
   },
   {
    "duration": 22,
    "start_time": "2021-06-13T18:29:35.276Z"
   },
   {
    "duration": 777,
    "start_time": "2021-06-13T18:29:35.300Z"
   },
   {
    "duration": 1351,
    "start_time": "2021-06-13T18:29:36.080Z"
   },
   {
    "duration": 1130,
    "start_time": "2021-06-13T18:29:37.434Z"
   },
   {
    "duration": 723,
    "start_time": "2021-06-13T18:29:38.568Z"
   },
   {
    "duration": 685,
    "start_time": "2021-06-13T18:29:39.294Z"
   },
   {
    "duration": 458,
    "start_time": "2021-06-13T18:29:39.981Z"
   },
   {
    "duration": 6,
    "start_time": "2021-06-13T18:29:40.441Z"
   },
   {
    "duration": 19,
    "start_time": "2021-06-13T18:29:40.449Z"
   },
   {
    "duration": 18,
    "start_time": "2021-06-13T18:29:40.471Z"
   },
   {
    "duration": 24,
    "start_time": "2021-06-13T18:29:40.492Z"
   },
   {
    "duration": 16,
    "start_time": "2021-06-13T18:29:40.518Z"
   },
   {
    "duration": 528,
    "start_time": "2021-06-13T18:29:40.536Z"
   },
   {
    "duration": 10,
    "start_time": "2021-06-13T18:29:41.067Z"
   },
   {
    "duration": 292,
    "start_time": "2021-06-13T18:31:35.957Z"
   },
   {
    "duration": 215,
    "start_time": "2021-06-13T18:31:36.252Z"
   },
   {
    "duration": 157,
    "start_time": "2021-06-13T18:31:36.471Z"
   },
   {
    "duration": 37,
    "start_time": "2021-06-13T18:31:36.631Z"
   },
   {
    "duration": 44,
    "start_time": "2021-06-13T18:31:36.670Z"
   },
   {
    "duration": 361,
    "start_time": "2021-06-13T18:31:36.716Z"
   },
   {
    "duration": 413,
    "start_time": "2021-06-13T18:31:37.079Z"
   },
   {
    "duration": 351,
    "start_time": "2021-06-13T18:31:37.495Z"
   },
   {
    "duration": 306,
    "start_time": "2021-06-13T18:31:37.849Z"
   },
   {
    "duration": 9,
    "start_time": "2021-06-13T18:31:38.157Z"
   },
   {
    "duration": 11,
    "start_time": "2021-06-13T18:31:38.169Z"
   },
   {
    "duration": 188,
    "start_time": "2021-06-13T18:31:38.182Z"
   },
   {
    "duration": 96,
    "start_time": "2021-06-13T18:31:38.373Z"
   },
   {
    "duration": 893,
    "start_time": "2021-06-13T18:31:38.471Z"
   },
   {
    "duration": 105,
    "start_time": "2021-06-13T18:31:39.367Z"
   },
   {
    "duration": 49,
    "start_time": "2021-06-13T18:31:39.475Z"
   },
   {
    "duration": 714,
    "start_time": "2021-06-13T18:31:39.526Z"
   },
   {
    "duration": 130,
    "start_time": "2021-06-13T18:31:40.242Z"
   },
   {
    "duration": 46,
    "start_time": "2021-06-13T18:31:40.374Z"
   },
   {
    "duration": 48,
    "start_time": "2021-06-13T18:31:40.422Z"
   },
   {
    "duration": 28,
    "start_time": "2021-06-13T18:31:40.473Z"
   },
   {
    "duration": 31,
    "start_time": "2021-06-13T18:31:40.503Z"
   },
   {
    "duration": 36,
    "start_time": "2021-06-13T18:31:40.563Z"
   },
   {
    "duration": 5,
    "start_time": "2021-06-13T18:31:40.601Z"
   },
   {
    "duration": 76,
    "start_time": "2021-06-13T18:31:40.608Z"
   },
   {
    "duration": 17,
    "start_time": "2021-06-13T18:31:40.687Z"
   },
   {
    "duration": 415,
    "start_time": "2021-06-13T18:31:40.708Z"
   },
   {
    "duration": 6,
    "start_time": "2021-06-13T18:31:41.126Z"
   },
   {
    "duration": 406,
    "start_time": "2021-06-13T18:31:41.134Z"
   },
   {
    "duration": 34,
    "start_time": "2021-06-13T18:31:41.542Z"
   },
   {
    "duration": 19,
    "start_time": "2021-06-13T18:31:41.579Z"
   },
   {
    "duration": 30,
    "start_time": "2021-06-13T18:31:41.601Z"
   },
   {
    "duration": 885,
    "start_time": "2021-06-13T18:31:41.633Z"
   },
   {
    "duration": 825,
    "start_time": "2021-06-13T18:31:42.520Z"
   },
   {
    "duration": 751,
    "start_time": "2021-06-13T18:31:43.347Z"
   },
   {
    "duration": 466,
    "start_time": "2021-06-13T18:31:44.101Z"
   },
   {
    "duration": 447,
    "start_time": "2021-06-13T18:31:44.570Z"
   },
   {
    "duration": 562,
    "start_time": "2021-06-13T18:31:45.020Z"
   },
   {
    "duration": 6,
    "start_time": "2021-06-13T18:31:45.584Z"
   },
   {
    "duration": 24,
    "start_time": "2021-06-13T18:31:45.592Z"
   },
   {
    "duration": 9,
    "start_time": "2021-06-13T18:31:45.618Z"
   },
   {
    "duration": 34,
    "start_time": "2021-06-13T18:31:45.629Z"
   },
   {
    "duration": 18,
    "start_time": "2021-06-13T18:31:45.666Z"
   },
   {
    "duration": 12,
    "start_time": "2021-06-13T18:31:45.686Z"
   },
   {
    "duration": 15,
    "start_time": "2021-06-13T18:31:45.700Z"
   },
   {
    "duration": 300,
    "start_time": "2021-06-13T18:40:11.048Z"
   },
   {
    "duration": 216,
    "start_time": "2021-06-13T18:40:11.350Z"
   },
   {
    "duration": 179,
    "start_time": "2021-06-13T18:40:11.571Z"
   },
   {
    "duration": 42,
    "start_time": "2021-06-13T18:40:11.752Z"
   },
   {
    "duration": 57,
    "start_time": "2021-06-13T18:40:11.797Z"
   },
   {
    "duration": 454,
    "start_time": "2021-06-13T18:40:11.858Z"
   },
   {
    "duration": 429,
    "start_time": "2021-06-13T18:40:12.314Z"
   },
   {
    "duration": 373,
    "start_time": "2021-06-13T18:40:12.747Z"
   },
   {
    "duration": 430,
    "start_time": "2021-06-13T18:40:13.125Z"
   },
   {
    "duration": 9,
    "start_time": "2021-06-13T18:40:13.557Z"
   },
   {
    "duration": 10,
    "start_time": "2021-06-13T18:40:13.569Z"
   },
   {
    "duration": 193,
    "start_time": "2021-06-13T18:40:13.582Z"
   },
   {
    "duration": 112,
    "start_time": "2021-06-13T18:40:13.778Z"
   },
   {
    "duration": 940,
    "start_time": "2021-06-13T18:40:13.892Z"
   },
   {
    "duration": 101,
    "start_time": "2021-06-13T18:40:14.834Z"
   },
   {
    "duration": 63,
    "start_time": "2021-06-13T18:40:14.937Z"
   },
   {
    "duration": 735,
    "start_time": "2021-06-13T18:40:15.003Z"
   },
   {
    "duration": 131,
    "start_time": "2021-06-13T18:40:15.741Z"
   },
   {
    "duration": 54,
    "start_time": "2021-06-13T18:40:15.876Z"
   },
   {
    "duration": 54,
    "start_time": "2021-06-13T18:40:15.934Z"
   },
   {
    "duration": 32,
    "start_time": "2021-06-13T18:40:15.991Z"
   },
   {
    "duration": 66,
    "start_time": "2021-06-13T18:40:16.026Z"
   },
   {
    "duration": 41,
    "start_time": "2021-06-13T18:40:16.097Z"
   },
   {
    "duration": 5,
    "start_time": "2021-06-13T18:40:16.162Z"
   },
   {
    "duration": 62,
    "start_time": "2021-06-13T18:40:16.170Z"
   },
   {
    "duration": 8457,
    "start_time": "2021-06-13T18:40:16.234Z"
   },
   {
    "duration": -19487,
    "start_time": "2021-06-13T18:40:44.182Z"
   },
   {
    "duration": -19502,
    "start_time": "2021-06-13T18:40:44.199Z"
   },
   {
    "duration": -19503,
    "start_time": "2021-06-13T18:40:44.202Z"
   },
   {
    "duration": -19507,
    "start_time": "2021-06-13T18:40:44.208Z"
   },
   {
    "duration": -19507,
    "start_time": "2021-06-13T18:40:44.210Z"
   },
   {
    "duration": -19507,
    "start_time": "2021-06-13T18:40:44.212Z"
   },
   {
    "duration": -19508,
    "start_time": "2021-06-13T18:40:44.215Z"
   },
   {
    "duration": -19507,
    "start_time": "2021-06-13T18:40:44.216Z"
   },
   {
    "duration": -19508,
    "start_time": "2021-06-13T18:40:44.219Z"
   },
   {
    "duration": -19512,
    "start_time": "2021-06-13T18:40:44.225Z"
   },
   {
    "duration": -19513,
    "start_time": "2021-06-13T18:40:44.228Z"
   },
   {
    "duration": -19513,
    "start_time": "2021-06-13T18:40:44.230Z"
   },
   {
    "duration": -19513,
    "start_time": "2021-06-13T18:40:44.232Z"
   },
   {
    "duration": -19513,
    "start_time": "2021-06-13T18:40:44.234Z"
   },
   {
    "duration": -19514,
    "start_time": "2021-06-13T18:40:44.237Z"
   },
   {
    "duration": -19520,
    "start_time": "2021-06-13T18:40:44.244Z"
   },
   {
    "duration": -19521,
    "start_time": "2021-06-13T18:40:44.247Z"
   },
   {
    "duration": -19521,
    "start_time": "2021-06-13T18:40:44.249Z"
   },
   {
    "duration": -19492,
    "start_time": "2021-06-13T18:40:44.253Z"
   },
   {
    "duration": 347,
    "start_time": "2021-06-13T18:40:59.726Z"
   },
   {
    "duration": 213,
    "start_time": "2021-06-13T18:41:00.076Z"
   },
   {
    "duration": 151,
    "start_time": "2021-06-13T18:41:00.292Z"
   },
   {
    "duration": 32,
    "start_time": "2021-06-13T18:41:00.446Z"
   },
   {
    "duration": 59,
    "start_time": "2021-06-13T18:41:00.480Z"
   },
   {
    "duration": 366,
    "start_time": "2021-06-13T18:41:00.541Z"
   },
   {
    "duration": 437,
    "start_time": "2021-06-13T18:41:00.910Z"
   },
   {
    "duration": 358,
    "start_time": "2021-06-13T18:41:01.351Z"
   },
   {
    "duration": 331,
    "start_time": "2021-06-13T18:41:01.712Z"
   },
   {
    "duration": 19,
    "start_time": "2021-06-13T18:41:02.046Z"
   },
   {
    "duration": 28,
    "start_time": "2021-06-13T18:41:02.069Z"
   },
   {
    "duration": 162,
    "start_time": "2021-06-13T18:41:02.100Z"
   },
   {
    "duration": 109,
    "start_time": "2021-06-13T18:41:02.264Z"
   },
   {
    "duration": 919,
    "start_time": "2021-06-13T18:41:02.377Z"
   },
   {
    "duration": 121,
    "start_time": "2021-06-13T18:41:03.299Z"
   },
   {
    "duration": 59,
    "start_time": "2021-06-13T18:41:03.423Z"
   },
   {
    "duration": 851,
    "start_time": "2021-06-13T18:41:03.486Z"
   },
   {
    "duration": 131,
    "start_time": "2021-06-13T18:41:04.339Z"
   },
   {
    "duration": 53,
    "start_time": "2021-06-13T18:41:04.474Z"
   },
   {
    "duration": 47,
    "start_time": "2021-06-13T18:41:04.529Z"
   },
   {
    "duration": 34,
    "start_time": "2021-06-13T18:41:04.579Z"
   },
   {
    "duration": 69,
    "start_time": "2021-06-13T18:41:04.615Z"
   },
   {
    "duration": 39,
    "start_time": "2021-06-13T18:41:04.695Z"
   },
   {
    "duration": 27,
    "start_time": "2021-06-13T18:41:04.737Z"
   },
   {
    "duration": 64,
    "start_time": "2021-06-13T18:41:04.766Z"
   },
   {
    "duration": 38,
    "start_time": "2021-06-13T18:41:04.832Z"
   },
   {
    "duration": 9057,
    "start_time": "2021-06-13T18:41:04.873Z"
   },
   {
    "duration": -19506,
    "start_time": "2021-06-13T18:41:33.439Z"
   },
   {
    "duration": -19508,
    "start_time": "2021-06-13T18:41:33.442Z"
   },
   {
    "duration": -19510,
    "start_time": "2021-06-13T18:41:33.445Z"
   },
   {
    "duration": -19510,
    "start_time": "2021-06-13T18:41:33.447Z"
   },
   {
    "duration": -19511,
    "start_time": "2021-06-13T18:41:33.449Z"
   },
   {
    "duration": -19518,
    "start_time": "2021-06-13T18:41:33.457Z"
   },
   {
    "duration": -19518,
    "start_time": "2021-06-13T18:41:33.459Z"
   },
   {
    "duration": -19519,
    "start_time": "2021-06-13T18:41:33.461Z"
   },
   {
    "duration": -19521,
    "start_time": "2021-06-13T18:41:33.464Z"
   },
   {
    "duration": -19520,
    "start_time": "2021-06-13T18:41:33.465Z"
   },
   {
    "duration": -19521,
    "start_time": "2021-06-13T18:41:33.467Z"
   },
   {
    "duration": -19522,
    "start_time": "2021-06-13T18:41:33.469Z"
   },
   {
    "duration": -19522,
    "start_time": "2021-06-13T18:41:33.471Z"
   },
   {
    "duration": -19523,
    "start_time": "2021-06-13T18:41:33.473Z"
   },
   {
    "duration": -19524,
    "start_time": "2021-06-13T18:41:33.475Z"
   },
   {
    "duration": -19526,
    "start_time": "2021-06-13T18:41:33.479Z"
   },
   {
    "duration": -19527,
    "start_time": "2021-06-13T18:41:33.481Z"
   },
   {
    "duration": -19528,
    "start_time": "2021-06-13T18:41:33.483Z"
   },
   {
    "duration": 251,
    "start_time": "2021-06-13T18:44:39.516Z"
   },
   {
    "duration": 215,
    "start_time": "2021-06-13T18:44:39.770Z"
   },
   {
    "duration": 161,
    "start_time": "2021-06-13T18:44:39.989Z"
   },
   {
    "duration": 36,
    "start_time": "2021-06-13T18:44:40.153Z"
   },
   {
    "duration": 47,
    "start_time": "2021-06-13T18:44:40.192Z"
   },
   {
    "duration": 584,
    "start_time": "2021-06-13T18:44:40.241Z"
   },
   {
    "duration": 637,
    "start_time": "2021-06-13T18:44:40.829Z"
   },
   {
    "duration": 372,
    "start_time": "2021-06-13T18:44:41.470Z"
   },
   {
    "duration": 386,
    "start_time": "2021-06-13T18:44:41.846Z"
   },
   {
    "duration": 7,
    "start_time": "2021-06-13T18:44:42.236Z"
   },
   {
    "duration": 12,
    "start_time": "2021-06-13T18:44:42.263Z"
   },
   {
    "duration": 179,
    "start_time": "2021-06-13T18:44:42.278Z"
   },
   {
    "duration": 105,
    "start_time": "2021-06-13T18:44:42.461Z"
   },
   {
    "duration": 1026,
    "start_time": "2021-06-13T18:44:42.570Z"
   },
   {
    "duration": 112,
    "start_time": "2021-06-13T18:44:43.599Z"
   },
   {
    "duration": 58,
    "start_time": "2021-06-13T18:44:43.713Z"
   },
   {
    "duration": 874,
    "start_time": "2021-06-13T18:44:43.775Z"
   },
   {
    "duration": 140,
    "start_time": "2021-06-13T18:44:44.652Z"
   },
   {
    "duration": 49,
    "start_time": "2021-06-13T18:44:44.794Z"
   },
   {
    "duration": 29,
    "start_time": "2021-06-13T18:44:44.863Z"
   },
   {
    "duration": 29,
    "start_time": "2021-06-13T18:44:44.894Z"
   },
   {
    "duration": 37,
    "start_time": "2021-06-13T18:44:44.961Z"
   },
   {
    "duration": 39,
    "start_time": "2021-06-13T18:44:45.001Z"
   },
   {
    "duration": 5,
    "start_time": "2021-06-13T18:44:45.062Z"
   },
   {
    "duration": 62,
    "start_time": "2021-06-13T18:44:45.070Z"
   },
   {
    "duration": 39,
    "start_time": "2021-06-13T18:44:45.135Z"
   },
   {
    "duration": 419,
    "start_time": "2021-06-13T18:44:45.183Z"
   },
   {
    "duration": 7,
    "start_time": "2021-06-13T18:44:45.606Z"
   },
   {
    "duration": 460,
    "start_time": "2021-06-13T18:44:45.616Z"
   },
   {
    "duration": 29,
    "start_time": "2021-06-13T18:44:46.079Z"
   },
   {
    "duration": 22,
    "start_time": "2021-06-13T18:44:46.111Z"
   },
   {
    "duration": 25,
    "start_time": "2021-06-13T18:44:46.164Z"
   },
   {
    "duration": 928,
    "start_time": "2021-06-13T18:44:46.192Z"
   },
   {
    "duration": 864,
    "start_time": "2021-06-13T18:44:47.122Z"
   },
   {
    "duration": 7882,
    "start_time": "2021-06-13T18:44:47.988Z"
   },
   {
    "duration": -19530,
    "start_time": "2021-06-13T18:45:15.403Z"
   },
   {
    "duration": -19531,
    "start_time": "2021-06-13T18:45:15.405Z"
   },
   {
    "duration": -19538,
    "start_time": "2021-06-13T18:45:15.414Z"
   },
   {
    "duration": -19540,
    "start_time": "2021-06-13T18:45:15.417Z"
   },
   {
    "duration": -19539,
    "start_time": "2021-06-13T18:45:15.418Z"
   },
   {
    "duration": -19540,
    "start_time": "2021-06-13T18:45:15.420Z"
   },
   {
    "duration": -19540,
    "start_time": "2021-06-13T18:45:15.422Z"
   },
   {
    "duration": -19539,
    "start_time": "2021-06-13T18:45:15.423Z"
   },
   {
    "duration": -19541,
    "start_time": "2021-06-13T18:45:15.426Z"
   },
   {
    "duration": -19552,
    "start_time": "2021-06-13T18:45:15.439Z"
   },
   {
    "duration": 10,
    "start_time": "2021-06-13T18:50:43.064Z"
   },
   {
    "duration": 110,
    "start_time": "2021-06-13T18:51:41.817Z"
   },
   {
    "duration": 7,
    "start_time": "2021-06-13T18:53:28.371Z"
   },
   {
    "duration": 280,
    "start_time": "2021-06-13T19:04:58.875Z"
   },
   {
    "duration": 298,
    "start_time": "2021-06-13T19:04:59.158Z"
   },
   {
    "duration": 184,
    "start_time": "2021-06-13T19:04:59.459Z"
   },
   {
    "duration": 66,
    "start_time": "2021-06-13T19:04:59.647Z"
   },
   {
    "duration": 55,
    "start_time": "2021-06-13T19:04:59.717Z"
   },
   {
    "duration": 544,
    "start_time": "2021-06-13T19:04:59.775Z"
   },
   {
    "duration": 625,
    "start_time": "2021-06-13T19:05:00.322Z"
   },
   {
    "duration": 526,
    "start_time": "2021-06-13T19:05:00.961Z"
   },
   {
    "duration": 446,
    "start_time": "2021-06-13T19:05:01.492Z"
   },
   {
    "duration": 21,
    "start_time": "2021-06-13T19:05:01.941Z"
   },
   {
    "duration": 18,
    "start_time": "2021-06-13T19:05:01.966Z"
   },
   {
    "duration": 185,
    "start_time": "2021-06-13T19:05:01.987Z"
   },
   {
    "duration": 106,
    "start_time": "2021-06-13T19:05:02.175Z"
   },
   {
    "duration": 884,
    "start_time": "2021-06-13T19:05:02.283Z"
   },
   {
    "duration": 114,
    "start_time": "2021-06-13T19:05:03.171Z"
   },
   {
    "duration": 54,
    "start_time": "2021-06-13T19:05:03.289Z"
   },
   {
    "duration": 889,
    "start_time": "2021-06-13T19:05:03.346Z"
   },
   {
    "duration": 132,
    "start_time": "2021-06-13T19:05:04.237Z"
   },
   {
    "duration": 11,
    "start_time": "2021-06-13T19:05:04.371Z"
   },
   {
    "duration": 79,
    "start_time": "2021-06-13T19:05:04.384Z"
   },
   {
    "duration": 30,
    "start_time": "2021-06-13T19:05:04.465Z"
   },
   {
    "duration": 29,
    "start_time": "2021-06-13T19:05:04.498Z"
   },
   {
    "duration": 47,
    "start_time": "2021-06-13T19:05:04.564Z"
   },
   {
    "duration": 68,
    "start_time": "2021-06-13T19:05:04.614Z"
   },
   {
    "duration": 5,
    "start_time": "2021-06-13T19:05:04.685Z"
   },
   {
    "duration": 74,
    "start_time": "2021-06-13T19:05:04.695Z"
   },
   {
    "duration": 21,
    "start_time": "2021-06-13T19:05:04.772Z"
   },
   {
    "duration": 467,
    "start_time": "2021-06-13T19:05:04.796Z"
   },
   {
    "duration": 436,
    "start_time": "2021-06-13T19:05:05.266Z"
   },
   {
    "duration": 8,
    "start_time": "2021-06-13T19:05:05.705Z"
   },
   {
    "duration": 42,
    "start_time": "2021-06-13T19:05:05.715Z"
   },
   {
    "duration": 28,
    "start_time": "2021-06-13T19:05:05.763Z"
   },
   {
    "duration": 26,
    "start_time": "2021-06-13T19:05:05.794Z"
   },
   {
    "duration": 830,
    "start_time": "2021-06-13T19:05:05.823Z"
   },
   {
    "duration": 845,
    "start_time": "2021-06-13T19:05:06.656Z"
   },
   {
    "duration": 859,
    "start_time": "2021-06-13T19:05:07.505Z"
   },
   {
    "duration": 474,
    "start_time": "2021-06-13T19:05:08.367Z"
   },
   {
    "duration": 462,
    "start_time": "2021-06-13T19:05:08.844Z"
   },
   {
    "duration": 475,
    "start_time": "2021-06-13T19:05:09.309Z"
   },
   {
    "duration": 7,
    "start_time": "2021-06-13T19:05:09.787Z"
   },
   {
    "duration": 12,
    "start_time": "2021-06-13T19:05:09.797Z"
   },
   {
    "duration": 15,
    "start_time": "2021-06-13T19:05:09.812Z"
   },
   {
    "duration": 43,
    "start_time": "2021-06-13T19:05:09.830Z"
   },
   {
    "duration": 17,
    "start_time": "2021-06-13T19:05:09.876Z"
   },
   {
    "duration": 14,
    "start_time": "2021-06-13T19:05:09.896Z"
   },
   {
    "duration": 161,
    "start_time": "2021-06-13T19:05:09.913Z"
   },
   {
    "duration": 104,
    "start_time": "2021-06-13T19:06:06.811Z"
   },
   {
    "duration": 957,
    "start_time": "2021-06-13T19:26:49.509Z"
   },
   {
    "duration": 191,
    "start_time": "2021-06-13T19:26:50.468Z"
   },
   {
    "duration": 140,
    "start_time": "2021-06-13T19:26:50.662Z"
   },
   {
    "duration": 33,
    "start_time": "2021-06-13T19:26:50.804Z"
   },
   {
    "duration": 58,
    "start_time": "2021-06-13T19:26:50.840Z"
   },
   {
    "duration": 446,
    "start_time": "2021-06-13T19:26:50.900Z"
   },
   {
    "duration": 390,
    "start_time": "2021-06-13T19:26:51.349Z"
   },
   {
    "duration": 324,
    "start_time": "2021-06-13T19:26:51.743Z"
   },
   {
    "duration": 324,
    "start_time": "2021-06-13T19:26:52.070Z"
   },
   {
    "duration": 8,
    "start_time": "2021-06-13T19:26:52.396Z"
   },
   {
    "duration": 9,
    "start_time": "2021-06-13T19:26:52.406Z"
   },
   {
    "duration": 183,
    "start_time": "2021-06-13T19:26:52.418Z"
   },
   {
    "duration": 110,
    "start_time": "2021-06-13T19:26:52.604Z"
   },
   {
    "duration": 830,
    "start_time": "2021-06-13T19:26:52.716Z"
   },
   {
    "duration": 101,
    "start_time": "2021-06-13T19:26:53.548Z"
   },
   {
    "duration": 58,
    "start_time": "2021-06-13T19:26:53.652Z"
   },
   {
    "duration": 650,
    "start_time": "2021-06-13T19:26:53.712Z"
   },
   {
    "duration": 1112,
    "start_time": "2021-06-13T19:26:54.365Z"
   },
   {
    "duration": 1053,
    "start_time": "2021-06-13T19:26:54.427Z"
   },
   {
    "duration": 1048,
    "start_time": "2021-06-13T19:26:54.434Z"
   },
   {
    "duration": 1047,
    "start_time": "2021-06-13T19:26:54.436Z"
   },
   {
    "duration": 1044,
    "start_time": "2021-06-13T19:26:54.440Z"
   },
   {
    "duration": 1044,
    "start_time": "2021-06-13T19:26:54.442Z"
   },
   {
    "duration": 1043,
    "start_time": "2021-06-13T19:26:54.444Z"
   },
   {
    "duration": 1042,
    "start_time": "2021-06-13T19:26:54.447Z"
   },
   {
    "duration": 1042,
    "start_time": "2021-06-13T19:26:54.448Z"
   },
   {
    "duration": 1041,
    "start_time": "2021-06-13T19:26:54.450Z"
   },
   {
    "duration": 1040,
    "start_time": "2021-06-13T19:26:54.453Z"
   },
   {
    "duration": 1034,
    "start_time": "2021-06-13T19:26:54.460Z"
   },
   {
    "duration": 1034,
    "start_time": "2021-06-13T19:26:54.462Z"
   },
   {
    "duration": 1033,
    "start_time": "2021-06-13T19:26:54.464Z"
   },
   {
    "duration": 1032,
    "start_time": "2021-06-13T19:26:54.466Z"
   },
   {
    "duration": 1032,
    "start_time": "2021-06-13T19:26:54.468Z"
   },
   {
    "duration": 1030,
    "start_time": "2021-06-13T19:26:54.471Z"
   },
   {
    "duration": 1028,
    "start_time": "2021-06-13T19:26:54.474Z"
   },
   {
    "duration": 1027,
    "start_time": "2021-06-13T19:26:54.476Z"
   },
   {
    "duration": 1027,
    "start_time": "2021-06-13T19:26:54.478Z"
   },
   {
    "duration": 1026,
    "start_time": "2021-06-13T19:26:54.480Z"
   },
   {
    "duration": 1026,
    "start_time": "2021-06-13T19:26:54.482Z"
   },
   {
    "duration": 1025,
    "start_time": "2021-06-13T19:26:54.484Z"
   },
   {
    "duration": 1024,
    "start_time": "2021-06-13T19:26:54.486Z"
   },
   {
    "duration": 1023,
    "start_time": "2021-06-13T19:26:54.489Z"
   },
   {
    "duration": 1018,
    "start_time": "2021-06-13T19:26:54.495Z"
   },
   {
    "duration": 1017,
    "start_time": "2021-06-13T19:26:54.497Z"
   },
   {
    "duration": 1016,
    "start_time": "2021-06-13T19:26:54.499Z"
   },
   {
    "duration": 1016,
    "start_time": "2021-06-13T19:26:54.501Z"
   },
   {
    "duration": 1057,
    "start_time": "2021-06-13T19:28:04.015Z"
   },
   {
    "duration": 1128,
    "start_time": "2021-06-13T19:29:43.732Z"
   },
   {
    "duration": 1116,
    "start_time": "2021-06-13T19:30:03.930Z"
   },
   {
    "duration": 53,
    "start_time": "2021-06-13T19:30:22.142Z"
   },
   {
    "duration": 55,
    "start_time": "2021-06-13T19:31:15.072Z"
   },
   {
    "duration": 11865,
    "start_time": "2021-06-13T19:35:16.315Z"
   },
   {
    "duration": 6305,
    "start_time": "2021-06-13T19:36:54.849Z"
   },
   {
    "duration": 1001,
    "start_time": "2021-06-13T19:40:11.466Z"
   },
   {
    "duration": 189,
    "start_time": "2021-06-13T19:40:12.469Z"
   },
   {
    "duration": 164,
    "start_time": "2021-06-13T19:40:12.661Z"
   },
   {
    "duration": 33,
    "start_time": "2021-06-13T19:40:12.829Z"
   },
   {
    "duration": 58,
    "start_time": "2021-06-13T19:40:12.864Z"
   },
   {
    "duration": 436,
    "start_time": "2021-06-13T19:40:12.925Z"
   },
   {
    "duration": 382,
    "start_time": "2021-06-13T19:40:13.363Z"
   },
   {
    "duration": 321,
    "start_time": "2021-06-13T19:40:13.749Z"
   },
   {
    "duration": 321,
    "start_time": "2021-06-13T19:40:14.073Z"
   },
   {
    "duration": 5,
    "start_time": "2021-06-13T19:40:14.401Z"
   },
   {
    "duration": 10,
    "start_time": "2021-06-13T19:40:14.409Z"
   },
   {
    "duration": 196,
    "start_time": "2021-06-13T19:40:14.422Z"
   },
   {
    "duration": 108,
    "start_time": "2021-06-13T19:40:14.620Z"
   },
   {
    "duration": 820,
    "start_time": "2021-06-13T19:40:14.731Z"
   },
   {
    "duration": 96,
    "start_time": "2021-06-13T19:40:15.553Z"
   },
   {
    "duration": 60,
    "start_time": "2021-06-13T19:40:15.651Z"
   },
   {
    "duration": 665,
    "start_time": "2021-06-13T19:40:15.713Z"
   },
   {
    "duration": 93,
    "start_time": "2021-06-13T19:40:16.381Z"
   },
   {
    "duration": 6258,
    "start_time": "2021-06-13T19:40:16.476Z"
   },
   {
    "duration": 1043,
    "start_time": "2021-06-13T19:40:21.697Z"
   },
   {
    "duration": 1042,
    "start_time": "2021-06-13T19:40:21.700Z"
   },
   {
    "duration": 1042,
    "start_time": "2021-06-13T19:40:21.702Z"
   },
   {
    "duration": 1040,
    "start_time": "2021-06-13T19:40:21.706Z"
   },
   {
    "duration": 1041,
    "start_time": "2021-06-13T19:40:21.708Z"
   },
   {
    "duration": 1036,
    "start_time": "2021-06-13T19:40:21.715Z"
   },
   {
    "duration": 1035,
    "start_time": "2021-06-13T19:40:21.718Z"
   },
   {
    "duration": 1035,
    "start_time": "2021-06-13T19:40:21.720Z"
   },
   {
    "duration": 1034,
    "start_time": "2021-06-13T19:40:21.723Z"
   },
   {
    "duration": 1029,
    "start_time": "2021-06-13T19:40:21.729Z"
   },
   {
    "duration": 1028,
    "start_time": "2021-06-13T19:40:21.731Z"
   },
   {
    "duration": 1028,
    "start_time": "2021-06-13T19:40:21.733Z"
   },
   {
    "duration": 1027,
    "start_time": "2021-06-13T19:40:21.735Z"
   },
   {
    "duration": 1027,
    "start_time": "2021-06-13T19:40:21.737Z"
   },
   {
    "duration": 1021,
    "start_time": "2021-06-13T19:40:21.744Z"
   },
   {
    "duration": 1019,
    "start_time": "2021-06-13T19:40:21.747Z"
   },
   {
    "duration": 1019,
    "start_time": "2021-06-13T19:40:21.749Z"
   },
   {
    "duration": 1018,
    "start_time": "2021-06-13T19:40:21.751Z"
   },
   {
    "duration": 1017,
    "start_time": "2021-06-13T19:40:21.753Z"
   },
   {
    "duration": 1016,
    "start_time": "2021-06-13T19:40:21.756Z"
   },
   {
    "duration": 1010,
    "start_time": "2021-06-13T19:40:21.763Z"
   },
   {
    "duration": 1009,
    "start_time": "2021-06-13T19:40:21.766Z"
   },
   {
    "duration": 1008,
    "start_time": "2021-06-13T19:40:21.768Z"
   },
   {
    "duration": 1030,
    "start_time": "2021-06-13T19:40:21.770Z"
   },
   {
    "duration": 1029,
    "start_time": "2021-06-13T19:40:21.773Z"
   },
   {
    "duration": 1024,
    "start_time": "2021-06-13T19:40:21.779Z"
   },
   {
    "duration": 1023,
    "start_time": "2021-06-13T19:40:21.782Z"
   },
   {
    "duration": 55,
    "start_time": "2021-06-13T19:40:52.155Z"
   },
   {
    "duration": 53,
    "start_time": "2021-06-13T19:41:06.296Z"
   },
   {
    "duration": 56,
    "start_time": "2021-06-13T19:42:26.819Z"
   },
   {
    "duration": 59,
    "start_time": "2021-06-13T19:42:42.836Z"
   },
   {
    "duration": 1127,
    "start_time": "2021-06-13T19:44:01.777Z"
   },
   {
    "duration": 1198,
    "start_time": "2021-06-13T19:56:50.918Z"
   },
   {
    "duration": 1160,
    "start_time": "2021-06-13T19:58:01.265Z"
   },
   {
    "duration": 44,
    "start_time": "2021-06-13T19:59:09.106Z"
   },
   {
    "duration": 37,
    "start_time": "2021-06-13T19:59:56.965Z"
   },
   {
    "duration": 54,
    "start_time": "2021-06-13T20:02:03.204Z"
   },
   {
    "duration": 42,
    "start_time": "2021-06-13T20:04:14.360Z"
   },
   {
    "duration": 40,
    "start_time": "2021-06-13T20:05:15.885Z"
   },
   {
    "duration": 31,
    "start_time": "2021-06-13T20:05:23.736Z"
   },
   {
    "duration": 35,
    "start_time": "2021-06-13T20:05:32.817Z"
   },
   {
    "duration": 9,
    "start_time": "2021-06-13T20:06:39.482Z"
   },
   {
    "duration": 51,
    "start_time": "2021-06-13T20:07:33.618Z"
   },
   {
    "duration": 44,
    "start_time": "2021-06-13T20:12:24.758Z"
   },
   {
    "duration": 28,
    "start_time": "2021-06-13T20:12:27.236Z"
   },
   {
    "duration": 28,
    "start_time": "2021-06-13T20:12:29.084Z"
   },
   {
    "duration": 34,
    "start_time": "2021-06-13T20:12:31.937Z"
   },
   {
    "duration": 39,
    "start_time": "2021-06-13T20:12:40.903Z"
   },
   {
    "duration": 6,
    "start_time": "2021-06-13T20:12:43.400Z"
   },
   {
    "duration": 49,
    "start_time": "2021-06-13T20:12:46.671Z"
   },
   {
    "duration": 18,
    "start_time": "2021-06-13T20:17:44.296Z"
   },
   {
    "duration": 15,
    "start_time": "2021-06-13T20:18:22.771Z"
   },
   {
    "duration": 9,
    "start_time": "2021-06-13T20:18:39.461Z"
   },
   {
    "duration": 469,
    "start_time": "2021-06-13T20:22:33.372Z"
   },
   {
    "duration": 323,
    "start_time": "2021-06-13T20:22:39.839Z"
   },
   {
    "duration": 7,
    "start_time": "2021-06-13T20:22:59.892Z"
   },
   {
    "duration": 25,
    "start_time": "2021-06-13T20:23:10.671Z"
   },
   {
    "duration": 20,
    "start_time": "2021-06-13T20:23:12.999Z"
   },
   {
    "duration": 23,
    "start_time": "2021-06-13T20:23:15.033Z"
   },
   {
    "duration": 708,
    "start_time": "2021-06-13T20:23:17.016Z"
   },
   {
    "duration": 819,
    "start_time": "2021-06-13T20:23:20.294Z"
   },
   {
    "duration": 802,
    "start_time": "2021-06-13T20:23:24.214Z"
   },
   {
    "duration": 426,
    "start_time": "2021-06-13T20:23:27.300Z"
   },
   {
    "duration": 400,
    "start_time": "2021-06-13T20:23:30.170Z"
   },
   {
    "duration": 422,
    "start_time": "2021-06-13T20:23:32.256Z"
   },
   {
    "duration": 6,
    "start_time": "2021-06-13T20:23:40.397Z"
   },
   {
    "duration": 7,
    "start_time": "2021-06-13T20:23:42.034Z"
   },
   {
    "duration": 7,
    "start_time": "2021-06-13T20:23:43.531Z"
   },
   {
    "duration": 17,
    "start_time": "2021-06-13T20:23:45.624Z"
   },
   {
    "duration": 18,
    "start_time": "2021-06-13T20:23:47.969Z"
   },
   {
    "duration": 511,
    "start_time": "2021-06-13T20:23:51.072Z"
   },
   {
    "duration": 13,
    "start_time": "2021-06-13T20:24:02.684Z"
   },
   {
    "duration": 10,
    "start_time": "2021-06-13T20:24:23.411Z"
   },
   {
    "duration": 10,
    "start_time": "2021-06-13T20:24:35.132Z"
   },
   {
    "duration": 470,
    "start_time": "2021-06-13T20:28:45.641Z"
   },
   {
    "duration": 500,
    "start_time": "2021-06-13T20:29:40.128Z"
   },
   {
    "duration": 86,
    "start_time": "2021-06-13T20:30:52.156Z"
   },
   {
    "duration": 447,
    "start_time": "2021-06-13T20:31:23.145Z"
   },
   {
    "duration": 369,
    "start_time": "2021-06-13T20:31:48.740Z"
   },
   {
    "duration": 1394,
    "start_time": "2021-06-13T20:32:07.529Z"
   },
   {
    "duration": 292,
    "start_time": "2021-06-13T20:32:08.927Z"
   },
   {
    "duration": 217,
    "start_time": "2021-06-13T20:32:09.224Z"
   },
   {
    "duration": 43,
    "start_time": "2021-06-13T20:32:09.446Z"
   },
   {
    "duration": 72,
    "start_time": "2021-06-13T20:32:09.502Z"
   },
   {
    "duration": 711,
    "start_time": "2021-06-13T20:32:09.578Z"
   },
   {
    "duration": 648,
    "start_time": "2021-06-13T20:32:10.293Z"
   },
   {
    "duration": 528,
    "start_time": "2021-06-13T20:32:10.948Z"
   },
   {
    "duration": 520,
    "start_time": "2021-06-13T20:32:11.480Z"
   },
   {
    "duration": 8,
    "start_time": "2021-06-13T20:32:12.004Z"
   },
   {
    "duration": 13,
    "start_time": "2021-06-13T20:32:12.015Z"
   },
   {
    "duration": 295,
    "start_time": "2021-06-13T20:32:12.032Z"
   },
   {
    "duration": 160,
    "start_time": "2021-06-13T20:32:12.331Z"
   },
   {
    "duration": 1386,
    "start_time": "2021-06-13T20:32:12.502Z"
   },
   {
    "duration": 137,
    "start_time": "2021-06-13T20:32:13.891Z"
   },
   {
    "duration": 82,
    "start_time": "2021-06-13T20:32:14.031Z"
   },
   {
    "duration": 1154,
    "start_time": "2021-06-13T20:32:14.116Z"
   },
   {
    "duration": 102,
    "start_time": "2021-06-13T20:32:15.273Z"
   },
   {
    "duration": 23,
    "start_time": "2021-06-13T20:32:15.378Z"
   },
   {
    "duration": 75,
    "start_time": "2021-06-13T20:32:15.404Z"
   },
   {
    "duration": 444,
    "start_time": "2021-06-13T20:32:15.502Z"
   },
   {
    "duration": 1045,
    "start_time": "2021-06-13T20:32:14.907Z"
   },
   {
    "duration": 1044,
    "start_time": "2021-06-13T20:32:14.910Z"
   },
   {
    "duration": 1045,
    "start_time": "2021-06-13T20:32:14.912Z"
   },
   {
    "duration": 1045,
    "start_time": "2021-06-13T20:32:14.914Z"
   },
   {
    "duration": 1044,
    "start_time": "2021-06-13T20:32:14.917Z"
   },
   {
    "duration": 1044,
    "start_time": "2021-06-13T20:32:14.919Z"
   },
   {
    "duration": 1045,
    "start_time": "2021-06-13T20:32:14.921Z"
   },
   {
    "duration": 1045,
    "start_time": "2021-06-13T20:32:14.923Z"
   },
   {
    "duration": 1044,
    "start_time": "2021-06-13T20:32:14.926Z"
   },
   {
    "duration": 1044,
    "start_time": "2021-06-13T20:32:14.928Z"
   },
   {
    "duration": 1043,
    "start_time": "2021-06-13T20:32:14.931Z"
   },
   {
    "duration": 1044,
    "start_time": "2021-06-13T20:32:14.933Z"
   },
   {
    "duration": 1039,
    "start_time": "2021-06-13T20:32:14.940Z"
   },
   {
    "duration": 1040,
    "start_time": "2021-06-13T20:32:14.942Z"
   },
   {
    "duration": 1040,
    "start_time": "2021-06-13T20:32:14.944Z"
   },
   {
    "duration": 1035,
    "start_time": "2021-06-13T20:32:14.951Z"
   },
   {
    "duration": 1045,
    "start_time": "2021-06-13T20:32:14.954Z"
   },
   {
    "duration": 1046,
    "start_time": "2021-06-13T20:32:14.956Z"
   },
   {
    "duration": 1046,
    "start_time": "2021-06-13T20:32:14.958Z"
   },
   {
    "duration": 1047,
    "start_time": "2021-06-13T20:32:14.960Z"
   },
   {
    "duration": 1047,
    "start_time": "2021-06-13T20:32:14.962Z"
   },
   {
    "duration": 1043,
    "start_time": "2021-06-13T20:32:14.969Z"
   },
   {
    "duration": 1043,
    "start_time": "2021-06-13T20:32:14.971Z"
   },
   {
    "duration": 1043,
    "start_time": "2021-06-13T20:32:14.973Z"
   },
   {
    "duration": 1043,
    "start_time": "2021-06-13T20:32:14.976Z"
   },
   {
    "duration": 4,
    "start_time": "2021-06-13T20:36:36.154Z"
   },
   {
    "duration": 4,
    "start_time": "2021-06-13T20:36:38.122Z"
   },
   {
    "duration": 341,
    "start_time": "2021-06-13T20:36:47.498Z"
   },
   {
    "duration": 47,
    "start_time": "2021-06-13T20:37:30.388Z"
   },
   {
    "duration": 3,
    "start_time": "2021-06-13T20:37:31.296Z"
   },
   {
    "duration": 30,
    "start_time": "2021-06-13T20:37:31.945Z"
   },
   {
    "duration": 34,
    "start_time": "2021-06-13T20:37:38.996Z"
   },
   {
    "duration": 41,
    "start_time": "2021-06-13T20:37:43.771Z"
   },
   {
    "duration": 6,
    "start_time": "2021-06-13T20:37:44.519Z"
   },
   {
    "duration": 50,
    "start_time": "2021-06-13T20:37:45.583Z"
   },
   {
    "duration": 9,
    "start_time": "2021-06-13T20:37:47.875Z"
   },
   {
    "duration": 370,
    "start_time": "2021-06-13T20:37:49.135Z"
   },
   {
    "duration": 345,
    "start_time": "2021-06-13T20:38:04.299Z"
   },
   {
    "duration": 6,
    "start_time": "2021-06-13T20:38:08.898Z"
   },
   {
    "duration": 27,
    "start_time": "2021-06-13T20:38:12.086Z"
   },
   {
    "duration": 23,
    "start_time": "2021-06-13T20:38:13.034Z"
   },
   {
    "duration": 23,
    "start_time": "2021-06-13T20:38:13.995Z"
   },
   {
    "duration": 749,
    "start_time": "2021-06-13T20:38:14.754Z"
   },
   {
    "duration": 829,
    "start_time": "2021-06-13T20:38:16.583Z"
   },
   {
    "duration": 692,
    "start_time": "2021-06-13T20:38:19.758Z"
   },
   {
    "duration": 428,
    "start_time": "2021-06-13T20:38:22.466Z"
   },
   {
    "duration": 402,
    "start_time": "2021-06-13T20:38:23.650Z"
   },
   {
    "duration": 430,
    "start_time": "2021-06-13T20:38:24.414Z"
   },
   {
    "duration": 6,
    "start_time": "2021-06-13T20:38:29.615Z"
   },
   {
    "duration": 7,
    "start_time": "2021-06-13T20:38:30.503Z"
   },
   {
    "duration": 9,
    "start_time": "2021-06-13T20:38:31.914Z"
   },
   {
    "duration": 15,
    "start_time": "2021-06-13T20:38:36.855Z"
   },
   {
    "duration": 16,
    "start_time": "2021-06-13T20:38:37.648Z"
   },
   {
    "duration": 545,
    "start_time": "2021-06-13T20:38:44.734Z"
   },
   {
    "duration": 12,
    "start_time": "2021-06-13T20:38:49.347Z"
   },
   {
    "duration": 13,
    "start_time": "2021-06-13T20:41:05.951Z"
   },
   {
    "duration": 11,
    "start_time": "2021-06-13T20:41:23.420Z"
   },
   {
    "duration": 562,
    "start_time": "2021-06-13T20:46:35.392Z"
   },
   {
    "duration": 359,
    "start_time": "2021-06-13T20:46:40.043Z"
   },
   {
    "duration": 407,
    "start_time": "2021-06-13T20:47:03.205Z"
   },
   {
    "duration": 487,
    "start_time": "2021-06-13T20:47:09.132Z"
   },
   {
    "duration": 415,
    "start_time": "2021-06-13T20:47:16.298Z"
   },
   {
    "duration": 360,
    "start_time": "2021-06-13T20:47:20.415Z"
   },
   {
    "duration": 945,
    "start_time": "2021-06-13T21:06:41.752Z"
   },
   {
    "duration": 231,
    "start_time": "2021-06-13T21:06:42.701Z"
   },
   {
    "duration": 149,
    "start_time": "2021-06-13T21:06:42.936Z"
   },
   {
    "duration": 40,
    "start_time": "2021-06-13T21:06:43.087Z"
   },
   {
    "duration": 46,
    "start_time": "2021-06-13T21:06:43.129Z"
   },
   {
    "duration": 469,
    "start_time": "2021-06-13T21:06:43.178Z"
   },
   {
    "duration": 404,
    "start_time": "2021-06-13T21:06:43.650Z"
   },
   {
    "duration": 347,
    "start_time": "2021-06-13T21:06:44.058Z"
   },
   {
    "duration": 352,
    "start_time": "2021-06-13T21:06:44.409Z"
   },
   {
    "duration": 7,
    "start_time": "2021-06-13T21:06:44.764Z"
   },
   {
    "duration": 34,
    "start_time": "2021-06-13T21:06:44.773Z"
   },
   {
    "duration": 181,
    "start_time": "2021-06-13T21:06:44.809Z"
   },
   {
    "duration": 124,
    "start_time": "2021-06-13T21:06:44.992Z"
   },
   {
    "duration": 882,
    "start_time": "2021-06-13T21:06:45.119Z"
   },
   {
    "duration": 97,
    "start_time": "2021-06-13T21:06:46.006Z"
   },
   {
    "duration": 54,
    "start_time": "2021-06-13T21:06:46.106Z"
   },
   {
    "duration": 1083,
    "start_time": "2021-06-13T21:06:46.162Z"
   },
   {
    "duration": 97,
    "start_time": "2021-06-13T21:06:47.249Z"
   },
   {
    "duration": 11,
    "start_time": "2021-06-13T21:06:47.350Z"
   },
   {
    "duration": 96,
    "start_time": "2021-06-13T21:06:47.365Z"
   },
   {
    "duration": 4,
    "start_time": "2021-06-13T21:06:47.464Z"
   },
   {
    "duration": 64,
    "start_time": "2021-06-13T21:06:47.471Z"
   },
   {
    "duration": 63,
    "start_time": "2021-06-13T21:06:47.543Z"
   },
   {
    "duration": 40,
    "start_time": "2021-06-13T21:06:47.609Z"
   },
   {
    "duration": 4,
    "start_time": "2021-06-13T21:06:47.652Z"
   },
   {
    "duration": 78,
    "start_time": "2021-06-13T21:06:47.659Z"
   },
   {
    "duration": 10,
    "start_time": "2021-06-13T21:06:47.740Z"
   },
   {
    "duration": 442,
    "start_time": "2021-06-13T21:06:47.753Z"
   },
   {
    "duration": 362,
    "start_time": "2021-06-13T21:06:48.201Z"
   },
   {
    "duration": 7,
    "start_time": "2021-06-13T21:06:48.566Z"
   },
   {
    "duration": 48,
    "start_time": "2021-06-13T21:06:48.576Z"
   },
   {
    "duration": 19,
    "start_time": "2021-06-13T21:06:48.627Z"
   },
   {
    "duration": 25,
    "start_time": "2021-06-13T21:06:48.649Z"
   },
   {
    "duration": 750,
    "start_time": "2021-06-13T21:06:48.709Z"
   },
   {
    "duration": 907,
    "start_time": "2021-06-13T21:06:49.462Z"
   },
   {
    "duration": 760,
    "start_time": "2021-06-13T21:06:50.371Z"
   },
   {
    "duration": 482,
    "start_time": "2021-06-13T21:06:51.133Z"
   },
   {
    "duration": 439,
    "start_time": "2021-06-13T21:06:51.618Z"
   },
   {
    "duration": 477,
    "start_time": "2021-06-13T21:06:52.060Z"
   },
   {
    "duration": 6,
    "start_time": "2021-06-13T21:06:52.540Z"
   },
   {
    "duration": 7,
    "start_time": "2021-06-13T21:06:52.550Z"
   },
   {
    "duration": 45,
    "start_time": "2021-06-13T21:06:52.560Z"
   },
   {
    "duration": 22,
    "start_time": "2021-06-13T21:06:52.608Z"
   },
   {
    "duration": 19,
    "start_time": "2021-06-13T21:06:52.632Z"
   },
   {
    "duration": 578,
    "start_time": "2021-06-13T21:06:52.654Z"
   },
   {
    "duration": 11,
    "start_time": "2021-06-13T21:06:53.234Z"
   },
   {
    "duration": 57,
    "start_time": "2021-06-14T14:40:50.388Z"
   },
   {
    "duration": 786,
    "start_time": "2021-06-14T14:41:35.739Z"
   },
   {
    "duration": 159,
    "start_time": "2021-06-14T14:41:36.527Z"
   },
   {
    "duration": 119,
    "start_time": "2021-06-14T14:41:36.688Z"
   },
   {
    "duration": 27,
    "start_time": "2021-06-14T14:41:36.809Z"
   },
   {
    "duration": 83,
    "start_time": "2021-06-14T14:41:36.838Z"
   },
   {
    "duration": 311,
    "start_time": "2021-06-14T14:41:36.923Z"
   },
   {
    "duration": 275,
    "start_time": "2021-06-14T14:41:37.236Z"
   },
   {
    "duration": 233,
    "start_time": "2021-06-14T14:41:37.513Z"
   },
   {
    "duration": 267,
    "start_time": "2021-06-14T14:41:37.748Z"
   },
   {
    "duration": 4,
    "start_time": "2021-06-14T14:41:38.017Z"
   },
   {
    "duration": 20,
    "start_time": "2021-06-14T14:41:38.023Z"
   },
   {
    "duration": 134,
    "start_time": "2021-06-14T14:41:38.045Z"
   },
   {
    "duration": 84,
    "start_time": "2021-06-14T14:41:38.180Z"
   },
   {
    "duration": 565,
    "start_time": "2021-06-14T14:41:38.265Z"
   },
   {
    "duration": 89,
    "start_time": "2021-06-14T14:41:38.833Z"
   },
   {
    "duration": 38,
    "start_time": "2021-06-14T14:41:38.924Z"
   },
   {
    "duration": 470,
    "start_time": "2021-06-14T14:41:38.964Z"
   },
   {
    "duration": 58,
    "start_time": "2021-06-14T14:41:39.436Z"
   },
   {
    "duration": 8,
    "start_time": "2021-06-14T14:41:39.496Z"
   },
   {
    "duration": 39,
    "start_time": "2021-06-14T14:41:39.506Z"
   },
   {
    "duration": 2,
    "start_time": "2021-06-14T14:41:39.547Z"
   },
   {
    "duration": 49,
    "start_time": "2021-06-14T14:41:39.551Z"
   },
   {
    "duration": 22,
    "start_time": "2021-06-14T14:41:39.603Z"
   },
   {
    "duration": 24,
    "start_time": "2021-06-14T14:41:39.627Z"
   },
   {
    "duration": 3,
    "start_time": "2021-06-14T14:41:39.653Z"
   },
   {
    "duration": 57,
    "start_time": "2021-06-14T14:41:39.658Z"
   },
   {
    "duration": 6,
    "start_time": "2021-06-14T14:41:39.716Z"
   },
   {
    "duration": 401,
    "start_time": "2021-06-14T14:41:39.724Z"
   },
   {
    "duration": -26737,
    "start_time": "2021-06-14T14:42:06.864Z"
   },
   {
    "duration": -26739,
    "start_time": "2021-06-14T14:42:06.867Z"
   },
   {
    "duration": -26740,
    "start_time": "2021-06-14T14:42:06.869Z"
   },
   {
    "duration": -26741,
    "start_time": "2021-06-14T14:42:06.871Z"
   },
   {
    "duration": -26742,
    "start_time": "2021-06-14T14:42:06.873Z"
   },
   {
    "duration": -26746,
    "start_time": "2021-06-14T14:42:06.877Z"
   },
   {
    "duration": -26747,
    "start_time": "2021-06-14T14:42:06.879Z"
   },
   {
    "duration": -26748,
    "start_time": "2021-06-14T14:42:06.881Z"
   },
   {
    "duration": -26749,
    "start_time": "2021-06-14T14:42:06.883Z"
   },
   {
    "duration": -26752,
    "start_time": "2021-06-14T14:42:06.886Z"
   },
   {
    "duration": -26757,
    "start_time": "2021-06-14T14:42:06.892Z"
   },
   {
    "duration": -26758,
    "start_time": "2021-06-14T14:42:06.894Z"
   },
   {
    "duration": -26760,
    "start_time": "2021-06-14T14:42:06.897Z"
   },
   {
    "duration": -26761,
    "start_time": "2021-06-14T14:42:06.899Z"
   },
   {
    "duration": -26763,
    "start_time": "2021-06-14T14:42:06.901Z"
   },
   {
    "duration": -26764,
    "start_time": "2021-06-14T14:42:06.903Z"
   },
   {
    "duration": -26765,
    "start_time": "2021-06-14T14:42:06.905Z"
   },
   {
    "duration": -26765,
    "start_time": "2021-06-14T14:42:06.906Z"
   },
   {
    "duration": 239,
    "start_time": "2021-06-14T14:42:03.287Z"
   },
   {
    "duration": 215,
    "start_time": "2021-06-14T14:42:06.453Z"
   },
   {
    "duration": 160,
    "start_time": "2021-06-14T14:42:06.670Z"
   },
   {
    "duration": 116,
    "start_time": "2021-06-14T14:42:06.832Z"
   },
   {
    "duration": 27,
    "start_time": "2021-06-14T14:42:06.950Z"
   },
   {
    "duration": 72,
    "start_time": "2021-06-14T14:42:06.979Z"
   },
   {
    "duration": 241,
    "start_time": "2021-06-14T14:42:07.052Z"
   },
   {
    "duration": 275,
    "start_time": "2021-06-14T14:42:07.295Z"
   },
   {
    "duration": 233,
    "start_time": "2021-06-14T14:42:07.572Z"
   },
   {
    "duration": 198,
    "start_time": "2021-06-14T14:42:07.808Z"
   },
   {
    "duration": 5,
    "start_time": "2021-06-14T14:42:08.007Z"
   },
   {
    "duration": 8,
    "start_time": "2021-06-14T14:42:08.014Z"
   },
   {
    "duration": 139,
    "start_time": "2021-06-14T14:42:08.024Z"
   },
   {
    "duration": 78,
    "start_time": "2021-06-14T14:42:08.165Z"
   },
   {
    "duration": 679,
    "start_time": "2021-06-14T14:42:08.245Z"
   },
   {
    "duration": 70,
    "start_time": "2021-06-14T14:42:08.926Z"
   },
   {
    "duration": 36,
    "start_time": "2021-06-14T14:42:08.999Z"
   },
   {
    "duration": 508,
    "start_time": "2021-06-14T14:42:09.037Z"
   },
   {
    "duration": 52,
    "start_time": "2021-06-14T14:42:09.547Z"
   },
   {
    "duration": 9,
    "start_time": "2021-06-14T14:42:09.601Z"
   },
   {
    "duration": 48,
    "start_time": "2021-06-14T14:42:09.611Z"
   },
   {
    "duration": 2,
    "start_time": "2021-06-14T14:42:09.661Z"
   },
   {
    "duration": 38,
    "start_time": "2021-06-14T14:42:09.666Z"
   },
   {
    "duration": 23,
    "start_time": "2021-06-14T14:42:09.708Z"
   },
   {
    "duration": 25,
    "start_time": "2021-06-14T14:42:09.734Z"
   },
   {
    "duration": 8,
    "start_time": "2021-06-14T14:42:09.787Z"
   },
   {
    "duration": 38,
    "start_time": "2021-06-14T14:42:09.798Z"
   },
   {
    "duration": 6,
    "start_time": "2021-06-14T14:42:09.838Z"
   },
   {
    "duration": 265,
    "start_time": "2021-06-14T14:42:09.845Z"
   },
   {
    "duration": 246,
    "start_time": "2021-06-14T14:42:10.112Z"
   },
   {
    "duration": 4,
    "start_time": "2021-06-14T14:42:10.360Z"
   },
   {
    "duration": 36,
    "start_time": "2021-06-14T14:42:10.366Z"
   },
   {
    "duration": 13,
    "start_time": "2021-06-14T14:42:10.404Z"
   },
   {
    "duration": 19,
    "start_time": "2021-06-14T14:42:10.419Z"
   },
   {
    "duration": 520,
    "start_time": "2021-06-14T14:42:10.439Z"
   },
   {
    "duration": 567,
    "start_time": "2021-06-14T14:42:10.960Z"
   },
   {
    "duration": 515,
    "start_time": "2021-06-14T14:42:11.528Z"
   },
   {
    "duration": 323,
    "start_time": "2021-06-14T14:42:12.045Z"
   },
   {
    "duration": 393,
    "start_time": "2021-06-14T14:42:12.370Z"
   },
   {
    "duration": 328,
    "start_time": "2021-06-14T14:42:12.765Z"
   },
   {
    "duration": 5,
    "start_time": "2021-06-14T14:42:13.095Z"
   },
   {
    "duration": 8,
    "start_time": "2021-06-14T14:42:13.102Z"
   },
   {
    "duration": 5,
    "start_time": "2021-06-14T14:42:13.111Z"
   },
   {
    "duration": 12,
    "start_time": "2021-06-14T14:42:13.118Z"
   },
   {
    "duration": 11,
    "start_time": "2021-06-14T14:42:13.131Z"
   },
   {
    "duration": 400,
    "start_time": "2021-06-14T14:42:13.143Z"
   },
   {
    "duration": 7,
    "start_time": "2021-06-14T14:42:13.545Z"
   },
   {
    "duration": 56,
    "start_time": "2021-06-14T14:43:27.613Z"
   },
   {
    "duration": 58,
    "start_time": "2021-06-14T14:45:37.833Z"
   }
  ],
  "kernelspec": {
   "display_name": "Python 3",
   "language": "python",
   "name": "python3"
  },
  "language_info": {
   "codemirror_mode": {
    "name": "ipython",
    "version": 3
   },
   "file_extension": ".py",
   "mimetype": "text/x-python",
   "name": "python",
   "nbconvert_exporter": "python",
   "pygments_lexer": "ipython3",
   "version": "3.7.8"
  },
  "toc": {
   "base_numbering": 1,
   "nav_menu": {},
   "number_sections": true,
   "sideBar": true,
   "skip_h1_title": true,
   "title_cell": "Table of Contents",
   "title_sidebar": "Contents",
   "toc_cell": false,
   "toc_position": {
    "height": "calc(100% - 180px)",
    "left": "10px",
    "top": "150px",
    "width": "165px"
   },
   "toc_section_display": true,
   "toc_window_display": true
  }
 },
 "nbformat": 4,
 "nbformat_minor": 2
}
